{
  "nbformat": 4,
  "nbformat_minor": 0,
  "metadata": {
    "colab": {
      "provenance": []
    },
    "kernelspec": {
      "name": "python3",
      "display_name": "Python 3"
    },
    "language_info": {
      "name": "python"
    }
  },
  "cells": [
    {
      "cell_type": "code",
      "execution_count": 1,
      "metadata": {
        "id": "uB0O83I3vF1Q"
      },
      "outputs": [],
      "source": [
        "import tensorflow as tf"
      ]
    },
    {
      "cell_type": "code",
      "source": [
        "x = tf.Variable([[25,2,5]])"
      ],
      "metadata": {
        "id": "xzY3pb6xvScs"
      },
      "execution_count": 2,
      "outputs": []
    },
    {
      "cell_type": "code",
      "source": [
        "x.shape"
      ],
      "metadata": {
        "colab": {
          "base_uri": "https://localhost:8080/"
        },
        "id": "w-LPZuixvYBL",
        "outputId": "a145b0fb-e01b-4fff-9f77-663e42a3ee61"
      },
      "execution_count": 3,
      "outputs": [
        {
          "output_type": "execute_result",
          "data": {
            "text/plain": [
              "TensorShape([1, 3])"
            ]
          },
          "metadata": {},
          "execution_count": 3
        }
      ]
    },
    {
      "cell_type": "code",
      "source": [
        "x"
      ],
      "metadata": {
        "colab": {
          "base_uri": "https://localhost:8080/"
        },
        "id": "tEdQ4_UsvYxH",
        "outputId": "5d5b9dc5-f7c5-448d-aa54-070eb53d93cd"
      },
      "execution_count": 4,
      "outputs": [
        {
          "output_type": "execute_result",
          "data": {
            "text/plain": [
              "<tf.Variable 'Variable:0' shape=(1, 3) dtype=int32, numpy=array([[25,  2,  5]], dtype=int32)>"
            ]
          },
          "metadata": {},
          "execution_count": 4
        }
      ]
    },
    {
      "cell_type": "code",
      "source": [
        "x_T = tf.transpose(x)"
      ],
      "metadata": {
        "id": "VE7CTw1KvZ9L"
      },
      "execution_count": 5,
      "outputs": []
    },
    {
      "cell_type": "code",
      "source": [
        "x_T.shape"
      ],
      "metadata": {
        "colab": {
          "base_uri": "https://localhost:8080/"
        },
        "id": "5UwapoqdvdvB",
        "outputId": "bb9a3754-672b-4753-edc8-7241656b2c77"
      },
      "execution_count": 6,
      "outputs": [
        {
          "output_type": "execute_result",
          "data": {
            "text/plain": [
              "TensorShape([3, 1])"
            ]
          },
          "metadata": {},
          "execution_count": 6
        }
      ]
    },
    {
      "cell_type": "code",
      "source": [
        "tf.matmul(x, x_T)"
      ],
      "metadata": {
        "colab": {
          "base_uri": "https://localhost:8080/"
        },
        "id": "vUhF4p3wvjCf",
        "outputId": "5f7d5b9d-8329-44fd-c372-1c7ee359f9c9"
      },
      "execution_count": 7,
      "outputs": [
        {
          "output_type": "execute_result",
          "data": {
            "text/plain": [
              "<tf.Tensor: shape=(1, 1), dtype=int32, numpy=array([[654]], dtype=int32)>"
            ]
          },
          "metadata": {},
          "execution_count": 7
        }
      ]
    },
    {
      "cell_type": "code",
      "source": [
        "import matplotlib.pyplot as plt\n",
        "import numpy as np"
      ],
      "metadata": {
        "id": "_HPQHZzBv1G5"
      },
      "execution_count": 8,
      "outputs": []
    },
    {
      "cell_type": "code",
      "source": [
        "v = tf.Variable([[3,1]])"
      ],
      "metadata": {
        "id": "-Gox7gBExaId"
      },
      "execution_count": 9,
      "outputs": []
    },
    {
      "cell_type": "code",
      "source": [
        "def plot_vectors(vectors, colors):\n",
        "  plt.figure()\n",
        "  plt.axvline(x=0, color='lightgray')\n",
        "  plt.axhline(y=0, color='lightgray')\n",
        "  for i in range(len(vectors)):\n",
        "    x = tf.concat([[0,0], vectors[i]],0)\n",
        "    plt.quiver([x[0]], [x[1]], [x[2]], [x[3]],\n",
        "               angles='xy', scale_units='xy', scale=1, color=colors[i],)"
      ],
      "metadata": {
        "id": "luYvzN-kwSd8"
      },
      "execution_count": 10,
      "outputs": []
    },
    {
      "cell_type": "code",
      "source": [
        "plot_vectors([tf.squeeze(v)],['lightblue'])\n",
        "plt.xlim(-1,5)\n",
        "plt.ylim(-1,5)"
      ],
      "metadata": {
        "colab": {
          "base_uri": "https://localhost:8080/",
          "height": 286
        },
        "id": "9J9F1ypqwXsv",
        "outputId": "63229770-5174-4edb-b8b6-5334e95db8c0"
      },
      "execution_count": 11,
      "outputs": [
        {
          "output_type": "execute_result",
          "data": {
            "text/plain": [
              "(-1.0, 5.0)"
            ]
          },
          "metadata": {},
          "execution_count": 11
        },
        {
          "output_type": "display_data",
          "data": {
            "text/plain": [
              "<Figure size 432x288 with 1 Axes>"
            ],
            "image/png": "[encoded data removed]"
          },
          "metadata": {
            "needs_background": "light"
          }
        }
      ]
    },
    {
      "cell_type": "code",
      "source": [
        "I = tf.Variable([[1,0],[0,1]])"
      ],
      "metadata": {
        "id": "9hOAtJyDxX7e"
      },
      "execution_count": 12,
      "outputs": []
    },
    {
      "cell_type": "code",
      "source": [
        "I"
      ],
      "metadata": {
        "colab": {
          "base_uri": "https://localhost:8080/"
        },
        "id": "_iVABY_PyG_B",
        "outputId": "fd77ffda-4fa2-402c-9441-b6771c029ab4"
      },
      "execution_count": 13,
      "outputs": [
        {
          "output_type": "execute_result",
          "data": {
            "text/plain": [
              "<tf.Variable 'Variable:0' shape=(2, 2) dtype=int32, numpy=\n",
              "array([[1, 0],\n",
              "       [0, 1]], dtype=int32)>"
            ]
          },
          "metadata": {},
          "execution_count": 13
        }
      ]
    },
    {
      "cell_type": "code",
      "source": [
        "Iv = tf.linalg.matvec(I,v)"
      ],
      "metadata": {
        "id": "sC4VV4MByLMU"
      },
      "execution_count": 14,
      "outputs": []
    },
    {
      "cell_type": "code",
      "source": [
        "plot_vectors([tf.squeeze(Iv)], ['blue'])\n",
        "plt.xlim(-1,5)\n",
        "_ = plt.ylim(-1,5)"
      ],
      "metadata": {
        "colab": {
          "base_uri": "https://localhost:8080/",
          "height": 269
        },
        "id": "edfDhIc5yQBp",
        "outputId": "4a586518-b850-434a-8cb8-f523bc97cfb9"
      },
      "execution_count": 15,
      "outputs": [
        {
          "output_type": "display_data",
          "data": {
            "text/plain": [
              "<Figure size 432x288 with 1 Axes>"
            ],
            "image/png": "[encoded data removed]"
          },
          "metadata": {
            "needs_background": "light"
          }
        }
      ]
    },
    {
      "cell_type": "code",
      "source": [
        "E = tf.Variable([[1,0],[0,-1]])"
      ],
      "metadata": {
        "id": "NrOlVNXsynnO"
      },
      "execution_count": 16,
      "outputs": []
    },
    {
      "cell_type": "code",
      "source": [
        "Ev = tf.linalg.matvec(E,v)"
      ],
      "metadata": {
        "id": "yy3D6v7Kyveb"
      },
      "execution_count": 17,
      "outputs": []
    },
    {
      "cell_type": "code",
      "source": [
        "plot_vectors([tf.squeeze(v), tf.squeeze(Ev)], ['lightblue', 'blue'])\n",
        "plt.xlim(-1,5)\n",
        "_ = plt.ylim(-3,3)"
      ],
      "metadata": {
        "colab": {
          "base_uri": "https://localhost:8080/",
          "height": 269
        },
        "id": "0QqQD-1_yz1T",
        "outputId": "fbbd8eb7-97e0-45bb-ca9a-07340dd48d0e"
      },
      "execution_count": 18,
      "outputs": [
        {
          "output_type": "display_data",
          "data": {
            "text/plain": [
              "<Figure size 432x288 with 1 Axes>"
            ],
            "image/png": "[encoded data removed]"
          },
          "metadata": {
            "needs_background": "light"
          }
        }
      ]
    },
    {
      "cell_type": "code",
      "source": [
        "F = tf.Variable([[-1,0],[0,1]])"
      ],
      "metadata": {
        "id": "yqipvCoey-UK"
      },
      "execution_count": 19,
      "outputs": []
    },
    {
      "cell_type": "code",
      "source": [
        "Fv = tf.linalg.matvec(F, v)"
      ],
      "metadata": {
        "id": "lSRye2xozLI6"
      },
      "execution_count": 20,
      "outputs": []
    },
    {
      "cell_type": "code",
      "source": [
        "plot_vectors([tf.squeeze(v), tf.squeeze(Fv)], ['lightblue', 'blue'])\n",
        "plt.xlim(-4,4)\n",
        "plt.ylim(-1,5)"
      ],
      "metadata": {
        "colab": {
          "base_uri": "https://localhost:8080/",
          "height": 286
        },
        "id": "rkiI2VP0zTlF",
        "outputId": "a3bfee82-ff02-425a-fdc2-d4fd5c8840e9"
      },
      "execution_count": 21,
      "outputs": [
        {
          "output_type": "execute_result",
          "data": {
            "text/plain": [
              "(-1.0, 5.0)"
            ]
          },
          "metadata": {},
          "execution_count": 21
        },
        {
          "output_type": "display_data",
          "data": {
            "text/plain": [
              "<Figure size 432x288 with 1 Axes>"
            ],
            "image/png": "[encoded data removed]"
          },
          "metadata": {
            "needs_background": "light"
          }
        }
      ]
    },
    {
      "cell_type": "code",
      "source": [
        "A = tf.Variable([[-1,4],[2,-2]])"
      ],
      "metadata": {
        "id": "uRAld2bCzfDo"
      },
      "execution_count": 22,
      "outputs": []
    },
    {
      "cell_type": "code",
      "source": [
        "Av =tf.linalg.matvec(A,v)"
      ],
      "metadata": {
        "id": "MPxZ_nfEzomQ"
      },
      "execution_count": 23,
      "outputs": []
    },
    {
      "cell_type": "code",
      "source": [
        "plot_vectors([tf.squeeze(v), tf.squeeze(Av)], ['lightblue', 'blue'])\n",
        "plt.xlim(-1,5)\n",
        "plt.ylim(-1,5)"
      ],
      "metadata": {
        "colab": {
          "base_uri": "https://localhost:8080/",
          "height": 286
        },
        "id": "2eA4F2dLztDC",
        "outputId": "93d332cc-387f-413b-b761-4a33b052ed5e"
      },
      "execution_count": 24,
      "outputs": [
        {
          "output_type": "execute_result",
          "data": {
            "text/plain": [
              "(-1.0, 5.0)"
            ]
          },
          "metadata": {},
          "execution_count": 24
        },
        {
          "output_type": "display_data",
          "data": {
            "text/plain": [
              "<Figure size 432x288 with 1 Axes>"
            ],
            "image/png": "[encoded data removed]"
          },
          "metadata": {
            "needs_background": "light"
          }
        }
      ]
    },
    {
      "cell_type": "code",
      "source": [
        "v2 = tf.Variable([[2,1]])\n",
        "plot_vectors([tf.squeeze(v2), tf.linalg.matvec(A, tf.squeeze(v2))],['lightgreen', 'green'])\n",
        "plt.xlim(-1,5)\n",
        "plt.ylim(-1,5)"
      ],
      "metadata": {
        "colab": {
          "base_uri": "https://localhost:8080/",
          "height": 286
        },
        "id": "Ay-B7tkdzymT",
        "outputId": "205de506-492a-46b6-be90-44faa72d18b9"
      },
      "execution_count": 25,
      "outputs": [
        {
          "output_type": "execute_result",
          "data": {
            "text/plain": [
              "(-1.0, 5.0)"
            ]
          },
          "metadata": {},
          "execution_count": 25
        },
        {
          "output_type": "display_data",
          "data": {
            "text/plain": [
              "<Figure size 432x288 with 1 Axes>"
            ],
            "image/png": "[encoded data removed]"
          },
          "metadata": {
            "needs_background": "light"
          }
        }
      ]
    },
    {
      "cell_type": "code",
      "source": [
        "v3 = tf.Variable([[-3,-1]])\n",
        "v4 = tf.Variable([[-1,1]])"
      ],
      "metadata": {
        "id": "qmILi-NmISJe"
      },
      "execution_count": 26,
      "outputs": []
    },
    {
      "cell_type": "code",
      "source": [
        "V = tf.concat([tf.transpose(v),\n",
        "               tf.transpose(v2),\n",
        "               tf.transpose(v3),\n",
        "               tf.transpose(v4)], axis=1)"
      ],
      "metadata": {
        "id": "1lhMgTCBIl2H"
      },
      "execution_count": 27,
      "outputs": []
    },
    {
      "cell_type": "code",
      "source": [
        "V"
      ],
      "metadata": {
        "colab": {
          "base_uri": "https://localhost:8080/"
        },
        "id": "AaIKObYdI7gi",
        "outputId": "6c0e4225-81c0-490b-bed5-f0e1d83621cf"
      },
      "execution_count": 28,
      "outputs": [
        {
          "output_type": "execute_result",
          "data": {
            "text/plain": [
              "<tf.Tensor: shape=(2, 4), dtype=int32, numpy=\n",
              "array([[ 3,  2, -3, -1],\n",
              "       [ 1,  1, -1,  1]], dtype=int32)>"
            ]
          },
          "metadata": {},
          "execution_count": 28
        }
      ]
    },
    {
      "cell_type": "code",
      "source": [
        "IV  = I @ V"
      ],
      "metadata": {
        "id": "OlwHHtWYJCOo"
      },
      "execution_count": 29,
      "outputs": []
    },
    {
      "cell_type": "code",
      "source": [
        "IV"
      ],
      "metadata": {
        "colab": {
          "base_uri": "https://localhost:8080/"
        },
        "id": "jc2IuKmPP445",
        "outputId": "5d2a7bba-3130-47d1-dd83-eb1119b47f16"
      },
      "execution_count": 30,
      "outputs": [
        {
          "output_type": "execute_result",
          "data": {
            "text/plain": [
              "<tf.Tensor: shape=(2, 4), dtype=int32, numpy=\n",
              "array([[ 3,  2, -3, -1],\n",
              "       [ 1,  1, -1,  1]], dtype=int32)>"
            ]
          },
          "metadata": {},
          "execution_count": 30
        }
      ]
    },
    {
      "cell_type": "code",
      "source": [
        "AV = A @ V\n",
        "AV"
      ],
      "metadata": {
        "colab": {
          "base_uri": "https://localhost:8080/"
        },
        "id": "cK7s-TPJP5_T",
        "outputId": "3b6a8fe1-b9ff-4f7e-cdf2-7c5479e48934"
      },
      "execution_count": 31,
      "outputs": [
        {
          "output_type": "execute_result",
          "data": {
            "text/plain": [
              "<tf.Tensor: shape=(2, 4), dtype=int32, numpy=\n",
              "array([[ 1,  2, -1,  5],\n",
              "       [ 4,  2, -4, -4]], dtype=int32)>"
            ]
          },
          "metadata": {},
          "execution_count": 31
        }
      ]
    },
    {
      "cell_type": "code",
      "source": [
        "def vectorfy(mtrx, clmn):\n",
        "  return tf.reshape(tf.Variable(mtrx[:, clmn]), -1)"
      ],
      "metadata": {
        "id": "yuvfASYNP9SD"
      },
      "execution_count": 32,
      "outputs": []
    },
    {
      "cell_type": "code",
      "source": [
        "vectorfy(V, 0)"
      ],
      "metadata": {
        "colab": {
          "base_uri": "https://localhost:8080/"
        },
        "id": "Ar_64zyoQF-q",
        "outputId": "291fc7fe-23e9-43cc-e410-1e96ea7a8b07"
      },
      "execution_count": 33,
      "outputs": [
        {
          "output_type": "execute_result",
          "data": {
            "text/plain": [
              "<tf.Tensor: shape=(2,), dtype=int32, numpy=array([3, 1], dtype=int32)>"
            ]
          },
          "metadata": {},
          "execution_count": 33
        }
      ]
    },
    {
      "cell_type": "code",
      "source": [
        "vectorfy(V, 0) == v"
      ],
      "metadata": {
        "colab": {
          "base_uri": "https://localhost:8080/"
        },
        "id": "smsimz9HQy4Y",
        "outputId": "b2b374e9-9a55-4cfb-9d5e-d2cb72a2fb37"
      },
      "execution_count": 34,
      "outputs": [
        {
          "output_type": "execute_result",
          "data": {
            "text/plain": [
              "<tf.Tensor: shape=(1, 2), dtype=bool, numpy=array([[ True,  True]])>"
            ]
          },
          "metadata": {},
          "execution_count": 34
        }
      ]
    },
    {
      "cell_type": "code",
      "source": [
        "plot_vectors([vectorfy(V,0), vectorfy(V,1),vectorfy(V,2),vectorfy(V,3),\n",
        "              vectorfy(AV,0), vectorfy(AV,1),vectorfy(AV,2),vectorfy(AV,3)],\n",
        "             ['lightblue','lightgreen', 'lightgray', 'orange',\n",
        "              'blue', 'green', 'gray', 'red'])\n",
        "plt.xlim(-4,6)\n",
        "_ = plt.ylim(-5,5)"
      ],
      "metadata": {
        "colab": {
          "base_uri": "https://localhost:8080/",
          "height": 265
        },
        "id": "FgR1u1rrQ3hP",
        "outputId": "c45b1343-b5b3-400e-f5eb-e71a9914aa64"
      },
      "execution_count": 35,
      "outputs": [
        {
          "output_type": "display_data",
          "data": {
            "text/plain": [
              "<Figure size 432x288 with 1 Axes>"
            ],
            "image/png": "[encoded data removed]"
          },
          "metadata": {
            "needs_background": "light"
          }
        }
      ]
    },
    {
      "cell_type": "code",
      "source": [
        "A =tf.cast(A, tf.float32)"
      ],
      "metadata": {
        "id": "5GvsNSD6RB9K"
      },
      "execution_count": 36,
      "outputs": []
    },
    {
      "cell_type": "code",
      "source": [
        "lambdas, V = tf.linalg.eig(A)"
      ],
      "metadata": {
        "id": "VxhteRNQRyZa"
      },
      "execution_count": 37,
      "outputs": []
    },
    {
      "cell_type": "code",
      "source": [
        "lambdas = tf.cast(lambdas, tf.float32)"
      ],
      "metadata": {
        "id": "V0kdoe_LR8ZI"
      },
      "execution_count": 38,
      "outputs": []
    },
    {
      "cell_type": "code",
      "source": [
        "V = tf.cast(V, tf.float32)\n",
        "V"
      ],
      "metadata": {
        "colab": {
          "base_uri": "https://localhost:8080/"
        },
        "id": "g3K8RoFjTTVw",
        "outputId": "70a8df5f-fa30-4193-b77d-71698c156812"
      },
      "execution_count": 39,
      "outputs": [
        {
          "output_type": "execute_result",
          "data": {
            "text/plain": [
              "<tf.Tensor: shape=(2, 2), dtype=float32, numpy=\n",
              "array([[ 0.86011124, -0.7645476 ],\n",
              "       [ 0.5101065 ,  0.6445674 ]], dtype=float32)>"
            ]
          },
          "metadata": {},
          "execution_count": 39
        }
      ]
    },
    {
      "cell_type": "code",
      "source": [
        "v = V[:,0]\n",
        "v1 = V[:,1]"
      ],
      "metadata": {
        "id": "mCvpaNPiTVqv"
      },
      "execution_count": 40,
      "outputs": []
    },
    {
      "cell_type": "code",
      "source": [
        "lambduh = lambdas[0]\n",
        "lambduh\n",
        "\n",
        "lambduh2 = lambdas[1]\n",
        "lambduh2\n"
      ],
      "metadata": {
        "colab": {
          "base_uri": "https://localhost:8080/"
        },
        "id": "_Cp8Dg5mTblK",
        "outputId": "3898292a-1ae9-483b-f94c-747cd20a32bc"
      },
      "execution_count": 41,
      "outputs": [
        {
          "output_type": "execute_result",
          "data": {
            "text/plain": [
              "<tf.Tensor: shape=(), dtype=float32, numpy=-4.372281>"
            ]
          },
          "metadata": {},
          "execution_count": 41
        }
      ]
    },
    {
      "cell_type": "code",
      "source": [
        "Av = tf.linalg.matvec(A,v)\n",
        "Av1 = tf.linalg.matvec(A,v1)"
      ],
      "metadata": {
        "id": "Ny569LU0TcKZ"
      },
      "execution_count": 42,
      "outputs": []
    },
    {
      "cell_type": "code",
      "source": [
        "Av, Av1"
      ],
      "metadata": {
        "colab": {
          "base_uri": "https://localhost:8080/"
        },
        "id": "YrPjUN4FTvn6",
        "outputId": "9b7c55fc-9e5c-46a8-fb19-e863e1e516fb"
      },
      "execution_count": 43,
      "outputs": [
        {
          "output_type": "execute_result",
          "data": {
            "text/plain": [
              "(<tf.Tensor: shape=(2,), dtype=float32, numpy=array([1.1803148 , 0.70000947], dtype=float32)>,\n",
              " <tf.Tensor: shape=(2,), dtype=float32, numpy=array([ 3.342817, -2.81823 ], dtype=float32)>)"
            ]
          },
          "metadata": {},
          "execution_count": 43
        }
      ]
    },
    {
      "cell_type": "code",
      "source": [
        "lambduh * v"
      ],
      "metadata": {
        "colab": {
          "base_uri": "https://localhost:8080/"
        },
        "id": "vjKac7aLUd3V",
        "outputId": "232fb043-cc90-4fb5-e3cc-84d12f189a0b"
      },
      "execution_count": 44,
      "outputs": [
        {
          "output_type": "execute_result",
          "data": {
            "text/plain": [
              "<tf.Tensor: shape=(2,), dtype=float32, numpy=array([1.1803145 , 0.70000964], dtype=float32)>"
            ]
          },
          "metadata": {},
          "execution_count": 44
        }
      ]
    },
    {
      "cell_type": "code",
      "source": [
        "lambduh2 * v1"
      ],
      "metadata": {
        "colab": {
          "base_uri": "https://localhost:8080/"
        },
        "id": "R6_DzPqPVW0F",
        "outputId": "125f3fa4-319c-4bf0-8fd7-459b78cdbe66"
      },
      "execution_count": 45,
      "outputs": [
        {
          "output_type": "execute_result",
          "data": {
            "text/plain": [
              "<tf.Tensor: shape=(2,), dtype=float32, numpy=array([ 3.3428168, -2.8182297], dtype=float32)>"
            ]
          },
          "metadata": {},
          "execution_count": 45
        }
      ]
    },
    {
      "cell_type": "code",
      "source": [
        "plot_vectors([Av, v], ['blue', 'lightblue'])\n",
        "plt.xlim(-1,2)\n",
        "plt.ylim(-1,2)"
      ],
      "metadata": {
        "colab": {
          "base_uri": "https://localhost:8080/",
          "height": 286
        },
        "id": "n_G5D7S2UioY",
        "outputId": "68c931a0-fe9c-4c59-fad7-bc1457d0f048"
      },
      "execution_count": 46,
      "outputs": [
        {
          "output_type": "execute_result",
          "data": {
            "text/plain": [
              "(-1.0, 2.0)"
            ]
          },
          "metadata": {},
          "execution_count": 46
        },
        {
          "output_type": "display_data",
          "data": {
            "text/plain": [
              "<Figure size 432x288 with 1 Axes>"
            ],
            "image/png": "[encoded data removed]"
          },
          "metadata": {
            "needs_background": "light"
          }
        }
      ]
    },
    {
      "cell_type": "code",
      "source": [
        "plot_vectors([Av1, v1], ['blue', 'lightblue'])\n",
        "plt.xlim(-1,2)\n",
        "plt.ylim(-1,2)"
      ],
      "metadata": {
        "colab": {
          "base_uri": "https://localhost:8080/",
          "height": 286
        },
        "id": "YQ6XsonTU8BX",
        "outputId": "319ce394-3546-49fb-d7c0-e01b3e910df8"
      },
      "execution_count": 47,
      "outputs": [
        {
          "output_type": "execute_result",
          "data": {
            "text/plain": [
              "(-1.0, 2.0)"
            ]
          },
          "metadata": {},
          "execution_count": 47
        },
        {
          "output_type": "display_data",
          "data": {
            "text/plain": [
              "<Figure size 432x288 with 1 Axes>"
            ],
            "image/png": "[encoded data removed]"
          },
          "metadata": {
            "needs_background": "light"
          }
        }
      ]
    },
    {
      "cell_type": "code",
      "source": [
        "X = tf.Variable([[25,2,9],[5,26,-5],[3,7,-1.]])\n",
        "X"
      ],
      "metadata": {
        "colab": {
          "base_uri": "https://localhost:8080/"
        },
        "id": "a2JKjm2gVyl7",
        "outputId": "43a6950b-1d2b-44bd-fdb6-1008247b8ed1"
      },
      "execution_count": 48,
      "outputs": [
        {
          "output_type": "execute_result",
          "data": {
            "text/plain": [
              "<tf.Variable 'Variable:0' shape=(3, 3) dtype=float32, numpy=\n",
              "array([[25.,  2.,  9.],\n",
              "       [ 5., 26., -5.],\n",
              "       [ 3.,  7., -1.]], dtype=float32)>"
            ]
          },
          "metadata": {},
          "execution_count": 48
        }
      ]
    },
    {
      "cell_type": "code",
      "source": [
        "lambdas_X, V_X = tf.linalg.eig(X)"
      ],
      "metadata": {
        "id": "V00_-CGCWF38"
      },
      "execution_count": 49,
      "outputs": []
    },
    {
      "cell_type": "code",
      "source": [
        "lambdas_X = tf.cast(lambdas_X, tf.float32)"
      ],
      "metadata": {
        "id": "KqMjEuArWQBn"
      },
      "execution_count": 50,
      "outputs": []
    },
    {
      "cell_type": "code",
      "source": [
        "V_X = tf.cast(V_X, tf.float32)"
      ],
      "metadata": {
        "id": "x2sS_n71Wd3O"
      },
      "execution_count": 51,
      "outputs": []
    },
    {
      "cell_type": "code",
      "source": [
        "v_X = V_X[:, 0]\n",
        "v_X"
      ],
      "metadata": {
        "colab": {
          "base_uri": "https://localhost:8080/"
        },
        "id": "YzP6Ozf3Wh24",
        "outputId": "e50d3daf-4b63-4658-e150-3420fda95a24"
      },
      "execution_count": 52,
      "outputs": [
        {
          "output_type": "execute_result",
          "data": {
            "text/plain": [
              "<tf.Tensor: shape=(3,), dtype=float32, numpy=array([ 0.34220472, -0.23789713, -0.9090109 ], dtype=float32)>"
            ]
          },
          "metadata": {},
          "execution_count": 52
        }
      ]
    },
    {
      "cell_type": "code",
      "source": [
        "lambda_X = lambdas_X[0] \n",
        "lambda_X"
      ],
      "metadata": {
        "colab": {
          "base_uri": "https://localhost:8080/"
        },
        "id": "08MLLJ9rWmca",
        "outputId": "63fb6944-0d1e-481a-cb8a-52af7192ddc4"
      },
      "execution_count": 53,
      "outputs": [
        {
          "output_type": "execute_result",
          "data": {
            "text/plain": [
              "<tf.Tensor: shape=(), dtype=float32, numpy=-0.2974063>"
            ]
          },
          "metadata": {},
          "execution_count": 53
        }
      ]
    },
    {
      "cell_type": "code",
      "source": [
        "tf.linalg.matvec(X, v_X)"
      ],
      "metadata": {
        "colab": {
          "base_uri": "https://localhost:8080/"
        },
        "id": "7cnJz2YfWsYI",
        "outputId": "ae6e90fd-f289-429d-a5f2-0562e9ffaf1c"
      },
      "execution_count": 54,
      "outputs": [
        {
          "output_type": "execute_result",
          "data": {
            "text/plain": [
              "<tf.Tensor: shape=(3,), dtype=float32, numpy=array([-0.10177422,  0.0707531 ,  0.2703452 ], dtype=float32)>"
            ]
          },
          "metadata": {},
          "execution_count": 54
        }
      ]
    },
    {
      "cell_type": "code",
      "source": [
        "lambda_X * v_X"
      ],
      "metadata": {
        "colab": {
          "base_uri": "https://localhost:8080/"
        },
        "id": "ylpydOWvXP8p",
        "outputId": "ba879ffe-e34e-4628-ef2e-f67ca0b33f86"
      },
      "execution_count": 55,
      "outputs": [
        {
          "output_type": "execute_result",
          "data": {
            "text/plain": [
              "<tf.Tensor: shape=(3,), dtype=float32, numpy=array([-0.10177384,  0.0707521 ,  0.27034554], dtype=float32)>"
            ]
          },
          "metadata": {},
          "execution_count": 55
        }
      ]
    },
    {
      "cell_type": "code",
      "source": [
        "X = tf.Variable([[4,2],[-5,-3.]])\n",
        "X"
      ],
      "metadata": {
        "colab": {
          "base_uri": "https://localhost:8080/"
        },
        "id": "eb9CKxiBXoRF",
        "outputId": "92ff854a-7fda-4625-a5f6-8a5bdea1aaca"
      },
      "execution_count": 56,
      "outputs": [
        {
          "output_type": "execute_result",
          "data": {
            "text/plain": [
              "<tf.Variable 'Variable:0' shape=(2, 2) dtype=float32, numpy=\n",
              "array([[ 4.,  2.],\n",
              "       [-5., -3.]], dtype=float32)>"
            ]
          },
          "metadata": {},
          "execution_count": 56
        }
      ]
    },
    {
      "cell_type": "code",
      "source": [
        "tf.linalg.det(X)"
      ],
      "metadata": {
        "colab": {
          "base_uri": "https://localhost:8080/"
        },
        "id": "k_Szg5mVX8sW",
        "outputId": "110deda1-7d46-4101-daed-ba1923b215a6"
      },
      "execution_count": 57,
      "outputs": [
        {
          "output_type": "execute_result",
          "data": {
            "text/plain": [
              "<tf.Tensor: shape=(), dtype=float32, numpy=-2.0000005>"
            ]
          },
          "metadata": {},
          "execution_count": 57
        }
      ]
    },
    {
      "cell_type": "code",
      "source": [
        "X = tf.Variable([[1,2,4],[2,-1,3],[0,5,1.]])"
      ],
      "metadata": {
        "id": "3fTfaqKFX_Y7"
      },
      "execution_count": 58,
      "outputs": []
    },
    {
      "cell_type": "code",
      "source": [
        "tf.linalg.det(X)"
      ],
      "metadata": {
        "colab": {
          "base_uri": "https://localhost:8080/"
        },
        "id": "MQyEKJeUY_4R",
        "outputId": "cda457ae-c947-4e99-ae39-fdddcb222e48"
      },
      "execution_count": 59,
      "outputs": [
        {
          "output_type": "execute_result",
          "data": {
            "text/plain": [
              "<tf.Tensor: shape=(), dtype=float32, numpy=20.0>"
            ]
          },
          "metadata": {},
          "execution_count": 59
        }
      ]
    },
    {
      "cell_type": "code",
      "source": [
        "B = tf.Variable([[1,0],[0,1.]])"
      ],
      "metadata": {
        "id": "Ijhd6YixZEW3"
      },
      "execution_count": 60,
      "outputs": []
    },
    {
      "cell_type": "code",
      "source": [
        "plot_vectors([vectorfy(B,0), vectorfy(B,1)],\n",
        "             ['lightblue', 'lightgreen'])\n",
        "plt.xlim(-1,3)\n",
        "plt.ylim(-1,3)"
      ],
      "metadata": {
        "colab": {
          "base_uri": "https://localhost:8080/",
          "height": 286
        },
        "id": "w0FRUCKjhGM5",
        "outputId": "1cf82f4d-e74e-4302-e526-f76106874d68"
      },
      "execution_count": 61,
      "outputs": [
        {
          "output_type": "execute_result",
          "data": {
            "text/plain": [
              "(-1.0, 3.0)"
            ]
          },
          "metadata": {},
          "execution_count": 61
        },
        {
          "output_type": "display_data",
          "data": {
            "text/plain": [
              "<Figure size 432x288 with 1 Axes>"
            ],
            "image/png": "[encoded data removed]"
          },
          "metadata": {
            "needs_background": "light"
          }
        }
      ]
    },
    {
      "cell_type": "code",
      "source": [
        "N = tf.Variable([[-4,1],[-8,2.]])"
      ],
      "metadata": {
        "id": "_WD8GdQPhXYY"
      },
      "execution_count": 62,
      "outputs": []
    },
    {
      "cell_type": "code",
      "source": [
        "tf.linalg.det(N)"
      ],
      "metadata": {
        "colab": {
          "base_uri": "https://localhost:8080/"
        },
        "id": "gpxth4ffhb9C",
        "outputId": "53613a3a-64ac-4524-bfae-163d3191e4ec"
      },
      "execution_count": 63,
      "outputs": [
        {
          "output_type": "execute_result",
          "data": {
            "text/plain": [
              "<tf.Tensor: shape=(), dtype=float32, numpy=0.0>"
            ]
          },
          "metadata": {},
          "execution_count": 63
        }
      ]
    },
    {
      "cell_type": "code",
      "source": [
        "NB = N @ B\n",
        "NB"
      ],
      "metadata": {
        "colab": {
          "base_uri": "https://localhost:8080/"
        },
        "id": "WmicXLJQhmFy",
        "outputId": "5c544d5f-7a12-4eb7-9403-8a930de6723a"
      },
      "execution_count": 64,
      "outputs": [
        {
          "output_type": "execute_result",
          "data": {
            "text/plain": [
              "<tf.Tensor: shape=(2, 2), dtype=float32, numpy=\n",
              "array([[-4.,  1.],\n",
              "       [-8.,  2.]], dtype=float32)>"
            ]
          },
          "metadata": {},
          "execution_count": 64
        }
      ]
    },
    {
      "cell_type": "code",
      "source": [
        "plot_vectors([vectorfy(B,0), vectorfy(B,1), vectorfy(NB, 0), vectorfy(NB, 1)],\n",
        "             ['lightblue', 'lightgreen', 'blue', 'green'])\n",
        "plt.xlim(-6,6)\n",
        "plt.ylim(-9,3)"
      ],
      "metadata": {
        "colab": {
          "base_uri": "https://localhost:8080/",
          "height": 282
        },
        "id": "lmF_Sld9hq34",
        "outputId": "7b3d4054-20a5-45fb-a20b-3184bc0d1507"
      },
      "execution_count": 65,
      "outputs": [
        {
          "output_type": "execute_result",
          "data": {
            "text/plain": [
              "(-9.0, 3.0)"
            ]
          },
          "metadata": {},
          "execution_count": 65
        },
        {
          "output_type": "display_data",
          "data": {
            "text/plain": [
              "<Figure size 432x288 with 1 Axes>"
            ],
            "image/png": "[encoded data removed]"
          },
          "metadata": {
            "needs_background": "light"
          }
        }
      ]
    },
    {
      "cell_type": "code",
      "source": [
        "lambdas, V  = tf.linalg.eig(N)\n",
        "lambdas"
      ],
      "metadata": {
        "colab": {
          "base_uri": "https://localhost:8080/"
        },
        "id": "oQOElacLiEqE",
        "outputId": "7d521e53-9dbf-4990-c109-45d85915dc9c"
      },
      "execution_count": 66,
      "outputs": [
        {
          "output_type": "execute_result",
          "data": {
            "text/plain": [
              "<tf.Tensor: shape=(2,), dtype=complex64, numpy=array([ 0.+0.j, -2.+0.j], dtype=complex64)>"
            ]
          },
          "metadata": {},
          "execution_count": 66
        }
      ]
    },
    {
      "cell_type": "code",
      "source": [
        "I"
      ],
      "metadata": {
        "colab": {
          "base_uri": "https://localhost:8080/"
        },
        "id": "YYmHeSeviO2n",
        "outputId": "1b3c4561-601a-433e-dff9-d798c93f7f28"
      },
      "execution_count": 67,
      "outputs": [
        {
          "output_type": "execute_result",
          "data": {
            "text/plain": [
              "<tf.Variable 'Variable:0' shape=(2, 2) dtype=int32, numpy=\n",
              "array([[1, 0],\n",
              "       [0, 1]], dtype=int32)>"
            ]
          },
          "metadata": {},
          "execution_count": 67
        }
      ]
    },
    {
      "cell_type": "code",
      "source": [
        "B"
      ],
      "metadata": {
        "colab": {
          "base_uri": "https://localhost:8080/"
        },
        "id": "menr0VuJiP5r",
        "outputId": "d9b418d9-4cd5-4052-ab82-f027292d4526"
      },
      "execution_count": 68,
      "outputs": [
        {
          "output_type": "execute_result",
          "data": {
            "text/plain": [
              "<tf.Variable 'Variable:0' shape=(2, 2) dtype=float32, numpy=\n",
              "array([[1., 0.],\n",
              "       [0., 1.]], dtype=float32)>"
            ]
          },
          "metadata": {},
          "execution_count": 68
        }
      ]
    },
    {
      "cell_type": "code",
      "source": [
        "IB = tf.cast(I, tf.float32) @ B"
      ],
      "metadata": {
        "id": "14XK05EQitML"
      },
      "execution_count": 69,
      "outputs": []
    },
    {
      "cell_type": "code",
      "source": [
        "plot_vectors([vectorfy(B, 0), vectorfy(B, 1), vectorfy(IB, 0), vectorfy(IB,1)],\n",
        "             ['lightblue','lightgreen', 'blue', 'green'])\n",
        "plt.xlim(-1,3)\n",
        "plt.ylim(-1,3)"
      ],
      "metadata": {
        "colab": {
          "base_uri": "https://localhost:8080/",
          "height": 286
        },
        "id": "wO7PZtIai4-t",
        "outputId": "617d6dbe-4b83-404b-bc96-e2cd7e14f37f"
      },
      "execution_count": 70,
      "outputs": [
        {
          "output_type": "execute_result",
          "data": {
            "text/plain": [
              "(-1.0, 3.0)"
            ]
          },
          "metadata": {},
          "execution_count": 70
        },
        {
          "output_type": "display_data",
          "data": {
            "text/plain": [
              "<Figure size 432x288 with 1 Axes>"
            ],
            "image/png": "[encoded data removed]"
          },
          "metadata": {
            "needs_background": "light"
          }
        }
      ]
    },
    {
      "cell_type": "code",
      "source": [
        "lambdas, V = tf.linalg.eig(tf.cast(I, tf.float32))\n",
        "lambdas"
      ],
      "metadata": {
        "colab": {
          "base_uri": "https://localhost:8080/"
        },
        "id": "rG4Mj1aAjL9p",
        "outputId": "0ef16a7f-9268-4cce-e41a-d3c8601c3591"
      },
      "execution_count": 71,
      "outputs": [
        {
          "output_type": "execute_result",
          "data": {
            "text/plain": [
              "<tf.Tensor: shape=(2,), dtype=complex64, numpy=array([1.+0.j, 1.+0.j], dtype=complex64)>"
            ]
          },
          "metadata": {},
          "execution_count": 71
        }
      ]
    },
    {
      "cell_type": "code",
      "source": [
        "J = tf.Variable([[-0.5,0], [0,2]])\n",
        "J"
      ],
      "metadata": {
        "colab": {
          "base_uri": "https://localhost:8080/"
        },
        "id": "EUugcd5hjYsD",
        "outputId": "f783b26a-595b-4fad-c4ba-2bba46ced960"
      },
      "execution_count": 72,
      "outputs": [
        {
          "output_type": "execute_result",
          "data": {
            "text/plain": [
              "<tf.Variable 'Variable:0' shape=(2, 2) dtype=float32, numpy=\n",
              "array([[-0.5,  0. ],\n",
              "       [ 0. ,  2. ]], dtype=float32)>"
            ]
          },
          "metadata": {},
          "execution_count": 72
        }
      ]
    },
    {
      "cell_type": "code",
      "source": [
        "tf.linalg.det(J)"
      ],
      "metadata": {
        "colab": {
          "base_uri": "https://localhost:8080/"
        },
        "id": "eipQHM5KjlnE",
        "outputId": "7efc6fff-16e5-4c4c-ea41-5d781df02fb3"
      },
      "execution_count": 73,
      "outputs": [
        {
          "output_type": "execute_result",
          "data": {
            "text/plain": [
              "<tf.Tensor: shape=(), dtype=float32, numpy=-1.0>"
            ]
          },
          "metadata": {},
          "execution_count": 73
        }
      ]
    },
    {
      "cell_type": "code",
      "source": [
        "tf.abs(tf.linalg.det(J))"
      ],
      "metadata": {
        "colab": {
          "base_uri": "https://localhost:8080/"
        },
        "id": "gr4N85BHjsG_",
        "outputId": "b2623eca-59d9-4582-b21e-0c62f08b2f6c"
      },
      "execution_count": 74,
      "outputs": [
        {
          "output_type": "execute_result",
          "data": {
            "text/plain": [
              "<tf.Tensor: shape=(), dtype=float32, numpy=1.0>"
            ]
          },
          "metadata": {},
          "execution_count": 74
        }
      ]
    },
    {
      "cell_type": "code",
      "source": [
        "JB = J @ B"
      ],
      "metadata": {
        "id": "sLb1tYQ5jxNP"
      },
      "execution_count": 75,
      "outputs": []
    },
    {
      "cell_type": "code",
      "source": [
        "plot_vectors([vectorfy(B, 0), vectorfy(B,1), vectorfy(JB,0), vectorfy(JB,1)],\n",
        "             ['lightblue','lightgreen', 'blue', 'green'])\n",
        "plt.xlim(-1,3)\n",
        "plt.ylim(-1,3)"
      ],
      "metadata": {
        "colab": {
          "base_uri": "https://localhost:8080/",
          "height": 286
        },
        "id": "r3WXdOFmj50o",
        "outputId": "ae5f4a62-7aea-43ed-9b1d-6e92687777ee"
      },
      "execution_count": 76,
      "outputs": [
        {
          "output_type": "execute_result",
          "data": {
            "text/plain": [
              "(-1.0, 3.0)"
            ]
          },
          "metadata": {},
          "execution_count": 76
        },
        {
          "output_type": "display_data",
          "data": {
            "text/plain": [
              "<Figure size 432x288 with 1 Axes>"
            ],
            "image/png": "[encoded data removed]"
          },
          "metadata": {
            "needs_background": "light"
          }
        }
      ]
    },
    {
      "cell_type": "code",
      "source": [
        "lambdas, V = tf.linalg.eig(J)\n",
        "lambdas"
      ],
      "metadata": {
        "colab": {
          "base_uri": "https://localhost:8080/"
        },
        "id": "HrbwrhHnkNyo",
        "outputId": "3c58040a-a643-4714-9ea7-2a3be8ea5e86"
      },
      "execution_count": 77,
      "outputs": [
        {
          "output_type": "execute_result",
          "data": {
            "text/plain": [
              "<tf.Tensor: shape=(2,), dtype=complex64, numpy=array([-0.5+0.j,  2. +0.j], dtype=complex64)>"
            ]
          },
          "metadata": {},
          "execution_count": 77
        }
      ]
    },
    {
      "cell_type": "code",
      "source": [
        "D = I * 2\n",
        "D"
      ],
      "metadata": {
        "colab": {
          "base_uri": "https://localhost:8080/"
        },
        "id": "_W7b5oY_kZuE",
        "outputId": "3d031f61-c267-4208-d841-eeb1ea34a27a"
      },
      "execution_count": 78,
      "outputs": [
        {
          "output_type": "execute_result",
          "data": {
            "text/plain": [
              "<tf.Tensor: shape=(2, 2), dtype=int32, numpy=\n",
              "array([[2, 0],\n",
              "       [0, 2]], dtype=int32)>"
            ]
          },
          "metadata": {},
          "execution_count": 78
        }
      ]
    },
    {
      "cell_type": "code",
      "source": [
        "tf.linalg.det(tf.cast(D, tf.float32))"
      ],
      "metadata": {
        "colab": {
          "base_uri": "https://localhost:8080/"
        },
        "id": "LrTYskudkqBe",
        "outputId": "15e2fa6c-84a5-407b-811e-5fcf56d975d8"
      },
      "execution_count": 79,
      "outputs": [
        {
          "output_type": "execute_result",
          "data": {
            "text/plain": [
              "<tf.Tensor: shape=(), dtype=float32, numpy=4.0>"
            ]
          },
          "metadata": {},
          "execution_count": 79
        }
      ]
    },
    {
      "cell_type": "code",
      "source": [
        "DB = tf.cast(D, tf.float32) @ B"
      ],
      "metadata": {
        "id": "FXBJU-PYlJuU"
      },
      "execution_count": 80,
      "outputs": []
    },
    {
      "cell_type": "code",
      "source": [
        "plot_vectors([vectorfy(B,0), vectorfy(B,1), vectorfy(DB,0), vectorfy(DB,1)],\n",
        "             ['lightblue','lightgreen','blue','green'])\n",
        "plt.xlim(-1,3)\n",
        "plt.ylim(-1,3)"
      ],
      "metadata": {
        "colab": {
          "base_uri": "https://localhost:8080/",
          "height": 286
        },
        "id": "1kuiSFMskuWW",
        "outputId": "35447d4c-9717-4232-e467-cc10615ab003"
      },
      "execution_count": 81,
      "outputs": [
        {
          "output_type": "execute_result",
          "data": {
            "text/plain": [
              "(-1.0, 3.0)"
            ]
          },
          "metadata": {},
          "execution_count": 81
        },
        {
          "output_type": "display_data",
          "data": {
            "text/plain": [
              "<Figure size 432x288 with 1 Axes>"
            ],
            "image/png": "[encoded data removed]"
          },
          "metadata": {
            "needs_background": "light"
          }
        }
      ]
    },
    {
      "cell_type": "code",
      "source": [
        "lambdas, V = tf.linalg.eig(tf.cast(D,tf.float32))\n",
        "lambdas"
      ],
      "metadata": {
        "colab": {
          "base_uri": "https://localhost:8080/"
        },
        "id": "LxXB6Q6slQYg",
        "outputId": "cbfc5285-bb2e-4c64-b1b5-0f832f02cf1e"
      },
      "execution_count": 82,
      "outputs": [
        {
          "output_type": "execute_result",
          "data": {
            "text/plain": [
              "<tf.Tensor: shape=(2,), dtype=complex64, numpy=array([2.+0.j, 2.+0.j], dtype=complex64)>"
            ]
          },
          "metadata": {},
          "execution_count": 82
        }
      ]
    },
    {
      "cell_type": "markdown",
      "source": [
        "Eigendecomposition\n"
      ],
      "metadata": {
        "id": "ft5FVksKmDHS"
      }
    },
    {
      "cell_type": "code",
      "source": [
        "A = tf.Variable([[4,2],[-5,-3.]])"
      ],
      "metadata": {
        "id": "cYIF25z3mGqb"
      },
      "execution_count": 83,
      "outputs": []
    },
    {
      "cell_type": "code",
      "source": [
        "lambdas, V = tf.linalg.eig(A)\n",
        "lambdas"
      ],
      "metadata": {
        "colab": {
          "base_uri": "https://localhost:8080/"
        },
        "id": "Lf6JNYnWmN_7",
        "outputId": "7a629d36-8eea-4e5a-ce7f-be360730cc17"
      },
      "execution_count": 84,
      "outputs": [
        {
          "output_type": "execute_result",
          "data": {
            "text/plain": [
              "<tf.Tensor: shape=(2,), dtype=complex64, numpy=array([-1.0000004+0.j,  2.0000005+0.j], dtype=complex64)>"
            ]
          },
          "metadata": {},
          "execution_count": 84
        }
      ]
    },
    {
      "cell_type": "code",
      "source": [
        "V"
      ],
      "metadata": {
        "colab": {
          "base_uri": "https://localhost:8080/"
        },
        "id": "jXppJfFHmS5B",
        "outputId": "3a9999ec-7461-410f-de49-ddc1b413459e"
      },
      "execution_count": 85,
      "outputs": [
        {
          "output_type": "execute_result",
          "data": {
            "text/plain": [
              "<tf.Tensor: shape=(2, 2), dtype=complex64, numpy=\n",
              "array([[-0.37139058+0.j,  0.7071068 +0.j],\n",
              "       [ 0.9284767 +0.j, -0.70710677+0.j]], dtype=complex64)>"
            ]
          },
          "metadata": {},
          "execution_count": 85
        }
      ]
    },
    {
      "cell_type": "code",
      "source": [
        "Vinv = tf.linalg.inv(V)\n",
        "Vinv"
      ],
      "metadata": {
        "colab": {
          "base_uri": "https://localhost:8080/"
        },
        "id": "kn6UuspvmVLv",
        "outputId": "43f1d70a-8f30-4483-8ec0-313e3432396d"
      },
      "execution_count": 86,
      "outputs": [
        {
          "output_type": "execute_result",
          "data": {
            "text/plain": [
              "<tf.Tensor: shape=(2, 2), dtype=complex64, numpy=\n",
              "array([[1.7950542 +0.j, 1.7950544 +0.j],\n",
              "       [2.3570218 +0.j, 0.94280845+0.j]], dtype=complex64)>"
            ]
          },
          "metadata": {},
          "execution_count": 86
        }
      ]
    },
    {
      "cell_type": "code",
      "source": [
        "Lambda = tf.linalg.diag(lambdas)\n",
        "Lambda"
      ],
      "metadata": {
        "colab": {
          "base_uri": "https://localhost:8080/"
        },
        "id": "1vLPVdXKmhco",
        "outputId": "dd4ce508-09e2-4991-82bf-ba067bced5d8"
      },
      "execution_count": 87,
      "outputs": [
        {
          "output_type": "execute_result",
          "data": {
            "text/plain": [
              "<tf.Tensor: shape=(2, 2), dtype=complex64, numpy=\n",
              "array([[-1.0000004+0.j,  0.       +0.j],\n",
              "       [ 0.       +0.j,  2.0000005+0.j]], dtype=complex64)>"
            ]
          },
          "metadata": {},
          "execution_count": 87
        }
      ]
    },
    {
      "cell_type": "code",
      "source": [
        "V @ (Lambda @ Vinv)"
      ],
      "metadata": {
        "colab": {
          "base_uri": "https://localhost:8080/"
        },
        "id": "9g4tekHZnDc_",
        "outputId": "2c8baceb-4d20-4be1-e624-cfcd58b68829"
      },
      "execution_count": 88,
      "outputs": [
        {
          "output_type": "execute_result",
          "data": {
            "text/plain": [
              "<tf.Tensor: shape=(2, 2), dtype=complex64, numpy=\n",
              "array([[ 3.9999995+0.j,  1.9999994+0.j],\n",
              "       [-4.999999 +0.j, -2.9999995+0.j]], dtype=complex64)>"
            ]
          },
          "metadata": {},
          "execution_count": 88
        }
      ]
    },
    {
      "cell_type": "code",
      "source": [
        "A = tf.Variable([[2,1],[1,2.]])\n",
        "A"
      ],
      "metadata": {
        "colab": {
          "base_uri": "https://localhost:8080/"
        },
        "id": "ls7-pqXjnNlM",
        "outputId": "3bd207f3-ba99-4b5a-c3e3-022ff5002948"
      },
      "execution_count": 89,
      "outputs": [
        {
          "output_type": "execute_result",
          "data": {
            "text/plain": [
              "<tf.Variable 'Variable:0' shape=(2, 2) dtype=float32, numpy=\n",
              "array([[2., 1.],\n",
              "       [1., 2.]], dtype=float32)>"
            ]
          },
          "metadata": {},
          "execution_count": 89
        }
      ]
    },
    {
      "cell_type": "code",
      "source": [
        "lambdas, Q = tf.linalg.eig(A)\n",
        "lambdas"
      ],
      "metadata": {
        "colab": {
          "base_uri": "https://localhost:8080/"
        },
        "id": "ymCRD4B1ngc2",
        "outputId": "5b9bf5af-ab3f-4168-c51b-f92a302f6626"
      },
      "execution_count": 90,
      "outputs": [
        {
          "output_type": "execute_result",
          "data": {
            "text/plain": [
              "<tf.Tensor: shape=(2,), dtype=complex64, numpy=array([1.+0.j, 3.+0.j], dtype=complex64)>"
            ]
          },
          "metadata": {},
          "execution_count": 90
        }
      ]
    },
    {
      "cell_type": "code",
      "source": [
        "Lambda = tf.linalg.diag(lambdas)\n",
        "Lambda"
      ],
      "metadata": {
        "colab": {
          "base_uri": "https://localhost:8080/"
        },
        "id": "QdeQ14_jnmTV",
        "outputId": "2187c523-e9bb-445f-c875-3f3ea8581de7"
      },
      "execution_count": 91,
      "outputs": [
        {
          "output_type": "execute_result",
          "data": {
            "text/plain": [
              "<tf.Tensor: shape=(2, 2), dtype=complex64, numpy=\n",
              "array([[1.+0.j, 0.+0.j],\n",
              "       [0.+0.j, 3.+0.j]], dtype=complex64)>"
            ]
          },
          "metadata": {},
          "execution_count": 91
        }
      ]
    },
    {
      "cell_type": "code",
      "source": [
        "Q"
      ],
      "metadata": {
        "colab": {
          "base_uri": "https://localhost:8080/"
        },
        "id": "9tBMeTQknuRH",
        "outputId": "16c9d7ef-cd9c-4889-8ffd-214c0d36c2f2"
      },
      "execution_count": 92,
      "outputs": [
        {
          "output_type": "execute_result",
          "data": {
            "text/plain": [
              "<tf.Tensor: shape=(2, 2), dtype=complex64, numpy=\n",
              "array([[-0.7071069 +0.j,  0.70710677+0.j],\n",
              "       [ 0.7071067 +0.j,  0.7071068 +0.j]], dtype=complex64)>"
            ]
          },
          "metadata": {},
          "execution_count": 92
        }
      ]
    },
    {
      "cell_type": "code",
      "source": [
        "Q @ (Lambda @ tf.transpose(Q))"
      ],
      "metadata": {
        "colab": {
          "base_uri": "https://localhost:8080/"
        },
        "id": "Vx6WEIHGoFt1",
        "outputId": "ac2bc0d5-3351-49c9-b962-6691c2f48b28"
      },
      "execution_count": 93,
      "outputs": [
        {
          "output_type": "execute_result",
          "data": {
            "text/plain": [
              "<tf.Tensor: shape=(2, 2), dtype=complex64, numpy=\n",
              "array([[2.       +0.j, 1.0000001+0.j],\n",
              "       [1.       +0.j, 2.0000002+0.j]], dtype=complex64)>"
            ]
          },
          "metadata": {},
          "execution_count": 93
        }
      ]
    },
    {
      "cell_type": "code",
      "source": [
        "P = tf.Variable([[25,2,-5],[3,-2,1],[5,7,4.]])\n",
        "P"
      ],
      "metadata": {
        "colab": {
          "base_uri": "https://localhost:8080/"
        },
        "id": "1zgJ_QTkoPB-",
        "outputId": "ae1cbabf-7b22-4cdd-ac67-75b338cc5e08"
      },
      "execution_count": 94,
      "outputs": [
        {
          "output_type": "execute_result",
          "data": {
            "text/plain": [
              "<tf.Variable 'Variable:0' shape=(3, 3) dtype=float32, numpy=\n",
              "array([[25.,  2., -5.],\n",
              "       [ 3., -2.,  1.],\n",
              "       [ 5.,  7.,  4.]], dtype=float32)>"
            ]
          },
          "metadata": {},
          "execution_count": 94
        }
      ]
    },
    {
      "cell_type": "code",
      "source": [
        "lambdas, V = tf.linalg.eig(P)\n",
        "lambdas "
      ],
      "metadata": {
        "colab": {
          "base_uri": "https://localhost:8080/"
        },
        "id": "FrLWzKQWpAzJ",
        "outputId": "b9399684-6a94-48a4-ea66-8582a9cbb8d0"
      },
      "execution_count": 95,
      "outputs": [
        {
          "output_type": "execute_result",
          "data": {
            "text/plain": [
              "<tf.Tensor: shape=(3,), dtype=complex64, numpy=array([-3.4328187+0.j,  6.6683817+0.j, 23.764435 +0.j], dtype=complex64)>"
            ]
          },
          "metadata": {},
          "execution_count": 95
        }
      ]
    },
    {
      "cell_type": "code",
      "source": [
        "Vinv = tf.linalg.inv(V)\n",
        "Vinv"
      ],
      "metadata": {
        "colab": {
          "base_uri": "https://localhost:8080/"
        },
        "id": "Vejr75sBoqXN",
        "outputId": "70ce1897-77ae-4113-ecc5-1f121eb8f075"
      },
      "execution_count": 96,
      "outputs": [
        {
          "output_type": "execute_result",
          "data": {
            "text/plain": [
              "<tf.Tensor: shape=(3, 3), dtype=complex64, numpy=\n",
              "array([[-0.08171714+0.j,  1.1164405 +0.j, -0.20517465+0.j],\n",
              "       [-0.3914278 +0.j,  0.7198148 +0.j,  1.003212  +0.j],\n",
              "       [ 1.1356099 +0.j,  0.01024065+0.j, -0.2867679 +0.j]],\n",
              "      dtype=complex64)>"
            ]
          },
          "metadata": {},
          "execution_count": 96
        }
      ]
    },
    {
      "cell_type": "code",
      "source": [
        "Lambdas = tf.linalg.diag(lambdas)"
      ],
      "metadata": {
        "id": "Sy2Il8hio6JK"
      },
      "execution_count": 97,
      "outputs": []
    },
    {
      "cell_type": "code",
      "source": [
        "V @ (Lambdas @ Vinv)"
      ],
      "metadata": {
        "colab": {
          "base_uri": "https://localhost:8080/"
        },
        "id": "7b-GRvtzpMZQ",
        "outputId": "5d2bf35e-7208-4037-df3a-767685d0b2cd"
      },
      "execution_count": 98,
      "outputs": [
        {
          "output_type": "execute_result",
          "data": {
            "text/plain": [
              "<tf.Tensor: shape=(3, 3), dtype=complex64, numpy=\n",
              "array([[25.       +0.j,  2.0000002+0.j, -4.9999976+0.j],\n",
              "       [ 3.       +0.j, -1.9999999+0.j,  1.       +0.j],\n",
              "       [ 5.       +0.j,  7.0000005+0.j,  3.9999998+0.j]], dtype=complex64)>"
            ]
          },
          "metadata": {},
          "execution_count": 98
        }
      ]
    },
    {
      "cell_type": "code",
      "source": [
        "S = tf.Variable([[25,2,-5],[2,-2,1],[-5,1,4.]])\n",
        "S"
      ],
      "metadata": {
        "colab": {
          "base_uri": "https://localhost:8080/"
        },
        "id": "Ga1XeM1zpTXu",
        "outputId": "579904af-1b20-4316-85ab-e040bdf0c349"
      },
      "execution_count": 99,
      "outputs": [
        {
          "output_type": "execute_result",
          "data": {
            "text/plain": [
              "<tf.Variable 'Variable:0' shape=(3, 3) dtype=float32, numpy=\n",
              "array([[25.,  2., -5.],\n",
              "       [ 2., -2.,  1.],\n",
              "       [-5.,  1.,  4.]], dtype=float32)>"
            ]
          },
          "metadata": {},
          "execution_count": 99
        }
      ]
    },
    {
      "cell_type": "code",
      "source": [
        "lambdas, Q = tf.linalg.eig(S)"
      ],
      "metadata": {
        "id": "35Wtvp_cp47K"
      },
      "execution_count": 100,
      "outputs": []
    },
    {
      "cell_type": "code",
      "source": [
        "Lambdas = tf.linalg.diag(lambdas)"
      ],
      "metadata": {
        "id": "pE0WPXJtqAto"
      },
      "execution_count": 101,
      "outputs": []
    },
    {
      "cell_type": "code",
      "source": [
        "Q @ Lambdas @ tf.transpose(Q)"
      ],
      "metadata": {
        "colab": {
          "base_uri": "https://localhost:8080/"
        },
        "id": "o_BaZi4yqE69",
        "outputId": "763f8cbb-d04f-45d8-d92a-587ce5ece65d"
      },
      "execution_count": 102,
      "outputs": [
        {
          "output_type": "execute_result",
          "data": {
            "text/plain": [
              "<tf.Tensor: shape=(3, 3), dtype=complex64, numpy=\n",
              "array([[24.999998  +0.j,  2.0000002 +0.j, -5.        +0.j],\n",
              "       [ 2.        +0.j, -1.9999999 +0.j,  0.9999998 +0.j],\n",
              "       [-5.        +0.j,  0.99999976+0.j,  4.        +0.j]],\n",
              "      dtype=complex64)>"
            ]
          },
          "metadata": {},
          "execution_count": 102
        }
      ]
    },
    {
      "cell_type": "code",
      "source": [
        "A = tf.Variable([[-1,2],[3,-2],[5,7.]])\n",
        "A"
      ],
      "metadata": {
        "colab": {
          "base_uri": "https://localhost:8080/"
        },
        "id": "oASifg1fqKq7",
        "outputId": "ad6112cd-fdfa-4e50-cd26-7dc9026e27c4"
      },
      "execution_count": 103,
      "outputs": [
        {
          "output_type": "execute_result",
          "data": {
            "text/plain": [
              "<tf.Variable 'Variable:0' shape=(3, 2) dtype=float32, numpy=\n",
              "array([[-1.,  2.],\n",
              "       [ 3., -2.],\n",
              "       [ 5.,  7.]], dtype=float32)>"
            ]
          },
          "metadata": {},
          "execution_count": 103
        }
      ]
    },
    {
      "cell_type": "code",
      "source": [
        "d, U, VT = tf.linalg.svd(A, True)"
      ],
      "metadata": {
        "id": "qA1vpDdQqyZt"
      },
      "execution_count": 104,
      "outputs": []
    },
    {
      "cell_type": "code",
      "source": [
        "U, d, VT"
      ],
      "metadata": {
        "colab": {
          "base_uri": "https://localhost:8080/"
        },
        "id": "g5zbCGUPq3XA",
        "outputId": "b216f098-070c-42ab-be48-e330f454e1f1"
      },
      "execution_count": 105,
      "outputs": [
        {
          "output_type": "execute_result",
          "data": {
            "text/plain": [
              "(<tf.Tensor: shape=(3, 3), dtype=float32, numpy=\n",
              " array([[ 0.12708327, -0.47409505, -0.87125427],\n",
              "        [ 0.00164604,  0.8784756 , -0.47778445],\n",
              "        [ 0.9918907 ,  0.05928418,  0.11241978]], dtype=float32)>,\n",
              " <tf.Tensor: shape=(2,), dtype=float32, numpy=array([8.669184, 4.104295], dtype=float32)>,\n",
              " <tf.Tensor: shape=(2, 2), dtype=float32, numpy=\n",
              " array([[ 0.5579889,  0.8298484],\n",
              "        [ 0.8298484, -0.5579889]], dtype=float32)>)"
            ]
          },
          "metadata": {},
          "execution_count": 105
        }
      ]
    },
    {
      "cell_type": "code",
      "source": [
        "tf.linalg.diag(d)"
      ],
      "metadata": {
        "colab": {
          "base_uri": "https://localhost:8080/"
        },
        "id": "cip-qIAzq9PU",
        "outputId": "39e47eeb-22a2-4d75-8e2d-152a4abba088"
      },
      "execution_count": 106,
      "outputs": [
        {
          "output_type": "execute_result",
          "data": {
            "text/plain": [
              "<tf.Tensor: shape=(2, 2), dtype=float32, numpy=\n",
              "array([[8.669184, 0.      ],\n",
              "       [0.      , 4.104295]], dtype=float32)>"
            ]
          },
          "metadata": {},
          "execution_count": 106
        }
      ]
    },
    {
      "cell_type": "code",
      "source": [
        "D = tf.concat((tf.linalg.diag(d), [[0,0]]), axis=0)\n",
        "D"
      ],
      "metadata": {
        "colab": {
          "base_uri": "https://localhost:8080/"
        },
        "id": "JaeNnZgwrIi2",
        "outputId": "8364ac1d-ec89-4eb1-b8db-30c64acdc625"
      },
      "execution_count": 107,
      "outputs": [
        {
          "output_type": "execute_result",
          "data": {
            "text/plain": [
              "<tf.Tensor: shape=(3, 2), dtype=float32, numpy=\n",
              "array([[8.669184, 0.      ],\n",
              "       [0.      , 4.104295],\n",
              "       [0.      , 0.      ]], dtype=float32)>"
            ]
          },
          "metadata": {},
          "execution_count": 107
        }
      ]
    },
    {
      "cell_type": "code",
      "source": [
        "U.shape, D.shape, VT.shape"
      ],
      "metadata": {
        "colab": {
          "base_uri": "https://localhost:8080/"
        },
        "id": "BUahkhn35rUW",
        "outputId": "32656ebf-4a5f-48c0-805a-0f053a9652b6"
      },
      "execution_count": 108,
      "outputs": [
        {
          "output_type": "execute_result",
          "data": {
            "text/plain": [
              "(TensorShape([3, 3]), TensorShape([3, 2]), TensorShape([2, 2]))"
            ]
          },
          "metadata": {},
          "execution_count": 108
        }
      ]
    },
    {
      "cell_type": "code",
      "source": [
        "U @ D @ VT"
      ],
      "metadata": {
        "colab": {
          "base_uri": "https://localhost:8080/"
        },
        "id": "BPd61ZALsSsP",
        "outputId": "41fca04a-518e-4481-9730-382cf04fa2c9"
      },
      "execution_count": 109,
      "outputs": [
        {
          "output_type": "execute_result",
          "data": {
            "text/plain": [
              "<tf.Tensor: shape=(3, 2), dtype=float32, numpy=\n",
              "array([[-0.9999996,  2.       ],\n",
              "       [ 3.       , -2.       ],\n",
              "       [ 4.9999995,  6.999999 ]], dtype=float32)>"
            ]
          },
          "metadata": {},
          "execution_count": 109
        }
      ]
    },
    {
      "cell_type": "code",
      "source": [
        "lambdas, V = tf.linalg.eig(A @ tf.transpose(A))\n",
        "lambdas"
      ],
      "metadata": {
        "colab": {
          "base_uri": "https://localhost:8080/"
        },
        "id": "zgE_MFBcs3dF",
        "outputId": "50a9af7f-a2ec-4cef-9ca1-947bbfdfb663"
      },
      "execution_count": 110,
      "outputs": [
        {
          "output_type": "execute_result",
          "data": {
            "text/plain": [
              "<tf.Tensor: shape=(3,), dtype=complex64, numpy=\n",
              "array([2.3685737e-07+0.j, 1.6845245e+01+0.j, 7.5154739e+01+0.j],\n",
              "      dtype=complex64)>"
            ]
          },
          "metadata": {},
          "execution_count": 110
        }
      ]
    },
    {
      "cell_type": "code",
      "source": [
        "V"
      ],
      "metadata": {
        "colab": {
          "base_uri": "https://localhost:8080/"
        },
        "id": "tUxzQUUIuP_Q",
        "outputId": "a2b43d56-6661-411f-f9bb-6a199e8f9805"
      },
      "execution_count": 111,
      "outputs": [
        {
          "output_type": "execute_result",
          "data": {
            "text/plain": [
              "<tf.Tensor: shape=(3, 3), dtype=complex64, numpy=\n",
              "array([[ 0.87125415+0.j,  0.4740952 +0.j,  0.12708326+0.j],\n",
              "       [ 0.47778448+0.j, -0.8784754 +0.j,  0.0016462 +0.j],\n",
              "       [-0.11241987+0.j, -0.05928428+0.j,  0.9918907 +0.j]],\n",
              "      dtype=complex64)>"
            ]
          },
          "metadata": {},
          "execution_count": 111
        }
      ]
    },
    {
      "cell_type": "code",
      "source": [
        "U"
      ],
      "metadata": {
        "colab": {
          "base_uri": "https://localhost:8080/"
        },
        "id": "w9lvwj0qu-qL",
        "outputId": "3eb2dce3-0011-46c1-ddf8-68efecc24430"
      },
      "execution_count": 112,
      "outputs": [
        {
          "output_type": "execute_result",
          "data": {
            "text/plain": [
              "<tf.Tensor: shape=(3, 3), dtype=float32, numpy=\n",
              "array([[ 0.12708327, -0.47409505, -0.87125427],\n",
              "       [ 0.00164604,  0.8784756 , -0.47778445],\n",
              "       [ 0.9918907 ,  0.05928418,  0.11241978]], dtype=float32)>"
            ]
          },
          "metadata": {},
          "execution_count": 112
        }
      ]
    },
    {
      "cell_type": "code",
      "source": [
        "U = tf.reverse(U, [-1])"
      ],
      "metadata": {
        "id": "WsSOmFv9uIN8"
      },
      "execution_count": 113,
      "outputs": []
    },
    {
      "cell_type": "code",
      "source": [
        "tf.cast(V, tf.float32)==U"
      ],
      "metadata": {
        "colab": {
          "base_uri": "https://localhost:8080/"
        },
        "id": "PYqwP9aCtCvd",
        "outputId": "85c3cb00-2912-4771-e8a3-4adf8179d77a"
      },
      "execution_count": 114,
      "outputs": [
        {
          "output_type": "execute_result",
          "data": {
            "text/plain": [
              "<tf.Tensor: shape=(3, 3), dtype=bool, numpy=\n",
              "array([[False, False, False],\n",
              "       [False, False, False],\n",
              "       [False, False,  True]])>"
            ]
          },
          "metadata": {},
          "execution_count": 114
        }
      ]
    },
    {
      "cell_type": "code",
      "source": [
        "lambdas, V = tf.linalg.eig(tf.transpose(A) @ A)\n",
        "lambdas"
      ],
      "metadata": {
        "colab": {
          "base_uri": "https://localhost:8080/"
        },
        "id": "lXt8DFOLtNMK",
        "outputId": "985d9c40-c353-4f60-f646-e78f39871edf"
      },
      "execution_count": 115,
      "outputs": [
        {
          "output_type": "execute_result",
          "data": {
            "text/plain": [
              "<tf.Tensor: shape=(2,), dtype=complex64, numpy=array([16.845242+0.j, 75.154755+0.j], dtype=complex64)>"
            ]
          },
          "metadata": {},
          "execution_count": 115
        }
      ]
    },
    {
      "cell_type": "code",
      "source": [
        "V"
      ],
      "metadata": {
        "colab": {
          "base_uri": "https://localhost:8080/"
        },
        "id": "OAn5JWaatRtk",
        "outputId": "c01f6d1e-6fd9-4e18-ca28-0237adc3c304"
      },
      "execution_count": 116,
      "outputs": [
        {
          "output_type": "execute_result",
          "data": {
            "text/plain": [
              "<tf.Tensor: shape=(2, 2), dtype=complex64, numpy=\n",
              "array([[-0.8298484 +0.j, -0.5579889 +0.j],\n",
              "       [ 0.5579889 +0.j, -0.82984847+0.j]], dtype=complex64)>"
            ]
          },
          "metadata": {},
          "execution_count": 116
        }
      ]
    },
    {
      "cell_type": "code",
      "source": [
        "VT"
      ],
      "metadata": {
        "colab": {
          "base_uri": "https://localhost:8080/"
        },
        "id": "Ks3XYut4tW-G",
        "outputId": "994fe868-405f-4798-808f-2c9b7539c168"
      },
      "execution_count": 117,
      "outputs": [
        {
          "output_type": "execute_result",
          "data": {
            "text/plain": [
              "<tf.Tensor: shape=(2, 2), dtype=float32, numpy=\n",
              "array([[ 0.5579889,  0.8298484],\n",
              "       [ 0.8298484, -0.5579889]], dtype=float32)>"
            ]
          },
          "metadata": {},
          "execution_count": 117
        }
      ]
    },
    {
      "cell_type": "code",
      "source": [
        "from PIL import Image"
      ],
      "metadata": {
        "id": "euBytDP_v0gr"
      },
      "execution_count": 118,
      "outputs": []
    },
    {
      "cell_type": "code",
      "source": [
        "!wget https://cdn.britannica.com/92/197192-050-D4F4F166/Petro-Poroshenko-2016.jpg"
      ],
      "metadata": {
        "colab": {
          "base_uri": "https://localhost:8080/"
        },
        "id": "Phdp2A1QwBOx",
        "outputId": "ceceda8d-e9f5-4248-c115-5e9788c011ee"
      },
      "execution_count": 119,
      "outputs": [
        {
          "output_type": "stream",
          "name": "stdout",
          "text": [
            "--2023-01-03 20:24:54--  https://cdn.britannica.com/92/197192-050-D4F4F166/Petro-Poroshenko-2016.jpg\n",
            "Resolving cdn.britannica.com (cdn.britannica.com)... 52.85.132.43, 52.85.132.118, 52.85.132.51, ...\n",
            "Connecting to cdn.britannica.com (cdn.britannica.com)|52.85.132.43|:443... connected.\n",
            "HTTP request sent, awaiting response... 200 OK\n",
            "Length: 271408 (265K) [image/jpeg]\n",
            "Saving to: ‘Petro-Poroshenko-2016.jpg’\n",
            "\n",
            "\r          Petro-Por   0%[                    ]       0  --.-KB/s               \rPetro-Poroshenko-20 100%[===================>] 265.05K  --.-KB/s    in 0.006s  \n",
            "\n",
            "2023-01-03 20:24:54 (42.5 MB/s) - ‘Petro-Poroshenko-2016.jpg’ saved [271408/271408]\n",
            "\n"
          ]
        }
      ]
    },
    {
      "cell_type": "code",
      "source": [
        "img = Image.open('/content/Petro-Poroshenko-2016.jpg')\n",
        "_ = plt.imshow(img)"
      ],
      "metadata": {
        "colab": {
          "base_uri": "https://localhost:8080/",
          "height": 269
        },
        "id": "fCHQVFTnwXwo",
        "outputId": "10c822ec-c4d8-4675-b040-bff2fca5e479"
      },
      "execution_count": 120,
      "outputs": [
        {
          "output_type": "display_data",
          "data": {
            "text/plain": [
              "<Figure size 432x288 with 1 Axes>"
            ],
            "image/png": "[encoded data removed]"
          },
          "metadata": {
            "needs_background": "light"
          }
        }
      ]
    },
    {
      "cell_type": "code",
      "source": [
        "imggray = img.convert('LA')\n",
        "_= plt.imshow(imggray)"
      ],
      "metadata": {
        "colab": {
          "base_uri": "https://localhost:8080/",
          "height": 269
        },
        "id": "Vs4LjDlVxBrI",
        "outputId": "8122326e-e42c-4128-ae26-1e63b57ff7a1"
      },
      "execution_count": 121,
      "outputs": [
        {
          "output_type": "display_data",
          "data": {
            "text/plain": [
              "<Figure size 432x288 with 1 Axes>"
            ],
            "image/png": "[encoded data removed]"
          },
          "metadata": {
            "needs_background": "light"
          }
        }
      ]
    },
    {
      "cell_type": "code",
      "source": [
        "imgmat = np.array(list(imggray.getdata(band=0)), float)\n",
        "imgmat.shape = (imggray.size[1], imggray.size[0])\n",
        "imgmat = np.matrix(imgmat)\n",
        "_ = plt.imshow(imgmat, cmap='gray')"
      ],
      "metadata": {
        "colab": {
          "base_uri": "https://localhost:8080/",
          "height": 269
        },
        "id": "fIpKZr6mxK8t",
        "outputId": "da6c585d-c690-451e-b065-14e049c5b2c9"
      },
      "execution_count": 122,
      "outputs": [
        {
          "output_type": "display_data",
          "data": {
            "text/plain": [
              "<Figure size 432x288 with 1 Axes>"
            ],
            "image/png": "[encoded data removed]"
          },
          "metadata": {
            "needs_background": "light"
          }
        }
      ]
    },
    {
      "cell_type": "code",
      "source": [
        "imgmat = tf.convert_to_tensor(imgmat)"
      ],
      "metadata": {
        "id": "hjQKYG1w0TUV"
      },
      "execution_count": 123,
      "outputs": []
    },
    {
      "cell_type": "code",
      "source": [
        "sigma, U, V = tf.linalg.svd(imgmat, True)\n",
        "\n",
        "sigma = tf.cast(sigma, tf.float32)\n",
        "U = tf.cast(U, tf.float32)\n",
        "V = tf.cast(V, tf.float32)"
      ],
      "metadata": {
        "id": "F_vG8oM2xeBO"
      },
      "execution_count": 124,
      "outputs": []
    },
    {
      "cell_type": "code",
      "source": [
        "U, sigma, V = np.linalg.svd(imgmat)\n",
        "sigma, U, V"
      ],
      "metadata": {
        "colab": {
          "base_uri": "https://localhost:8080/"
        },
        "id": "O_U7BkTe5DLM",
        "outputId": "d6ace1c4-06d2-470d-9437-a47a9963c76c"
      },
      "execution_count": 125,
      "outputs": [
        {
          "output_type": "execute_result",
          "data": {
            "text/plain": [
              "(array([1.22112854e+05, 1.98539676e+04, 1.89536929e+04, 1.30662598e+04,\n",
              "        1.06971790e+04, 9.59563521e+03, 9.05389013e+03, 7.83588576e+03,\n",
              "        6.94254553e+03, 6.18579703e+03, 5.53342219e+03, 5.02472969e+03,\n",
              "        4.52780116e+03, 4.32967681e+03, 3.99955605e+03, 3.85719398e+03,\n",
              "        3.50141271e+03, 3.32099524e+03, 3.16046615e+03, 3.00996665e+03,\n",
              "        2.92443463e+03, 2.79013961e+03, 2.70067481e+03, 2.55701131e+03,\n",
              "        2.43633420e+03, 2.30050059e+03, 2.25087491e+03, 2.17925633e+03,\n",
              "        2.10145265e+03, 2.05277965e+03, 2.01666939e+03, 1.97775392e+03,\n",
              "        1.92186791e+03, 1.87823278e+03, 1.84592033e+03, 1.81146861e+03,\n",
              "        1.78754067e+03, 1.72505135e+03, 1.69272771e+03, 1.64632440e+03,\n",
              "        1.60747409e+03, 1.57165336e+03, 1.55750015e+03, 1.55345779e+03,\n",
              "        1.49316981e+03, 1.47148249e+03, 1.45307620e+03, 1.43470249e+03,\n",
              "        1.42220907e+03, 1.41334086e+03, 1.40435321e+03, 1.38815644e+03,\n",
              "        1.36745969e+03, 1.34858051e+03, 1.34202758e+03, 1.33685843e+03,\n",
              "        1.29915662e+03, 1.27833239e+03, 1.27115614e+03, 1.26558992e+03,\n",
              "        1.26037883e+03, 1.24562730e+03, 1.22770119e+03, 1.20594877e+03,\n",
              "        1.18462267e+03, 1.18111996e+03, 1.17274532e+03, 1.15853753e+03,\n",
              "        1.14687995e+03, 1.13883895e+03, 1.12788822e+03, 1.12088070e+03,\n",
              "        1.11584260e+03, 1.11080688e+03, 1.09211180e+03, 1.09030076e+03,\n",
              "        1.07397357e+03, 1.06600203e+03, 1.06090631e+03, 1.04785789e+03,\n",
              "        1.03298099e+03, 1.02608182e+03, 1.01838039e+03, 1.01418589e+03,\n",
              "        1.00690458e+03, 9.94911571e+02, 9.85259026e+02, 9.78208585e+02,\n",
              "        9.73338151e+02, 9.64349919e+02, 9.59824230e+02, 9.46715857e+02,\n",
              "        9.31334654e+02, 9.29982632e+02, 9.22963345e+02, 9.16721892e+02,\n",
              "        9.08934100e+02, 9.01559053e+02, 8.95141987e+02, 8.92614667e+02,\n",
              "        8.92362066e+02, 8.79781196e+02, 8.76544370e+02, 8.69590662e+02,\n",
              "        8.63311187e+02, 8.55593888e+02, 8.45824585e+02, 8.42623342e+02,\n",
              "        8.33540129e+02, 8.30941892e+02, 8.23462640e+02, 8.20292697e+02,\n",
              "        8.10891005e+02, 8.06802831e+02, 8.00559987e+02, 7.95040681e+02,\n",
              "        7.93954352e+02, 7.88069802e+02, 7.83019659e+02, 7.75476229e+02,\n",
              "        7.73578699e+02, 7.68521293e+02, 7.62158143e+02, 7.60250574e+02,\n",
              "        7.55269618e+02, 7.49656243e+02, 7.48697587e+02, 7.44555094e+02,\n",
              "        7.39450768e+02, 7.29836450e+02, 7.27892735e+02, 7.26011189e+02,\n",
              "        7.24449747e+02, 7.21516629e+02, 7.15615078e+02, 7.14095099e+02,\n",
              "        7.05427603e+02, 7.02182599e+02, 6.98279757e+02, 6.96744758e+02,\n",
              "        6.93407081e+02, 6.91919268e+02, 6.89507815e+02, 6.88002299e+02,\n",
              "        6.81944688e+02, 6.78137404e+02, 6.75143354e+02, 6.71568460e+02,\n",
              "        6.69346411e+02, 6.63838215e+02, 6.62283767e+02, 6.60356830e+02,\n",
              "        6.57407370e+02, 6.51743449e+02, 6.49333180e+02, 6.44897268e+02,\n",
              "        6.43279897e+02, 6.41454221e+02, 6.38593807e+02, 6.32288947e+02,\n",
              "        6.30676158e+02, 6.27490892e+02, 6.25399432e+02, 6.23735728e+02,\n",
              "        6.19387380e+02, 6.16884470e+02, 6.13953772e+02, 6.11425528e+02,\n",
              "        6.10081871e+02, 6.05259389e+02, 6.03862068e+02, 6.00766612e+02,\n",
              "        5.98432887e+02, 5.96935380e+02, 5.93598129e+02, 5.93122145e+02,\n",
              "        5.90265480e+02, 5.87590226e+02, 5.83833071e+02, 5.80189617e+02,\n",
              "        5.76300922e+02, 5.74124635e+02, 5.73024940e+02, 5.70459356e+02,\n",
              "        5.69193624e+02, 5.68255100e+02, 5.67639676e+02, 5.61283322e+02,\n",
              "        5.60640421e+02, 5.58077816e+02, 5.55307378e+02, 5.53827464e+02,\n",
              "        5.51766486e+02, 5.49488018e+02, 5.47792688e+02, 5.45264793e+02,\n",
              "        5.43080241e+02, 5.41379022e+02, 5.39632713e+02, 5.37759101e+02,\n",
              "        5.36742532e+02, 5.33538577e+02, 5.32192244e+02, 5.29369015e+02,\n",
              "        5.27366337e+02, 5.25711340e+02, 5.24185410e+02, 5.23414553e+02,\n",
              "        5.19838829e+02, 5.19635314e+02, 5.17204680e+02, 5.15046276e+02,\n",
              "        5.14933754e+02, 5.12677141e+02, 5.10483153e+02, 5.09455159e+02,\n",
              "        5.07934722e+02, 5.06309460e+02, 5.05521546e+02, 5.02512614e+02,\n",
              "        5.01396952e+02, 5.00350049e+02, 4.98631457e+02, 4.97436228e+02,\n",
              "        4.94509920e+02, 4.93385144e+02, 4.92206548e+02, 4.91461839e+02,\n",
              "        4.89959083e+02, 4.87039138e+02, 4.85154670e+02, 4.84184137e+02,\n",
              "        4.82465778e+02, 4.81247940e+02, 4.80111910e+02, 4.78615025e+02,\n",
              "        4.77903365e+02, 4.76671410e+02, 4.76365900e+02, 4.74753109e+02,\n",
              "        4.74133490e+02, 4.71607154e+02, 4.70767167e+02, 4.69347309e+02,\n",
              "        4.68363956e+02, 4.68049597e+02, 4.64467993e+02, 4.61963923e+02,\n",
              "        4.60529911e+02, 4.57607285e+02, 4.56699572e+02, 4.55769685e+02,\n",
              "        4.53820572e+02, 4.52640876e+02, 4.52618176e+02, 4.50789769e+02,\n",
              "        4.49432674e+02, 4.48530991e+02, 4.47941782e+02, 4.45930183e+02,\n",
              "        4.44188466e+02, 4.43794238e+02, 4.42485611e+02, 4.40753500e+02,\n",
              "        4.39289596e+02, 4.38575449e+02, 4.36677328e+02, 4.35399428e+02,\n",
              "        4.34274402e+02, 4.33516867e+02, 4.32572205e+02, 4.30412918e+02,\n",
              "        4.30331832e+02, 4.28216090e+02, 4.27317303e+02, 4.27069614e+02,\n",
              "        4.25703171e+02, 4.24239333e+02, 4.23301853e+02, 4.22607865e+02,\n",
              "        4.20073925e+02, 4.19233777e+02, 4.17103792e+02, 4.16510465e+02,\n",
              "        4.15734014e+02, 4.14183618e+02, 4.12633133e+02, 4.11726566e+02,\n",
              "        4.11498862e+02, 4.10671941e+02, 4.09734986e+02, 4.08855158e+02,\n",
              "        4.06293981e+02, 4.05679779e+02, 4.03734543e+02, 4.03253425e+02,\n",
              "        4.01737107e+02, 4.00352753e+02, 3.99676927e+02, 3.98263163e+02,\n",
              "        3.97781561e+02, 3.96844519e+02, 3.96321672e+02, 3.95133028e+02,\n",
              "        3.93493615e+02, 3.92244674e+02, 3.91395782e+02, 3.90949370e+02,\n",
              "        3.90450605e+02, 3.89237723e+02, 3.88267239e+02, 3.87811713e+02,\n",
              "        3.85851085e+02, 3.85081565e+02, 3.83346386e+02, 3.82777604e+02,\n",
              "        3.81884068e+02, 3.80167578e+02, 3.79635012e+02, 3.79281167e+02,\n",
              "        3.77948797e+02, 3.77385523e+02, 3.76878321e+02, 3.74992986e+02,\n",
              "        3.73755943e+02, 3.72534192e+02, 3.71099387e+02, 3.70248536e+02,\n",
              "        3.69713863e+02, 3.68221991e+02, 3.67687826e+02, 3.67013995e+02,\n",
              "        3.66571266e+02, 3.66176706e+02, 3.64567781e+02, 3.64360042e+02,\n",
              "        3.62723092e+02, 3.61097925e+02, 3.60433181e+02, 3.59977015e+02,\n",
              "        3.58919539e+02, 3.57740099e+02, 3.56622927e+02, 3.55869996e+02,\n",
              "        3.54312446e+02, 3.53575494e+02, 3.52723031e+02, 3.52064248e+02,\n",
              "        3.50975257e+02, 3.50392776e+02, 3.49043234e+02, 3.48128235e+02,\n",
              "        3.47275642e+02, 3.47164981e+02, 3.46525832e+02, 3.45288094e+02,\n",
              "        3.44542433e+02, 3.43435639e+02, 3.42264833e+02, 3.41126885e+02,\n",
              "        3.40360953e+02, 3.40135790e+02, 3.38843206e+02, 3.37581348e+02,\n",
              "        3.36834761e+02, 3.36069698e+02, 3.35876703e+02, 3.34775343e+02,\n",
              "        3.33724279e+02, 3.33581341e+02, 3.32008426e+02, 3.31613871e+02,\n",
              "        3.31300099e+02, 3.30216930e+02, 3.28643139e+02, 3.27912537e+02,\n",
              "        3.26262140e+02, 3.26094321e+02, 3.25100173e+02, 3.24212981e+02,\n",
              "        3.23794835e+02, 3.23545121e+02, 3.21729481e+02, 3.20450291e+02,\n",
              "        3.19733805e+02, 3.19224532e+02, 3.18349979e+02, 3.17814193e+02,\n",
              "        3.17318289e+02, 3.16142983e+02, 3.15224977e+02, 3.14403380e+02,\n",
              "        3.13543385e+02, 3.12196091e+02, 3.11314877e+02, 3.10783485e+02,\n",
              "        3.09419043e+02, 3.09178455e+02, 3.07894554e+02, 3.07243598e+02,\n",
              "        3.06194336e+02, 3.05284374e+02, 3.04810173e+02, 3.03827341e+02,\n",
              "        3.02738393e+02, 3.02188106e+02, 3.01693673e+02, 3.00175697e+02,\n",
              "        3.00038313e+02, 2.99367126e+02, 2.98729936e+02, 2.98268572e+02,\n",
              "        2.97374893e+02, 2.96946218e+02, 2.94699793e+02, 2.94000155e+02,\n",
              "        2.93092485e+02, 2.92292571e+02, 2.91564019e+02, 2.90650907e+02,\n",
              "        2.90401569e+02, 2.89580905e+02, 2.88492849e+02, 2.87436208e+02,\n",
              "        2.87209596e+02, 2.86250146e+02, 2.85805503e+02, 2.84865539e+02,\n",
              "        2.84264357e+02, 2.83275968e+02, 2.82537163e+02, 2.81835056e+02,\n",
              "        2.80861629e+02, 2.80097021e+02, 2.79948423e+02, 2.78670159e+02,\n",
              "        2.78269410e+02, 2.77714817e+02, 2.76832005e+02, 2.76537011e+02,\n",
              "        2.74742485e+02, 2.74261870e+02, 2.73413502e+02, 2.73212467e+02,\n",
              "        2.72533477e+02, 2.71586788e+02, 2.70658099e+02, 2.69841908e+02,\n",
              "        2.69587766e+02, 2.68567876e+02, 2.67866748e+02, 2.66801661e+02,\n",
              "        2.66098504e+02, 2.65512705e+02, 2.65384401e+02, 2.64351058e+02,\n",
              "        2.63456858e+02, 2.62927072e+02, 2.62639248e+02, 2.61387517e+02,\n",
              "        2.60396913e+02, 2.59902554e+02, 2.59073562e+02, 2.58061988e+02,\n",
              "        2.57806348e+02, 2.57192014e+02, 2.56648413e+02, 2.55994296e+02,\n",
              "        2.55597981e+02, 2.54517787e+02, 2.53851678e+02, 2.52953478e+02,\n",
              "        2.52245313e+02, 2.51576622e+02, 2.50760980e+02, 2.50510718e+02,\n",
              "        2.49745039e+02, 2.48885126e+02, 2.48599992e+02, 2.47315605e+02,\n",
              "        2.46336640e+02, 2.45590297e+02, 2.45408733e+02, 2.44266630e+02,\n",
              "        2.43252957e+02, 2.42898072e+02, 2.42666797e+02, 2.41349979e+02,\n",
              "        2.40946218e+02, 2.40246498e+02, 2.38305325e+02, 2.38032632e+02,\n",
              "        2.37286396e+02, 2.36930737e+02, 2.35930262e+02, 2.35266390e+02,\n",
              "        2.34573884e+02, 2.34307548e+02, 2.33898366e+02, 2.33228708e+02,\n",
              "        2.32581173e+02, 2.31622746e+02, 2.30867985e+02, 2.30660325e+02,\n",
              "        2.29457033e+02, 2.28667675e+02, 2.27949747e+02, 2.27311088e+02,\n",
              "        2.26700564e+02, 2.25953421e+02, 2.25602775e+02, 2.24399069e+02,\n",
              "        2.23887716e+02, 2.22992614e+02, 2.22234245e+02, 2.21223697e+02,\n",
              "        2.20671845e+02, 2.19850939e+02, 2.19077555e+02, 2.18608693e+02,\n",
              "        2.17600190e+02, 2.17571536e+02, 2.16449878e+02, 2.16141924e+02,\n",
              "        2.15756521e+02, 2.15477315e+02, 2.14815485e+02, 2.14278975e+02,\n",
              "        2.13657032e+02, 2.12816212e+02, 2.12045619e+02, 2.11829002e+02,\n",
              "        2.10438496e+02, 2.10218407e+02, 2.09118139e+02, 2.08646405e+02,\n",
              "        2.08184513e+02, 2.07820292e+02, 2.06981118e+02, 2.06093850e+02,\n",
              "        2.05652822e+02, 2.05487067e+02, 2.04737443e+02, 2.03653754e+02,\n",
              "        2.02255615e+02, 2.01802604e+02, 2.01303186e+02, 2.00618824e+02,\n",
              "        1.99934779e+02, 1.99116640e+02, 1.98925994e+02, 1.98464880e+02,\n",
              "        1.97982622e+02, 1.96474692e+02, 1.96138467e+02, 1.95411015e+02,\n",
              "        1.95102667e+02, 1.94546437e+02, 1.93609963e+02, 1.93012996e+02,\n",
              "        1.92347376e+02, 1.91817171e+02, 1.91260726e+02, 1.90579895e+02,\n",
              "        1.89910989e+02, 1.89897566e+02, 1.89089165e+02, 1.88198011e+02,\n",
              "        1.87132535e+02, 1.86220024e+02, 1.85789009e+02, 1.84985034e+02,\n",
              "        1.84873891e+02, 1.83754052e+02, 1.83210389e+02, 1.82451211e+02,\n",
              "        1.82200666e+02, 1.81847432e+02, 1.80947564e+02, 1.80459464e+02,\n",
              "        1.79798423e+02, 1.79321086e+02, 1.78776804e+02, 1.78442203e+02,\n",
              "        1.77901446e+02, 1.77240182e+02, 1.75955645e+02, 1.75380563e+02,\n",
              "        1.74471039e+02, 1.73983888e+02, 1.73518157e+02, 1.73197908e+02,\n",
              "        1.72094788e+02, 1.71942975e+02, 1.71844050e+02, 1.70386090e+02,\n",
              "        1.70166560e+02, 1.69889966e+02, 1.68199390e+02, 1.68034727e+02,\n",
              "        1.67348372e+02, 1.66528693e+02, 1.66423826e+02, 1.65818062e+02,\n",
              "        1.64960725e+02, 1.64500524e+02, 1.64117327e+02, 1.63529753e+02,\n",
              "        1.62861085e+02, 1.61861215e+02, 1.60867569e+02, 1.60044507e+02,\n",
              "        1.59405729e+02, 1.58471771e+02, 1.58061833e+02, 1.57677597e+02,\n",
              "        1.57195722e+02, 1.56959771e+02, 1.56278966e+02, 1.55607382e+02,\n",
              "        1.55152296e+02, 1.54455889e+02, 1.53917471e+02, 1.53108785e+02,\n",
              "        1.52806212e+02, 1.52322835e+02, 1.52130968e+02, 1.51566127e+02,\n",
              "        1.50281860e+02, 1.49902067e+02, 1.48565704e+02, 1.48477643e+02,\n",
              "        1.48377343e+02, 1.47677601e+02, 1.47072640e+02, 1.46160608e+02,\n",
              "        1.46030023e+02, 1.45444314e+02, 1.44831318e+02, 1.44632283e+02,\n",
              "        1.43237023e+02, 1.42863062e+02, 1.42743059e+02, 1.42178131e+02,\n",
              "        1.41738289e+02, 1.41088802e+02, 1.40279929e+02, 1.39842208e+02,\n",
              "        1.39292223e+02, 1.38695344e+02, 1.38039694e+02, 1.37614796e+02,\n",
              "        1.37194635e+02, 1.36313906e+02, 1.35907194e+02, 1.35889000e+02,\n",
              "        1.35355368e+02, 1.34655825e+02, 1.34019850e+02, 1.33391782e+02,\n",
              "        1.32982925e+02, 1.32228284e+02, 1.31721312e+02, 1.30774984e+02,\n",
              "        1.30173752e+02, 1.29661942e+02, 1.29277178e+02, 1.28427225e+02,\n",
              "        1.28138495e+02, 1.27745900e+02, 1.26762274e+02, 1.26650928e+02,\n",
              "        1.26261213e+02, 1.25860380e+02, 1.25399941e+02, 1.24423979e+02,\n",
              "        1.23955497e+02, 1.23076838e+02, 1.22543294e+02, 1.21794643e+02,\n",
              "        1.20999960e+02, 1.20512637e+02, 1.20446067e+02, 1.20175404e+02,\n",
              "        1.19450547e+02, 1.18543481e+02, 1.18092194e+02, 1.17510275e+02,\n",
              "        1.16920946e+02, 1.16343726e+02, 1.16039731e+02, 1.15759518e+02,\n",
              "        1.14883219e+02, 1.14640073e+02, 1.14125107e+02, 1.13955271e+02,\n",
              "        1.13213185e+02, 1.12290630e+02, 1.11490463e+02, 1.10913701e+02,\n",
              "        1.10665845e+02, 1.10074808e+02, 1.09698624e+02, 1.09596068e+02,\n",
              "        1.08682358e+02, 1.08629687e+02, 1.07749022e+02, 1.07684082e+02,\n",
              "        1.06752409e+02, 1.05868381e+02, 1.05544361e+02, 1.05262280e+02,\n",
              "        1.04391431e+02, 1.03908191e+02, 1.03198492e+02, 1.02818333e+02,\n",
              "        1.02353925e+02, 1.01766924e+02, 1.01262608e+02, 1.00670636e+02,\n",
              "        1.00561566e+02, 9.97804196e+01, 9.94758591e+01, 9.88324007e+01,\n",
              "        9.81791062e+01, 9.75568298e+01, 9.71311745e+01, 9.67860545e+01,\n",
              "        9.62298046e+01, 9.56351167e+01, 9.54665220e+01, 9.49698028e+01,\n",
              "        9.44782847e+01, 9.38846499e+01, 9.35298824e+01, 9.30415512e+01,\n",
              "        9.24300503e+01, 9.20426550e+01, 9.18136103e+01, 9.08795733e+01,\n",
              "        9.06551046e+01, 9.02600385e+01, 9.01933945e+01, 8.95636242e+01,\n",
              "        8.93148007e+01, 8.84684644e+01, 8.81677682e+01, 8.78675220e+01,\n",
              "        8.75884943e+01, 8.69118469e+01, 8.65318906e+01, 8.56499811e+01,\n",
              "        8.54463136e+01, 8.44796646e+01, 8.42452992e+01, 8.38982683e+01,\n",
              "        8.26898215e+01, 8.24592144e+01, 8.18753108e+01, 8.13460078e+01,\n",
              "        8.07763649e+01, 8.05390865e+01, 8.03878884e+01, 8.02947006e+01,\n",
              "        7.94891016e+01, 7.88526225e+01, 7.86456324e+01, 7.81746008e+01,\n",
              "        7.75534959e+01, 7.73016962e+01, 7.64046432e+01, 7.59232688e+01,\n",
              "        7.57175140e+01, 7.50125468e+01, 7.46449680e+01, 7.43345542e+01,\n",
              "        7.35824442e+01, 7.30572062e+01, 7.22923524e+01, 7.22213990e+01,\n",
              "        7.14380973e+01, 7.11521916e+01, 7.08707211e+01, 7.06246674e+01,\n",
              "        7.01141293e+01, 6.98745267e+01, 6.91362355e+01, 6.87309756e+01,\n",
              "        6.82442371e+01, 6.81112613e+01, 6.73949781e+01, 6.66738442e+01,\n",
              "        6.64117361e+01, 6.57509132e+01, 6.55965922e+01, 6.46969892e+01,\n",
              "        6.45266242e+01, 6.40311756e+01, 6.33278756e+01, 6.32197815e+01,\n",
              "        6.28325675e+01, 6.22793418e+01, 6.16005771e+01, 6.14290587e+01,\n",
              "        6.06930100e+01, 6.03296823e+01, 6.00512891e+01, 5.97610918e+01,\n",
              "        5.95797923e+01, 5.93302340e+01, 5.85611509e+01, 5.82713575e+01,\n",
              "        5.78635916e+01, 5.75665366e+01, 5.74518096e+01, 5.66833544e+01,\n",
              "        5.62469636e+01, 5.56799130e+01, 5.50428230e+01, 5.47961175e+01,\n",
              "        5.40901307e+01, 5.38620872e+01, 5.35882865e+01, 5.28408164e+01,\n",
              "        5.26883038e+01, 5.23954889e+01, 5.17429378e+01, 5.15793916e+01,\n",
              "        5.14467107e+01, 5.09043234e+01, 5.03288840e+01, 4.97840259e+01,\n",
              "        4.95863564e+01, 4.90222358e+01, 4.86616200e+01, 4.83859360e+01,\n",
              "        4.80517909e+01, 4.77526296e+01, 4.76705806e+01, 4.70479767e+01,\n",
              "        4.62947916e+01, 4.60192595e+01, 4.57917479e+01, 4.55488033e+01,\n",
              "        4.51829857e+01, 4.43977523e+01, 4.42285450e+01, 4.36513425e+01,\n",
              "        4.35328758e+01, 4.31436805e+01, 4.28740969e+01, 4.25205345e+01,\n",
              "        4.22415747e+01, 4.18043025e+01, 4.14132352e+01, 4.09389457e+01,\n",
              "        4.00190142e+01, 3.99791357e+01, 3.98114461e+01, 3.94367363e+01,\n",
              "        3.88085924e+01, 3.84227894e+01, 3.82587324e+01, 3.80447810e+01,\n",
              "        3.75861791e+01, 3.72022669e+01, 3.70760109e+01, 3.64052211e+01,\n",
              "        3.57225990e+01, 3.55790561e+01, 3.51209233e+01, 3.50573217e+01,\n",
              "        3.46926724e+01, 3.44582883e+01, 3.41361701e+01, 3.40123526e+01,\n",
              "        3.37517528e+01, 3.34773168e+01, 3.25320036e+01, 3.22438647e+01,\n",
              "        3.20101509e+01, 3.19397993e+01, 3.14314794e+01, 3.10578517e+01,\n",
              "        3.07992177e+01, 3.05027630e+01, 3.01664225e+01, 2.98216871e+01,\n",
              "        2.92635680e+01, 2.89006401e+01, 2.84271961e+01, 2.82229632e+01,\n",
              "        2.78241992e+01, 2.77463476e+01, 2.76778557e+01, 2.68956054e+01,\n",
              "        2.68612796e+01, 2.66525351e+01, 2.62531468e+01, 2.60438861e+01,\n",
              "        2.57285411e+01, 2.50197863e+01, 2.45688383e+01, 2.44214138e+01,\n",
              "        2.42958342e+01, 2.39082105e+01, 2.35283800e+01, 2.33145848e+01,\n",
              "        2.30554647e+01, 2.27479241e+01, 2.24823753e+01, 2.23326993e+01,\n",
              "        2.19298846e+01, 2.13849795e+01, 2.12236239e+01, 2.05629353e+01,\n",
              "        2.02562895e+01, 1.99655199e+01, 1.97772262e+01, 1.94944387e+01,\n",
              "        1.90950059e+01, 1.88557126e+01, 1.84916523e+01, 1.84006053e+01,\n",
              "        1.82165492e+01, 1.77260741e+01, 1.76265172e+01, 1.68788490e+01,\n",
              "        1.67438460e+01, 1.61466013e+01, 1.59506681e+01, 1.58970581e+01,\n",
              "        1.54719406e+01, 1.51214372e+01, 1.47083111e+01, 1.46776399e+01,\n",
              "        1.40488360e+01, 1.34381225e+01, 1.33373371e+01, 1.24572033e+01]),\n",
              " array([[-0.02476108,  0.00636299, -0.02404697, ..., -0.02439765,\n",
              "          0.012201  , -0.00841102],\n",
              "        [-0.02483053,  0.00648242, -0.02469328, ..., -0.0366192 ,\n",
              "         -0.00058528,  0.03548406],\n",
              "        [-0.02470327,  0.0056907 , -0.02438035, ...,  0.02519734,\n",
              "         -0.00614676, -0.01668164],\n",
              "        ...,\n",
              "        [-0.01939125, -0.02032411, -0.00867837, ...,  0.34243589,\n",
              "         -0.20907539,  0.08460058],\n",
              "        [-0.01898928, -0.01948904, -0.00652201, ..., -0.18713738,\n",
              "          0.33420025, -0.13523167],\n",
              "        [-0.01892868, -0.01893218, -0.00391471, ...,  0.05244671,\n",
              "         -0.13341906,  0.13051465]]),\n",
              " array([[-2.10333314e-02, -2.09235518e-02, -2.07859216e-02, ...,\n",
              "         -2.67199122e-02, -2.67762758e-02, -2.67097588e-02],\n",
              "        [-3.09679708e-04, -4.06401490e-05, -1.25889743e-04, ...,\n",
              "         -2.08144791e-02, -2.08050658e-02, -2.12973412e-02],\n",
              "        [ 4.24372874e-03,  3.31749433e-03,  3.21082934e-03, ...,\n",
              "          7.00775777e-03,  7.25104655e-03,  6.97409215e-03],\n",
              "        ...,\n",
              "        [-3.78503992e-03, -1.68709228e-02, -4.65765919e-03, ...,\n",
              "          5.17941612e-02, -6.80777204e-02,  2.91160164e-02],\n",
              "        [ 1.25335903e-02, -2.08162603e-02,  4.42896296e-02, ...,\n",
              "          6.58586052e-02, -4.73768113e-02,  1.34437423e-02],\n",
              "        [-2.95318980e-02,  1.54143177e-02,  1.40409123e-02, ...,\n",
              "          2.33055046e-02, -3.55767759e-02,  2.80273834e-02]]))"
            ]
          },
          "metadata": {},
          "execution_count": 125
        }
      ]
    },
    {
      "cell_type": "code",
      "source": [
        "sigma, U, V"
      ],
      "metadata": {
        "colab": {
          "base_uri": "https://localhost:8080/"
        },
        "id": "zt3GD4UI452f",
        "outputId": "22e97f1e-ea88-4671-c107-39d73e06a849"
      },
      "execution_count": 126,
      "outputs": [
        {
          "output_type": "execute_result",
          "data": {
            "text/plain": [
              "(array([1.22112854e+05, 1.98539676e+04, 1.89536929e+04, 1.30662598e+04,\n",
              "        1.06971790e+04, 9.59563521e+03, 9.05389013e+03, 7.83588576e+03,\n",
              "        6.94254553e+03, 6.18579703e+03, 5.53342219e+03, 5.02472969e+03,\n",
              "        4.52780116e+03, 4.32967681e+03, 3.99955605e+03, 3.85719398e+03,\n",
              "        3.50141271e+03, 3.32099524e+03, 3.16046615e+03, 3.00996665e+03,\n",
              "        2.92443463e+03, 2.79013961e+03, 2.70067481e+03, 2.55701131e+03,\n",
              "        2.43633420e+03, 2.30050059e+03, 2.25087491e+03, 2.17925633e+03,\n",
              "        2.10145265e+03, 2.05277965e+03, 2.01666939e+03, 1.97775392e+03,\n",
              "        1.92186791e+03, 1.87823278e+03, 1.84592033e+03, 1.81146861e+03,\n",
              "        1.78754067e+03, 1.72505135e+03, 1.69272771e+03, 1.64632440e+03,\n",
              "        1.60747409e+03, 1.57165336e+03, 1.55750015e+03, 1.55345779e+03,\n",
              "        1.49316981e+03, 1.47148249e+03, 1.45307620e+03, 1.43470249e+03,\n",
              "        1.42220907e+03, 1.41334086e+03, 1.40435321e+03, 1.38815644e+03,\n",
              "        1.36745969e+03, 1.34858051e+03, 1.34202758e+03, 1.33685843e+03,\n",
              "        1.29915662e+03, 1.27833239e+03, 1.27115614e+03, 1.26558992e+03,\n",
              "        1.26037883e+03, 1.24562730e+03, 1.22770119e+03, 1.20594877e+03,\n",
              "        1.18462267e+03, 1.18111996e+03, 1.17274532e+03, 1.15853753e+03,\n",
              "        1.14687995e+03, 1.13883895e+03, 1.12788822e+03, 1.12088070e+03,\n",
              "        1.11584260e+03, 1.11080688e+03, 1.09211180e+03, 1.09030076e+03,\n",
              "        1.07397357e+03, 1.06600203e+03, 1.06090631e+03, 1.04785789e+03,\n",
              "        1.03298099e+03, 1.02608182e+03, 1.01838039e+03, 1.01418589e+03,\n",
              "        1.00690458e+03, 9.94911571e+02, 9.85259026e+02, 9.78208585e+02,\n",
              "        9.73338151e+02, 9.64349919e+02, 9.59824230e+02, 9.46715857e+02,\n",
              "        9.31334654e+02, 9.29982632e+02, 9.22963345e+02, 9.16721892e+02,\n",
              "        9.08934100e+02, 9.01559053e+02, 8.95141987e+02, 8.92614667e+02,\n",
              "        8.92362066e+02, 8.79781196e+02, 8.76544370e+02, 8.69590662e+02,\n",
              "        8.63311187e+02, 8.55593888e+02, 8.45824585e+02, 8.42623342e+02,\n",
              "        8.33540129e+02, 8.30941892e+02, 8.23462640e+02, 8.20292697e+02,\n",
              "        8.10891005e+02, 8.06802831e+02, 8.00559987e+02, 7.95040681e+02,\n",
              "        7.93954352e+02, 7.88069802e+02, 7.83019659e+02, 7.75476229e+02,\n",
              "        7.73578699e+02, 7.68521293e+02, 7.62158143e+02, 7.60250574e+02,\n",
              "        7.55269618e+02, 7.49656243e+02, 7.48697587e+02, 7.44555094e+02,\n",
              "        7.39450768e+02, 7.29836450e+02, 7.27892735e+02, 7.26011189e+02,\n",
              "        7.24449747e+02, 7.21516629e+02, 7.15615078e+02, 7.14095099e+02,\n",
              "        7.05427603e+02, 7.02182599e+02, 6.98279757e+02, 6.96744758e+02,\n",
              "        6.93407081e+02, 6.91919268e+02, 6.89507815e+02, 6.88002299e+02,\n",
              "        6.81944688e+02, 6.78137404e+02, 6.75143354e+02, 6.71568460e+02,\n",
              "        6.69346411e+02, 6.63838215e+02, 6.62283767e+02, 6.60356830e+02,\n",
              "        6.57407370e+02, 6.51743449e+02, 6.49333180e+02, 6.44897268e+02,\n",
              "        6.43279897e+02, 6.41454221e+02, 6.38593807e+02, 6.32288947e+02,\n",
              "        6.30676158e+02, 6.27490892e+02, 6.25399432e+02, 6.23735728e+02,\n",
              "        6.19387380e+02, 6.16884470e+02, 6.13953772e+02, 6.11425528e+02,\n",
              "        6.10081871e+02, 6.05259389e+02, 6.03862068e+02, 6.00766612e+02,\n",
              "        5.98432887e+02, 5.96935380e+02, 5.93598129e+02, 5.93122145e+02,\n",
              "        5.90265480e+02, 5.87590226e+02, 5.83833071e+02, 5.80189617e+02,\n",
              "        5.76300922e+02, 5.74124635e+02, 5.73024940e+02, 5.70459356e+02,\n",
              "        5.69193624e+02, 5.68255100e+02, 5.67639676e+02, 5.61283322e+02,\n",
              "        5.60640421e+02, 5.58077816e+02, 5.55307378e+02, 5.53827464e+02,\n",
              "        5.51766486e+02, 5.49488018e+02, 5.47792688e+02, 5.45264793e+02,\n",
              "        5.43080241e+02, 5.41379022e+02, 5.39632713e+02, 5.37759101e+02,\n",
              "        5.36742532e+02, 5.33538577e+02, 5.32192244e+02, 5.29369015e+02,\n",
              "        5.27366337e+02, 5.25711340e+02, 5.24185410e+02, 5.23414553e+02,\n",
              "        5.19838829e+02, 5.19635314e+02, 5.17204680e+02, 5.15046276e+02,\n",
              "        5.14933754e+02, 5.12677141e+02, 5.10483153e+02, 5.09455159e+02,\n",
              "        5.07934722e+02, 5.06309460e+02, 5.05521546e+02, 5.02512614e+02,\n",
              "        5.01396952e+02, 5.00350049e+02, 4.98631457e+02, 4.97436228e+02,\n",
              "        4.94509920e+02, 4.93385144e+02, 4.92206548e+02, 4.91461839e+02,\n",
              "        4.89959083e+02, 4.87039138e+02, 4.85154670e+02, 4.84184137e+02,\n",
              "        4.82465778e+02, 4.81247940e+02, 4.80111910e+02, 4.78615025e+02,\n",
              "        4.77903365e+02, 4.76671410e+02, 4.76365900e+02, 4.74753109e+02,\n",
              "        4.74133490e+02, 4.71607154e+02, 4.70767167e+02, 4.69347309e+02,\n",
              "        4.68363956e+02, 4.68049597e+02, 4.64467993e+02, 4.61963923e+02,\n",
              "        4.60529911e+02, 4.57607285e+02, 4.56699572e+02, 4.55769685e+02,\n",
              "        4.53820572e+02, 4.52640876e+02, 4.52618176e+02, 4.50789769e+02,\n",
              "        4.49432674e+02, 4.48530991e+02, 4.47941782e+02, 4.45930183e+02,\n",
              "        4.44188466e+02, 4.43794238e+02, 4.42485611e+02, 4.40753500e+02,\n",
              "        4.39289596e+02, 4.38575449e+02, 4.36677328e+02, 4.35399428e+02,\n",
              "        4.34274402e+02, 4.33516867e+02, 4.32572205e+02, 4.30412918e+02,\n",
              "        4.30331832e+02, 4.28216090e+02, 4.27317303e+02, 4.27069614e+02,\n",
              "        4.25703171e+02, 4.24239333e+02, 4.23301853e+02, 4.22607865e+02,\n",
              "        4.20073925e+02, 4.19233777e+02, 4.17103792e+02, 4.16510465e+02,\n",
              "        4.15734014e+02, 4.14183618e+02, 4.12633133e+02, 4.11726566e+02,\n",
              "        4.11498862e+02, 4.10671941e+02, 4.09734986e+02, 4.08855158e+02,\n",
              "        4.06293981e+02, 4.05679779e+02, 4.03734543e+02, 4.03253425e+02,\n",
              "        4.01737107e+02, 4.00352753e+02, 3.99676927e+02, 3.98263163e+02,\n",
              "        3.97781561e+02, 3.96844519e+02, 3.96321672e+02, 3.95133028e+02,\n",
              "        3.93493615e+02, 3.92244674e+02, 3.91395782e+02, 3.90949370e+02,\n",
              "        3.90450605e+02, 3.89237723e+02, 3.88267239e+02, 3.87811713e+02,\n",
              "        3.85851085e+02, 3.85081565e+02, 3.83346386e+02, 3.82777604e+02,\n",
              "        3.81884068e+02, 3.80167578e+02, 3.79635012e+02, 3.79281167e+02,\n",
              "        3.77948797e+02, 3.77385523e+02, 3.76878321e+02, 3.74992986e+02,\n",
              "        3.73755943e+02, 3.72534192e+02, 3.71099387e+02, 3.70248536e+02,\n",
              "        3.69713863e+02, 3.68221991e+02, 3.67687826e+02, 3.67013995e+02,\n",
              "        3.66571266e+02, 3.66176706e+02, 3.64567781e+02, 3.64360042e+02,\n",
              "        3.62723092e+02, 3.61097925e+02, 3.60433181e+02, 3.59977015e+02,\n",
              "        3.58919539e+02, 3.57740099e+02, 3.56622927e+02, 3.55869996e+02,\n",
              "        3.54312446e+02, 3.53575494e+02, 3.52723031e+02, 3.52064248e+02,\n",
              "        3.50975257e+02, 3.50392776e+02, 3.49043234e+02, 3.48128235e+02,\n",
              "        3.47275642e+02, 3.47164981e+02, 3.46525832e+02, 3.45288094e+02,\n",
              "        3.44542433e+02, 3.43435639e+02, 3.42264833e+02, 3.41126885e+02,\n",
              "        3.40360953e+02, 3.40135790e+02, 3.38843206e+02, 3.37581348e+02,\n",
              "        3.36834761e+02, 3.36069698e+02, 3.35876703e+02, 3.34775343e+02,\n",
              "        3.33724279e+02, 3.33581341e+02, 3.32008426e+02, 3.31613871e+02,\n",
              "        3.31300099e+02, 3.30216930e+02, 3.28643139e+02, 3.27912537e+02,\n",
              "        3.26262140e+02, 3.26094321e+02, 3.25100173e+02, 3.24212981e+02,\n",
              "        3.23794835e+02, 3.23545121e+02, 3.21729481e+02, 3.20450291e+02,\n",
              "        3.19733805e+02, 3.19224532e+02, 3.18349979e+02, 3.17814193e+02,\n",
              "        3.17318289e+02, 3.16142983e+02, 3.15224977e+02, 3.14403380e+02,\n",
              "        3.13543385e+02, 3.12196091e+02, 3.11314877e+02, 3.10783485e+02,\n",
              "        3.09419043e+02, 3.09178455e+02, 3.07894554e+02, 3.07243598e+02,\n",
              "        3.06194336e+02, 3.05284374e+02, 3.04810173e+02, 3.03827341e+02,\n",
              "        3.02738393e+02, 3.02188106e+02, 3.01693673e+02, 3.00175697e+02,\n",
              "        3.00038313e+02, 2.99367126e+02, 2.98729936e+02, 2.98268572e+02,\n",
              "        2.97374893e+02, 2.96946218e+02, 2.94699793e+02, 2.94000155e+02,\n",
              "        2.93092485e+02, 2.92292571e+02, 2.91564019e+02, 2.90650907e+02,\n",
              "        2.90401569e+02, 2.89580905e+02, 2.88492849e+02, 2.87436208e+02,\n",
              "        2.87209596e+02, 2.86250146e+02, 2.85805503e+02, 2.84865539e+02,\n",
              "        2.84264357e+02, 2.83275968e+02, 2.82537163e+02, 2.81835056e+02,\n",
              "        2.80861629e+02, 2.80097021e+02, 2.79948423e+02, 2.78670159e+02,\n",
              "        2.78269410e+02, 2.77714817e+02, 2.76832005e+02, 2.76537011e+02,\n",
              "        2.74742485e+02, 2.74261870e+02, 2.73413502e+02, 2.73212467e+02,\n",
              "        2.72533477e+02, 2.71586788e+02, 2.70658099e+02, 2.69841908e+02,\n",
              "        2.69587766e+02, 2.68567876e+02, 2.67866748e+02, 2.66801661e+02,\n",
              "        2.66098504e+02, 2.65512705e+02, 2.65384401e+02, 2.64351058e+02,\n",
              "        2.63456858e+02, 2.62927072e+02, 2.62639248e+02, 2.61387517e+02,\n",
              "        2.60396913e+02, 2.59902554e+02, 2.59073562e+02, 2.58061988e+02,\n",
              "        2.57806348e+02, 2.57192014e+02, 2.56648413e+02, 2.55994296e+02,\n",
              "        2.55597981e+02, 2.54517787e+02, 2.53851678e+02, 2.52953478e+02,\n",
              "        2.52245313e+02, 2.51576622e+02, 2.50760980e+02, 2.50510718e+02,\n",
              "        2.49745039e+02, 2.48885126e+02, 2.48599992e+02, 2.47315605e+02,\n",
              "        2.46336640e+02, 2.45590297e+02, 2.45408733e+02, 2.44266630e+02,\n",
              "        2.43252957e+02, 2.42898072e+02, 2.42666797e+02, 2.41349979e+02,\n",
              "        2.40946218e+02, 2.40246498e+02, 2.38305325e+02, 2.38032632e+02,\n",
              "        2.37286396e+02, 2.36930737e+02, 2.35930262e+02, 2.35266390e+02,\n",
              "        2.34573884e+02, 2.34307548e+02, 2.33898366e+02, 2.33228708e+02,\n",
              "        2.32581173e+02, 2.31622746e+02, 2.30867985e+02, 2.30660325e+02,\n",
              "        2.29457033e+02, 2.28667675e+02, 2.27949747e+02, 2.27311088e+02,\n",
              "        2.26700564e+02, 2.25953421e+02, 2.25602775e+02, 2.24399069e+02,\n",
              "        2.23887716e+02, 2.22992614e+02, 2.22234245e+02, 2.21223697e+02,\n",
              "        2.20671845e+02, 2.19850939e+02, 2.19077555e+02, 2.18608693e+02,\n",
              "        2.17600190e+02, 2.17571536e+02, 2.16449878e+02, 2.16141924e+02,\n",
              "        2.15756521e+02, 2.15477315e+02, 2.14815485e+02, 2.14278975e+02,\n",
              "        2.13657032e+02, 2.12816212e+02, 2.12045619e+02, 2.11829002e+02,\n",
              "        2.10438496e+02, 2.10218407e+02, 2.09118139e+02, 2.08646405e+02,\n",
              "        2.08184513e+02, 2.07820292e+02, 2.06981118e+02, 2.06093850e+02,\n",
              "        2.05652822e+02, 2.05487067e+02, 2.04737443e+02, 2.03653754e+02,\n",
              "        2.02255615e+02, 2.01802604e+02, 2.01303186e+02, 2.00618824e+02,\n",
              "        1.99934779e+02, 1.99116640e+02, 1.98925994e+02, 1.98464880e+02,\n",
              "        1.97982622e+02, 1.96474692e+02, 1.96138467e+02, 1.95411015e+02,\n",
              "        1.95102667e+02, 1.94546437e+02, 1.93609963e+02, 1.93012996e+02,\n",
              "        1.92347376e+02, 1.91817171e+02, 1.91260726e+02, 1.90579895e+02,\n",
              "        1.89910989e+02, 1.89897566e+02, 1.89089165e+02, 1.88198011e+02,\n",
              "        1.87132535e+02, 1.86220024e+02, 1.85789009e+02, 1.84985034e+02,\n",
              "        1.84873891e+02, 1.83754052e+02, 1.83210389e+02, 1.82451211e+02,\n",
              "        1.82200666e+02, 1.81847432e+02, 1.80947564e+02, 1.80459464e+02,\n",
              "        1.79798423e+02, 1.79321086e+02, 1.78776804e+02, 1.78442203e+02,\n",
              "        1.77901446e+02, 1.77240182e+02, 1.75955645e+02, 1.75380563e+02,\n",
              "        1.74471039e+02, 1.73983888e+02, 1.73518157e+02, 1.73197908e+02,\n",
              "        1.72094788e+02, 1.71942975e+02, 1.71844050e+02, 1.70386090e+02,\n",
              "        1.70166560e+02, 1.69889966e+02, 1.68199390e+02, 1.68034727e+02,\n",
              "        1.67348372e+02, 1.66528693e+02, 1.66423826e+02, 1.65818062e+02,\n",
              "        1.64960725e+02, 1.64500524e+02, 1.64117327e+02, 1.63529753e+02,\n",
              "        1.62861085e+02, 1.61861215e+02, 1.60867569e+02, 1.60044507e+02,\n",
              "        1.59405729e+02, 1.58471771e+02, 1.58061833e+02, 1.57677597e+02,\n",
              "        1.57195722e+02, 1.56959771e+02, 1.56278966e+02, 1.55607382e+02,\n",
              "        1.55152296e+02, 1.54455889e+02, 1.53917471e+02, 1.53108785e+02,\n",
              "        1.52806212e+02, 1.52322835e+02, 1.52130968e+02, 1.51566127e+02,\n",
              "        1.50281860e+02, 1.49902067e+02, 1.48565704e+02, 1.48477643e+02,\n",
              "        1.48377343e+02, 1.47677601e+02, 1.47072640e+02, 1.46160608e+02,\n",
              "        1.46030023e+02, 1.45444314e+02, 1.44831318e+02, 1.44632283e+02,\n",
              "        1.43237023e+02, 1.42863062e+02, 1.42743059e+02, 1.42178131e+02,\n",
              "        1.41738289e+02, 1.41088802e+02, 1.40279929e+02, 1.39842208e+02,\n",
              "        1.39292223e+02, 1.38695344e+02, 1.38039694e+02, 1.37614796e+02,\n",
              "        1.37194635e+02, 1.36313906e+02, 1.35907194e+02, 1.35889000e+02,\n",
              "        1.35355368e+02, 1.34655825e+02, 1.34019850e+02, 1.33391782e+02,\n",
              "        1.32982925e+02, 1.32228284e+02, 1.31721312e+02, 1.30774984e+02,\n",
              "        1.30173752e+02, 1.29661942e+02, 1.29277178e+02, 1.28427225e+02,\n",
              "        1.28138495e+02, 1.27745900e+02, 1.26762274e+02, 1.26650928e+02,\n",
              "        1.26261213e+02, 1.25860380e+02, 1.25399941e+02, 1.24423979e+02,\n",
              "        1.23955497e+02, 1.23076838e+02, 1.22543294e+02, 1.21794643e+02,\n",
              "        1.20999960e+02, 1.20512637e+02, 1.20446067e+02, 1.20175404e+02,\n",
              "        1.19450547e+02, 1.18543481e+02, 1.18092194e+02, 1.17510275e+02,\n",
              "        1.16920946e+02, 1.16343726e+02, 1.16039731e+02, 1.15759518e+02,\n",
              "        1.14883219e+02, 1.14640073e+02, 1.14125107e+02, 1.13955271e+02,\n",
              "        1.13213185e+02, 1.12290630e+02, 1.11490463e+02, 1.10913701e+02,\n",
              "        1.10665845e+02, 1.10074808e+02, 1.09698624e+02, 1.09596068e+02,\n",
              "        1.08682358e+02, 1.08629687e+02, 1.07749022e+02, 1.07684082e+02,\n",
              "        1.06752409e+02, 1.05868381e+02, 1.05544361e+02, 1.05262280e+02,\n",
              "        1.04391431e+02, 1.03908191e+02, 1.03198492e+02, 1.02818333e+02,\n",
              "        1.02353925e+02, 1.01766924e+02, 1.01262608e+02, 1.00670636e+02,\n",
              "        1.00561566e+02, 9.97804196e+01, 9.94758591e+01, 9.88324007e+01,\n",
              "        9.81791062e+01, 9.75568298e+01, 9.71311745e+01, 9.67860545e+01,\n",
              "        9.62298046e+01, 9.56351167e+01, 9.54665220e+01, 9.49698028e+01,\n",
              "        9.44782847e+01, 9.38846499e+01, 9.35298824e+01, 9.30415512e+01,\n",
              "        9.24300503e+01, 9.20426550e+01, 9.18136103e+01, 9.08795733e+01,\n",
              "        9.06551046e+01, 9.02600385e+01, 9.01933945e+01, 8.95636242e+01,\n",
              "        8.93148007e+01, 8.84684644e+01, 8.81677682e+01, 8.78675220e+01,\n",
              "        8.75884943e+01, 8.69118469e+01, 8.65318906e+01, 8.56499811e+01,\n",
              "        8.54463136e+01, 8.44796646e+01, 8.42452992e+01, 8.38982683e+01,\n",
              "        8.26898215e+01, 8.24592144e+01, 8.18753108e+01, 8.13460078e+01,\n",
              "        8.07763649e+01, 8.05390865e+01, 8.03878884e+01, 8.02947006e+01,\n",
              "        7.94891016e+01, 7.88526225e+01, 7.86456324e+01, 7.81746008e+01,\n",
              "        7.75534959e+01, 7.73016962e+01, 7.64046432e+01, 7.59232688e+01,\n",
              "        7.57175140e+01, 7.50125468e+01, 7.46449680e+01, 7.43345542e+01,\n",
              "        7.35824442e+01, 7.30572062e+01, 7.22923524e+01, 7.22213990e+01,\n",
              "        7.14380973e+01, 7.11521916e+01, 7.08707211e+01, 7.06246674e+01,\n",
              "        7.01141293e+01, 6.98745267e+01, 6.91362355e+01, 6.87309756e+01,\n",
              "        6.82442371e+01, 6.81112613e+01, 6.73949781e+01, 6.66738442e+01,\n",
              "        6.64117361e+01, 6.57509132e+01, 6.55965922e+01, 6.46969892e+01,\n",
              "        6.45266242e+01, 6.40311756e+01, 6.33278756e+01, 6.32197815e+01,\n",
              "        6.28325675e+01, 6.22793418e+01, 6.16005771e+01, 6.14290587e+01,\n",
              "        6.06930100e+01, 6.03296823e+01, 6.00512891e+01, 5.97610918e+01,\n",
              "        5.95797923e+01, 5.93302340e+01, 5.85611509e+01, 5.82713575e+01,\n",
              "        5.78635916e+01, 5.75665366e+01, 5.74518096e+01, 5.66833544e+01,\n",
              "        5.62469636e+01, 5.56799130e+01, 5.50428230e+01, 5.47961175e+01,\n",
              "        5.40901307e+01, 5.38620872e+01, 5.35882865e+01, 5.28408164e+01,\n",
              "        5.26883038e+01, 5.23954889e+01, 5.17429378e+01, 5.15793916e+01,\n",
              "        5.14467107e+01, 5.09043234e+01, 5.03288840e+01, 4.97840259e+01,\n",
              "        4.95863564e+01, 4.90222358e+01, 4.86616200e+01, 4.83859360e+01,\n",
              "        4.80517909e+01, 4.77526296e+01, 4.76705806e+01, 4.70479767e+01,\n",
              "        4.62947916e+01, 4.60192595e+01, 4.57917479e+01, 4.55488033e+01,\n",
              "        4.51829857e+01, 4.43977523e+01, 4.42285450e+01, 4.36513425e+01,\n",
              "        4.35328758e+01, 4.31436805e+01, 4.28740969e+01, 4.25205345e+01,\n",
              "        4.22415747e+01, 4.18043025e+01, 4.14132352e+01, 4.09389457e+01,\n",
              "        4.00190142e+01, 3.99791357e+01, 3.98114461e+01, 3.94367363e+01,\n",
              "        3.88085924e+01, 3.84227894e+01, 3.82587324e+01, 3.80447810e+01,\n",
              "        3.75861791e+01, 3.72022669e+01, 3.70760109e+01, 3.64052211e+01,\n",
              "        3.57225990e+01, 3.55790561e+01, 3.51209233e+01, 3.50573217e+01,\n",
              "        3.46926724e+01, 3.44582883e+01, 3.41361701e+01, 3.40123526e+01,\n",
              "        3.37517528e+01, 3.34773168e+01, 3.25320036e+01, 3.22438647e+01,\n",
              "        3.20101509e+01, 3.19397993e+01, 3.14314794e+01, 3.10578517e+01,\n",
              "        3.07992177e+01, 3.05027630e+01, 3.01664225e+01, 2.98216871e+01,\n",
              "        2.92635680e+01, 2.89006401e+01, 2.84271961e+01, 2.82229632e+01,\n",
              "        2.78241992e+01, 2.77463476e+01, 2.76778557e+01, 2.68956054e+01,\n",
              "        2.68612796e+01, 2.66525351e+01, 2.62531468e+01, 2.60438861e+01,\n",
              "        2.57285411e+01, 2.50197863e+01, 2.45688383e+01, 2.44214138e+01,\n",
              "        2.42958342e+01, 2.39082105e+01, 2.35283800e+01, 2.33145848e+01,\n",
              "        2.30554647e+01, 2.27479241e+01, 2.24823753e+01, 2.23326993e+01,\n",
              "        2.19298846e+01, 2.13849795e+01, 2.12236239e+01, 2.05629353e+01,\n",
              "        2.02562895e+01, 1.99655199e+01, 1.97772262e+01, 1.94944387e+01,\n",
              "        1.90950059e+01, 1.88557126e+01, 1.84916523e+01, 1.84006053e+01,\n",
              "        1.82165492e+01, 1.77260741e+01, 1.76265172e+01, 1.68788490e+01,\n",
              "        1.67438460e+01, 1.61466013e+01, 1.59506681e+01, 1.58970581e+01,\n",
              "        1.54719406e+01, 1.51214372e+01, 1.47083111e+01, 1.46776399e+01,\n",
              "        1.40488360e+01, 1.34381225e+01, 1.33373371e+01, 1.24572033e+01]),\n",
              " array([[-0.02476108,  0.00636299, -0.02404697, ..., -0.02439765,\n",
              "          0.012201  , -0.00841102],\n",
              "        [-0.02483053,  0.00648242, -0.02469328, ..., -0.0366192 ,\n",
              "         -0.00058528,  0.03548406],\n",
              "        [-0.02470327,  0.0056907 , -0.02438035, ...,  0.02519734,\n",
              "         -0.00614676, -0.01668164],\n",
              "        ...,\n",
              "        [-0.01939125, -0.02032411, -0.00867837, ...,  0.34243589,\n",
              "         -0.20907539,  0.08460058],\n",
              "        [-0.01898928, -0.01948904, -0.00652201, ..., -0.18713738,\n",
              "          0.33420025, -0.13523167],\n",
              "        [-0.01892868, -0.01893218, -0.00391471, ...,  0.05244671,\n",
              "         -0.13341906,  0.13051465]]),\n",
              " array([[-2.10333314e-02, -2.09235518e-02, -2.07859216e-02, ...,\n",
              "         -2.67199122e-02, -2.67762758e-02, -2.67097588e-02],\n",
              "        [-3.09679708e-04, -4.06401490e-05, -1.25889743e-04, ...,\n",
              "         -2.08144791e-02, -2.08050658e-02, -2.12973412e-02],\n",
              "        [ 4.24372874e-03,  3.31749433e-03,  3.21082934e-03, ...,\n",
              "          7.00775777e-03,  7.25104655e-03,  6.97409215e-03],\n",
              "        ...,\n",
              "        [-3.78503992e-03, -1.68709228e-02, -4.65765919e-03, ...,\n",
              "          5.17941612e-02, -6.80777204e-02,  2.91160164e-02],\n",
              "        [ 1.25335903e-02, -2.08162603e-02,  4.42896296e-02, ...,\n",
              "          6.58586052e-02, -4.73768113e-02,  1.34437423e-02],\n",
              "        [-2.95318980e-02,  1.54143177e-02,  1.40409123e-02, ...,\n",
              "          2.33055046e-02, -3.55767759e-02,  2.80273834e-02]]))"
            ]
          },
          "metadata": {},
          "execution_count": 126
        }
      ]
    },
    {
      "cell_type": "code",
      "source": [
        "for i in [2, 4, 8, 16, 32, 64]:\n",
        "    reconstimg = np.matrix(U[:, :i]) * np.diag(sigma[:i]) * np.matrix(V[:i, :])\n",
        "    plt.imshow(reconstimg, cmap='gray')\n",
        "    title = \"n = %s\" % i\n",
        "    plt.title(title)\n",
        "    plt.show()"
      ],
      "metadata": {
        "colab": {
          "base_uri": "https://localhost:8080/",
          "height": 1000
        },
        "id": "SaZIEX1X02XN",
        "outputId": "b4348a6f-3337-46c6-c428-0e0552549b03"
      },
      "execution_count": 127,
      "outputs": [
        {
          "output_type": "display_data",
          "data": {
            "text/plain": [
              "<Figure size 432x288 with 1 Axes>"
            ],
            "image/png": "[encoded data removed]"
          },
          "metadata": {
            "needs_background": "light"
          }
        },
        {
          "output_type": "display_data",
          "data": {
            "text/plain": [
              "<Figure size 432x288 with 1 Axes>"
            ],
            "image/png": "[encoded data removed]"
          },
          "metadata": {
            "needs_background": "light"
          }
        },
        {
          "output_type": "display_data",
          "data": {
            "text/plain": [
              "<Figure size 432x288 with 1 Axes>"
            ],
            "image/png": "[encoded data removed]"
          },
          "metadata": {
            "needs_background": "light"
          }
        },
        {
          "output_type": "display_data",
          "data": {
            "text/plain": [
              "<Figure size 432x288 with 1 Axes>"
            ],
            "image/png": "[encoded data removed]"
          },
          "metadata": {
            "needs_background": "light"
          }
        },
        {
          "output_type": "display_data",
          "data": {
            "text/plain": [
              "<Figure size 432x288 with 1 Axes>"
            ],
            "image/png": "[encoded data removed]"
          },
          "metadata": {
            "needs_background": "light"
          }
        },
        {
          "output_type": "display_data",
          "data": {
            "text/plain": [
              "<Figure size 432x288 with 1 Axes>"
            ],
            "image/png": "[encoded data removed]"
          },
          "metadata": {
            "needs_background": "light"
          }
        }
      ]
    },
    {
      "cell_type": "code",
      "source": [
        "A"
      ],
      "metadata": {
        "colab": {
          "base_uri": "https://localhost:8080/"
        },
        "id": "B3qVA5A61EOH",
        "outputId": "071611c6-c07e-4c5f-fffd-3a8fa2e8d8cf"
      },
      "execution_count": 128,
      "outputs": [
        {
          "output_type": "execute_result",
          "data": {
            "text/plain": [
              "<tf.Variable 'Variable:0' shape=(3, 2) dtype=float32, numpy=\n",
              "array([[-1.,  2.],\n",
              "       [ 3., -2.],\n",
              "       [ 5.,  7.]], dtype=float32)>"
            ]
          },
          "metadata": {},
          "execution_count": 128
        }
      ]
    },
    {
      "cell_type": "code",
      "source": [
        "d, U, VT = tf.linalg.svd(A, True)"
      ],
      "metadata": {
        "id": "Id6MbJggXEah"
      },
      "execution_count": 129,
      "outputs": []
    },
    {
      "cell_type": "code",
      "source": [
        "U"
      ],
      "metadata": {
        "colab": {
          "base_uri": "https://localhost:8080/"
        },
        "id": "Z62CfspQXKhM",
        "outputId": "6f667309-291b-46bb-ef21-e5446bdd82a2"
      },
      "execution_count": 130,
      "outputs": [
        {
          "output_type": "execute_result",
          "data": {
            "text/plain": [
              "<tf.Tensor: shape=(3, 3), dtype=float32, numpy=\n",
              "array([[ 0.12708327, -0.47409505, -0.87125427],\n",
              "       [ 0.00164604,  0.8784756 , -0.47778445],\n",
              "       [ 0.9918907 ,  0.05928418,  0.11241978]], dtype=float32)>"
            ]
          },
          "metadata": {},
          "execution_count": 130
        }
      ]
    },
    {
      "cell_type": "code",
      "source": [
        "VT"
      ],
      "metadata": {
        "colab": {
          "base_uri": "https://localhost:8080/"
        },
        "id": "-SVXhDY8XLeJ",
        "outputId": "4cbe6eb8-b1a2-4d46-c75f-3160441e6d9b"
      },
      "execution_count": 131,
      "outputs": [
        {
          "output_type": "execute_result",
          "data": {
            "text/plain": [
              "<tf.Tensor: shape=(2, 2), dtype=float32, numpy=\n",
              "array([[ 0.5579889,  0.8298484],\n",
              "       [ 0.8298484, -0.5579889]], dtype=float32)>"
            ]
          },
          "metadata": {},
          "execution_count": 131
        }
      ]
    },
    {
      "cell_type": "code",
      "source": [
        "d"
      ],
      "metadata": {
        "colab": {
          "base_uri": "https://localhost:8080/"
        },
        "id": "7FulFnZWXQNj",
        "outputId": "51ae1275-d963-4df7-c2c0-2a6c54bd3f48"
      },
      "execution_count": 132,
      "outputs": [
        {
          "output_type": "execute_result",
          "data": {
            "text/plain": [
              "<tf.Tensor: shape=(2,), dtype=float32, numpy=array([8.669184, 4.104295], dtype=float32)>"
            ]
          },
          "metadata": {},
          "execution_count": 132
        }
      ]
    },
    {
      "cell_type": "code",
      "source": [
        "D = tf.linalg.diag(d)\n",
        "D"
      ],
      "metadata": {
        "colab": {
          "base_uri": "https://localhost:8080/"
        },
        "id": "SzHpRW_yXQ0Y",
        "outputId": "d01910ba-6804-4906-a3bf-b4aef024b5fb"
      },
      "execution_count": 133,
      "outputs": [
        {
          "output_type": "execute_result",
          "data": {
            "text/plain": [
              "<tf.Tensor: shape=(2, 2), dtype=float32, numpy=\n",
              "array([[8.669184, 0.      ],\n",
              "       [0.      , 4.104295]], dtype=float32)>"
            ]
          },
          "metadata": {},
          "execution_count": 133
        }
      ]
    },
    {
      "cell_type": "code",
      "source": [
        "1/D[0,0]"
      ],
      "metadata": {
        "colab": {
          "base_uri": "https://localhost:8080/"
        },
        "id": "SepDmSEeXSsv",
        "outputId": "f4304c33-332e-4b2e-9715-d53c5b9b619c"
      },
      "execution_count": 134,
      "outputs": [
        {
          "output_type": "execute_result",
          "data": {
            "text/plain": [
              "<tf.Tensor: shape=(), dtype=float32, numpy=0.11535111>"
            ]
          },
          "metadata": {},
          "execution_count": 134
        }
      ]
    },
    {
      "cell_type": "code",
      "source": [
        "1/D[1,1]"
      ],
      "metadata": {
        "colab": {
          "base_uri": "https://localhost:8080/"
        },
        "id": "eyGPDIlMXZnh",
        "outputId": "a2165fe3-3191-44c4-ccfe-af14ab2b5fbe"
      },
      "execution_count": 135,
      "outputs": [
        {
          "output_type": "execute_result",
          "data": {
            "text/plain": [
              "<tf.Tensor: shape=(), dtype=float32, numpy=0.24364722>"
            ]
          },
          "metadata": {},
          "execution_count": 135
        }
      ]
    },
    {
      "cell_type": "code",
      "source": [
        "Dinv = tf.linalg.inv(D)\n",
        "Dinv"
      ],
      "metadata": {
        "colab": {
          "base_uri": "https://localhost:8080/"
        },
        "id": "pMYl31QYXdTW",
        "outputId": "f9ecb97f-48a2-4336-9136-6ea52b274d13"
      },
      "execution_count": 136,
      "outputs": [
        {
          "output_type": "execute_result",
          "data": {
            "text/plain": [
              "<tf.Tensor: shape=(2, 2), dtype=float32, numpy=\n",
              "array([[0.11535111, 0.        ],\n",
              "       [0.        , 0.24364722]], dtype=float32)>"
            ]
          },
          "metadata": {},
          "execution_count": 136
        }
      ]
    },
    {
      "cell_type": "code",
      "source": [
        "Dplus = tf.concat((Dinv, tf.transpose([[0,0.]])), axis=-1)\n",
        "Dplus"
      ],
      "metadata": {
        "colab": {
          "base_uri": "https://localhost:8080/"
        },
        "id": "N_f5XxXnXgdR",
        "outputId": "04d4eb42-a95e-493b-e0e8-55b22ae7ec1f"
      },
      "execution_count": 137,
      "outputs": [
        {
          "output_type": "execute_result",
          "data": {
            "text/plain": [
              "<tf.Tensor: shape=(2, 3), dtype=float32, numpy=\n",
              "array([[0.11535111, 0.        , 0.        ],\n",
              "       [0.        , 0.24364722, 0.        ]], dtype=float32)>"
            ]
          },
          "metadata": {},
          "execution_count": 137
        }
      ]
    },
    {
      "cell_type": "code",
      "source": [
        "tf.transpose(VT) @ Dplus @ tf.transpose(U)"
      ],
      "metadata": {
        "colab": {
          "base_uri": "https://localhost:8080/"
        },
        "id": "qVOmviRWX0h8",
        "outputId": "4a3e664a-5d3b-4994-a789-216694d40bdd"
      },
      "execution_count": 138,
      "outputs": [
        {
          "output_type": "execute_result",
          "data": {
            "text/plain": [
              "<tf.Tensor: shape=(2, 3), dtype=float32, numpy=\n",
              "array([[-0.08767773,  0.17772515,  0.07582936],\n",
              "       [ 0.07661929, -0.11927334,  0.08688785]], dtype=float32)>"
            ]
          },
          "metadata": {},
          "execution_count": 138
        }
      ]
    },
    {
      "cell_type": "code",
      "source": [
        "tf.linalg.pinv(A)"
      ],
      "metadata": {
        "colab": {
          "base_uri": "https://localhost:8080/"
        },
        "id": "PjPrRubvYIoa",
        "outputId": "2743c242-1455-4f5b-c457-343b17ebd158"
      },
      "execution_count": 139,
      "outputs": [
        {
          "output_type": "execute_result",
          "data": {
            "text/plain": [
              "<tf.Tensor: shape=(2, 3), dtype=float32, numpy=\n",
              "array([[-0.08767772,  0.17772515,  0.07582937],\n",
              "       [ 0.07661929, -0.11927334,  0.08688786]], dtype=float32)>"
            ]
          },
          "metadata": {},
          "execution_count": 139
        }
      ]
    },
    {
      "cell_type": "code",
      "source": [
        "A_p =  tf.Variable([[-1,2],[3,-2],[5,7.]])\n",
        "A_p"
      ],
      "metadata": {
        "colab": {
          "base_uri": "https://localhost:8080/"
        },
        "id": "qnglI0EYYTFV",
        "outputId": "e8dd2a2a-ed85-4157-a792-01d7a92041a2"
      },
      "execution_count": 140,
      "outputs": [
        {
          "output_type": "execute_result",
          "data": {
            "text/plain": [
              "<tf.Variable 'Variable:0' shape=(3, 2) dtype=float32, numpy=\n",
              "array([[-1.,  2.],\n",
              "       [ 3., -2.],\n",
              "       [ 5.,  7.]], dtype=float32)>"
            ]
          },
          "metadata": {},
          "execution_count": 140
        }
      ]
    },
    {
      "cell_type": "code",
      "source": [
        "d, U, VT = tf.linalg.svd(A_p, True)"
      ],
      "metadata": {
        "id": "5eIeGqonZFzN"
      },
      "execution_count": 141,
      "outputs": []
    },
    {
      "cell_type": "code",
      "source": [
        "d, U, VT"
      ],
      "metadata": {
        "colab": {
          "base_uri": "https://localhost:8080/"
        },
        "id": "vTDpC4LDZL8B",
        "outputId": "c7615dd9-1b77-4de9-bac1-2104d5af92a7"
      },
      "execution_count": 142,
      "outputs": [
        {
          "output_type": "execute_result",
          "data": {
            "text/plain": [
              "(<tf.Tensor: shape=(2,), dtype=float32, numpy=array([8.669184, 4.104295], dtype=float32)>,\n",
              " <tf.Tensor: shape=(3, 3), dtype=float32, numpy=\n",
              " array([[ 0.12708327, -0.47409505, -0.87125427],\n",
              "        [ 0.00164604,  0.8784756 , -0.47778445],\n",
              "        [ 0.9918907 ,  0.05928418,  0.11241978]], dtype=float32)>,\n",
              " <tf.Tensor: shape=(2, 2), dtype=float32, numpy=\n",
              " array([[ 0.5579889,  0.8298484],\n",
              "        [ 0.8298484, -0.5579889]], dtype=float32)>)"
            ]
          },
          "metadata": {},
          "execution_count": 142
        }
      ]
    },
    {
      "cell_type": "code",
      "source": [
        "D = tf.linalg.diag(d)\n",
        "D"
      ],
      "metadata": {
        "colab": {
          "base_uri": "https://localhost:8080/"
        },
        "id": "hd51YDAVZN2H",
        "outputId": "51cebf7b-db82-458c-c41b-eda456aef49d"
      },
      "execution_count": 143,
      "outputs": [
        {
          "output_type": "execute_result",
          "data": {
            "text/plain": [
              "<tf.Tensor: shape=(2, 2), dtype=float32, numpy=\n",
              "array([[8.669184, 0.      ],\n",
              "       [0.      , 4.104295]], dtype=float32)>"
            ]
          },
          "metadata": {},
          "execution_count": 143
        }
      ]
    },
    {
      "cell_type": "code",
      "source": [
        "Dinv = tf.linalg.inv(D)"
      ],
      "metadata": {
        "id": "piMU8hseZ6CJ"
      },
      "execution_count": 144,
      "outputs": []
    },
    {
      "cell_type": "code",
      "source": [
        "Dplus = tf.concat((Dinv, tf.transpose([[0,0.]])), axis=1)\n",
        "Dplus"
      ],
      "metadata": {
        "colab": {
          "base_uri": "https://localhost:8080/"
        },
        "id": "D9ZNLwklZQjl",
        "outputId": "efb0115a-c54d-4455-a799-581465fbb329"
      },
      "execution_count": 145,
      "outputs": [
        {
          "output_type": "execute_result",
          "data": {
            "text/plain": [
              "<tf.Tensor: shape=(2, 3), dtype=float32, numpy=\n",
              "array([[0.11535111, 0.        , 0.        ],\n",
              "       [0.        , 0.24364722, 0.        ]], dtype=float32)>"
            ]
          },
          "metadata": {},
          "execution_count": 145
        }
      ]
    },
    {
      "cell_type": "code",
      "source": [
        "U"
      ],
      "metadata": {
        "colab": {
          "base_uri": "https://localhost:8080/"
        },
        "id": "3k-c3k6ja0eW",
        "outputId": "8ac50bf9-f6f0-42e2-a87e-ed9e5bf77991"
      },
      "execution_count": 146,
      "outputs": [
        {
          "output_type": "execute_result",
          "data": {
            "text/plain": [
              "<tf.Tensor: shape=(3, 3), dtype=float32, numpy=\n",
              "array([[ 0.12708327, -0.47409505, -0.87125427],\n",
              "       [ 0.00164604,  0.8784756 , -0.47778445],\n",
              "       [ 0.9918907 ,  0.05928418,  0.11241978]], dtype=float32)>"
            ]
          },
          "metadata": {},
          "execution_count": 146
        }
      ]
    },
    {
      "cell_type": "code",
      "source": [
        "Dplus"
      ],
      "metadata": {
        "colab": {
          "base_uri": "https://localhost:8080/"
        },
        "id": "8P6BKv5waxfa",
        "outputId": "7e5aecfb-e11b-4288-9838-c3a9d13fd1b0"
      },
      "execution_count": 147,
      "outputs": [
        {
          "output_type": "execute_result",
          "data": {
            "text/plain": [
              "<tf.Tensor: shape=(2, 3), dtype=float32, numpy=\n",
              "array([[0.11535111, 0.        , 0.        ],\n",
              "       [0.        , 0.24364722, 0.        ]], dtype=float32)>"
            ]
          },
          "metadata": {},
          "execution_count": 147
        }
      ]
    },
    {
      "cell_type": "code",
      "source": [
        "VT"
      ],
      "metadata": {
        "colab": {
          "base_uri": "https://localhost:8080/"
        },
        "id": "sAOw8om1avkN",
        "outputId": "04bd7036-0d3a-4bb3-f629-06940397b686"
      },
      "execution_count": 148,
      "outputs": [
        {
          "output_type": "execute_result",
          "data": {
            "text/plain": [
              "<tf.Tensor: shape=(2, 2), dtype=float32, numpy=\n",
              "array([[ 0.5579889,  0.8298484],\n",
              "       [ 0.8298484, -0.5579889]], dtype=float32)>"
            ]
          },
          "metadata": {},
          "execution_count": 148
        }
      ]
    },
    {
      "cell_type": "code",
      "source": [
        "tf.transpose(VT) @ Dplus @ tf.transpose(U)"
      ],
      "metadata": {
        "colab": {
          "base_uri": "https://localhost:8080/"
        },
        "id": "PCWRD-70Zbck",
        "outputId": "f1411161-b0bc-4242-b5c8-1a6d8f173a5e"
      },
      "execution_count": 149,
      "outputs": [
        {
          "output_type": "execute_result",
          "data": {
            "text/plain": [
              "<tf.Tensor: shape=(2, 3), dtype=float32, numpy=\n",
              "array([[-0.08767773,  0.17772515,  0.07582936],\n",
              "       [ 0.07661929, -0.11927334,  0.08688785]], dtype=float32)>"
            ]
          },
          "metadata": {},
          "execution_count": 149
        }
      ]
    },
    {
      "cell_type": "code",
      "source": [
        "tf.linalg.pinv(A_p)"
      ],
      "metadata": {
        "colab": {
          "base_uri": "https://localhost:8080/"
        },
        "id": "UMmfzelSaTse",
        "outputId": "73ca35c4-8c6a-48db-c7c2-24fb8063172a"
      },
      "execution_count": 150,
      "outputs": [
        {
          "output_type": "execute_result",
          "data": {
            "text/plain": [
              "<tf.Tensor: shape=(2, 3), dtype=float32, numpy=\n",
              "array([[-0.08767772,  0.17772515,  0.07582937],\n",
              "       [ 0.07661929, -0.11927334,  0.08688786]], dtype=float32)>"
            ]
          },
          "metadata": {},
          "execution_count": 150
        }
      ]
    },
    {
      "cell_type": "code",
      "source": [
        "x1 = tf.Variable([[0,1,2,3,4,5,6,7.]])\n",
        "y = tf.Variable([[1.85, 1.3, .61, .32, .08, -.66, -1.23, -1.37]])"
      ],
      "metadata": {
        "id": "-XZHehDWbELM"
      },
      "execution_count": 151,
      "outputs": []
    },
    {
      "cell_type": "code",
      "source": [
        "fig, ax = plt.subplots()\n",
        "_ = ax.scatter(x1,y)"
      ],
      "metadata": {
        "colab": {
          "base_uri": "https://localhost:8080/",
          "height": 269
        },
        "id": "FzmqNOoIb37w",
        "outputId": "fdd3c3c8-86d7-464c-8604-50bfe2fad167"
      },
      "execution_count": 152,
      "outputs": [
        {
          "output_type": "display_data",
          "data": {
            "text/plain": [
              "<Figure size 432x288 with 1 Axes>"
            ],
            "image/png": "[encoded data removed]"
          },
          "metadata": {
            "needs_background": "light"
          }
        }
      ]
    },
    {
      "cell_type": "code",
      "source": [
        "x0 = tf.ones([8,1])\n",
        "x0"
      ],
      "metadata": {
        "colab": {
          "base_uri": "https://localhost:8080/"
        },
        "id": "gcXgJWZlcEkC",
        "outputId": "1172bd06-9632-4d4b-c678-bc757f890179"
      },
      "execution_count": 153,
      "outputs": [
        {
          "output_type": "execute_result",
          "data": {
            "text/plain": [
              "<tf.Tensor: shape=(8, 1), dtype=float32, numpy=\n",
              "array([[1.],\n",
              "       [1.],\n",
              "       [1.],\n",
              "       [1.],\n",
              "       [1.],\n",
              "       [1.],\n",
              "       [1.],\n",
              "       [1.]], dtype=float32)>"
            ]
          },
          "metadata": {},
          "execution_count": 153
        }
      ]
    },
    {
      "cell_type": "code",
      "source": [
        "X = tf.concat((x0, tf.transpose(x1)), axis=1)\n",
        "X"
      ],
      "metadata": {
        "colab": {
          "base_uri": "https://localhost:8080/"
        },
        "id": "n6F_ChQecKd4",
        "outputId": "37773ef6-68f6-43a5-9c2e-455cc96f2aae"
      },
      "execution_count": 154,
      "outputs": [
        {
          "output_type": "execute_result",
          "data": {
            "text/plain": [
              "<tf.Tensor: shape=(8, 2), dtype=float32, numpy=\n",
              "array([[1., 0.],\n",
              "       [1., 1.],\n",
              "       [1., 2.],\n",
              "       [1., 3.],\n",
              "       [1., 4.],\n",
              "       [1., 5.],\n",
              "       [1., 6.],\n",
              "       [1., 7.]], dtype=float32)>"
            ]
          },
          "metadata": {},
          "execution_count": 154
        }
      ]
    },
    {
      "cell_type": "code",
      "source": [
        "w = tf.linalg.pinv(X) @ tf.transpose(y)\n",
        "w"
      ],
      "metadata": {
        "colab": {
          "base_uri": "https://localhost:8080/"
        },
        "id": "4WhZCUr-cUrz",
        "outputId": "29cbb2ac-ffb5-47cb-8cc8-3c0d4acd3b3b"
      },
      "execution_count": 155,
      "outputs": [
        {
          "output_type": "execute_result",
          "data": {
            "text/plain": [
              "<tf.Tensor: shape=(2, 1), dtype=float32, numpy=\n",
              "array([[ 1.7475001],\n",
              "       [-0.4671428]], dtype=float32)>"
            ]
          },
          "metadata": {},
          "execution_count": 155
        }
      ]
    },
    {
      "cell_type": "code",
      "source": [
        "b = tf.Variable(w[0])\n",
        "b"
      ],
      "metadata": {
        "colab": {
          "base_uri": "https://localhost:8080/"
        },
        "id": "PRxNUWDnc31S",
        "outputId": "8930575d-00f1-4416-e348-9bc2a834e1a6"
      },
      "execution_count": 156,
      "outputs": [
        {
          "output_type": "execute_result",
          "data": {
            "text/plain": [
              "<tf.Variable 'Variable:0' shape=(1,) dtype=float32, numpy=array([1.7475001], dtype=float32)>"
            ]
          },
          "metadata": {},
          "execution_count": 156
        }
      ]
    },
    {
      "cell_type": "code",
      "source": [
        "m = tf.Variable(w[1])\n",
        "m"
      ],
      "metadata": {
        "colab": {
          "base_uri": "https://localhost:8080/"
        },
        "id": "1bmiLlH_dtaR",
        "outputId": "916084bb-0fab-417b-8408-18d21bc35730"
      },
      "execution_count": 157,
      "outputs": [
        {
          "output_type": "execute_result",
          "data": {
            "text/plain": [
              "<tf.Variable 'Variable:0' shape=(1,) dtype=float32, numpy=array([-0.4671428], dtype=float32)>"
            ]
          },
          "metadata": {},
          "execution_count": 157
        }
      ]
    },
    {
      "cell_type": "code",
      "source": [
        "fig, ax  = plt.subplots()\n",
        "ax.scatter(x1,y)\n",
        "\n",
        "x_min, x_max =ax.get_xlim()\n",
        "y_at_xmin = m*x_min + b\n",
        "y_at_xmax = m*x_max + b\n",
        "\n",
        "ax.set_xlim([x_min, x_max])\n",
        "_ = ax.plot([x_min, x_max], [y_at_xmin, y_at_xmax], c='C01')"
      ],
      "metadata": {
        "colab": {
          "base_uri": "https://localhost:8080/",
          "height": 265
        },
        "id": "5AH9NMntd7DT",
        "outputId": "8d8d894b-c203-4e46-9cc6-5950e9cbba32"
      },
      "execution_count": 158,
      "outputs": [
        {
          "output_type": "display_data",
          "data": {
            "text/plain": [
              "<Figure size 432x288 with 1 Axes>"
            ],
            "image/png": "[encoded data removed]"
          },
          "metadata": {
            "needs_background": "light"
          }
        }
      ]
    },
    {
      "cell_type": "code",
      "source": [
        "A = tf.Variable([[25,2],[5,4]])\n",
        "A"
      ],
      "metadata": {
        "colab": {
          "base_uri": "https://localhost:8080/"
        },
        "id": "wMCwfWbtekCF",
        "outputId": "08a7e08f-b5b5-40e7-f477-68be777d4c25"
      },
      "execution_count": 159,
      "outputs": [
        {
          "output_type": "execute_result",
          "data": {
            "text/plain": [
              "<tf.Variable 'Variable:0' shape=(2, 2) dtype=int32, numpy=\n",
              "array([[25,  2],\n",
              "       [ 5,  4]], dtype=int32)>"
            ]
          },
          "metadata": {},
          "execution_count": 159
        }
      ]
    },
    {
      "cell_type": "code",
      "source": [
        "tf.linalg.trace(A)"
      ],
      "metadata": {
        "colab": {
          "base_uri": "https://localhost:8080/"
        },
        "id": "hARSMCQHnPF8",
        "outputId": "5b2d305e-d975-4014-9007-8fefaa845b78"
      },
      "execution_count": 160,
      "outputs": [
        {
          "output_type": "execute_result",
          "data": {
            "text/plain": [
              "<tf.Tensor: shape=(), dtype=int32, numpy=29>"
            ]
          },
          "metadata": {},
          "execution_count": 160
        }
      ]
    },
    {
      "cell_type": "code",
      "source": [
        "tf.sqrt(tf.linalg.trace(A_p @ tf.transpose(A_p)))"
      ],
      "metadata": {
        "colab": {
          "base_uri": "https://localhost:8080/"
        },
        "id": "wGNQmQ9jnVAJ",
        "outputId": "62900cfe-1efe-4a9d-f857-109e1fbf7386"
      },
      "execution_count": 161,
      "outputs": [
        {
          "output_type": "execute_result",
          "data": {
            "text/plain": [
              "<tf.Tensor: shape=(), dtype=float32, numpy=9.591663>"
            ]
          },
          "metadata": {},
          "execution_count": 161
        }
      ]
    },
    {
      "cell_type": "code",
      "source": [
        "tf.norm(A_p, ord='fro', axis=(0,1))"
      ],
      "metadata": {
        "colab": {
          "base_uri": "https://localhost:8080/"
        },
        "id": "rF3_gCr5nkR4",
        "outputId": "9e9cbaa8-777e-414e-eaba-2b537ee9798a"
      },
      "execution_count": 162,
      "outputs": [
        {
          "output_type": "execute_result",
          "data": {
            "text/plain": [
              "<tf.Tensor: shape=(), dtype=float32, numpy=9.591663>"
            ]
          },
          "metadata": {},
          "execution_count": 162
        }
      ]
    },
    {
      "cell_type": "code",
      "source": [
        "from sklearn import datasets\n",
        "iris = datasets.load_iris()"
      ],
      "metadata": {
        "id": "_Fs8Ap_VoAuQ"
      },
      "execution_count": 163,
      "outputs": []
    },
    {
      "cell_type": "code",
      "source": [
        "iris.data.shape"
      ],
      "metadata": {
        "colab": {
          "base_uri": "https://localhost:8080/"
        },
        "id": "uPpumwuLods5",
        "outputId": "ddba0ae2-a310-455b-d680-70616dac12a9"
      },
      "execution_count": 164,
      "outputs": [
        {
          "output_type": "execute_result",
          "data": {
            "text/plain": [
              "(150, 4)"
            ]
          },
          "metadata": {},
          "execution_count": 164
        }
      ]
    },
    {
      "cell_type": "code",
      "source": [
        "iris.get(\"feature_names\")"
      ],
      "metadata": {
        "colab": {
          "base_uri": "https://localhost:8080/"
        },
        "id": "KnLoSOfBofXH",
        "outputId": "dbc88e28-c619-45df-bbfe-4e51b8466919"
      },
      "execution_count": 165,
      "outputs": [
        {
          "output_type": "execute_result",
          "data": {
            "text/plain": [
              "['sepal length (cm)',\n",
              " 'sepal width (cm)',\n",
              " 'petal length (cm)',\n",
              " 'petal width (cm)']"
            ]
          },
          "metadata": {},
          "execution_count": 165
        }
      ]
    },
    {
      "cell_type": "code",
      "source": [
        "iris.data[0:6, :]"
      ],
      "metadata": {
        "colab": {
          "base_uri": "https://localhost:8080/"
        },
        "id": "7rxBp8BNojPI",
        "outputId": "7493f0da-a75c-4272-cc2e-8dc1f4267b14"
      },
      "execution_count": 166,
      "outputs": [
        {
          "output_type": "execute_result",
          "data": {
            "text/plain": [
              "array([[5.1, 3.5, 1.4, 0.2],\n",
              "       [4.9, 3. , 1.4, 0.2],\n",
              "       [4.7, 3.2, 1.3, 0.2],\n",
              "       [4.6, 3.1, 1.5, 0.2],\n",
              "       [5. , 3.6, 1.4, 0.2],\n",
              "       [5.4, 3.9, 1.7, 0.4]])"
            ]
          },
          "metadata": {},
          "execution_count": 166
        }
      ]
    },
    {
      "cell_type": "code",
      "source": [
        "from sklearn.decomposition import PCA"
      ],
      "metadata": {
        "id": "WcAliIZzoo70"
      },
      "execution_count": 167,
      "outputs": []
    },
    {
      "cell_type": "code",
      "source": [
        "pca = PCA(n_components=2)"
      ],
      "metadata": {
        "id": "WdM3t4s2o9Iz"
      },
      "execution_count": 168,
      "outputs": []
    },
    {
      "cell_type": "code",
      "source": [
        "X = pca.fit_transform(iris.data)"
      ],
      "metadata": {
        "id": "pOijHJVLpAIZ"
      },
      "execution_count": 169,
      "outputs": []
    },
    {
      "cell_type": "code",
      "source": [
        "X.shape"
      ],
      "metadata": {
        "colab": {
          "base_uri": "https://localhost:8080/"
        },
        "id": "JkktveY-pDeb",
        "outputId": "1636aae1-5eed-4093-e885-495379eee3f0"
      },
      "execution_count": 170,
      "outputs": [
        {
          "output_type": "execute_result",
          "data": {
            "text/plain": [
              "(150, 2)"
            ]
          },
          "metadata": {},
          "execution_count": 170
        }
      ]
    },
    {
      "cell_type": "code",
      "source": [
        "X[0:6,:]"
      ],
      "metadata": {
        "colab": {
          "base_uri": "https://localhost:8080/"
        },
        "id": "89jBVK2UpPjY",
        "outputId": "f8fc54d4-b32b-4279-bee7-3cd85b4519d1"
      },
      "execution_count": 171,
      "outputs": [
        {
          "output_type": "execute_result",
          "data": {
            "text/plain": [
              "array([[-2.68412563,  0.31939725],\n",
              "       [-2.71414169, -0.17700123],\n",
              "       [-2.88899057, -0.14494943],\n",
              "       [-2.74534286, -0.31829898],\n",
              "       [-2.72871654,  0.32675451],\n",
              "       [-2.28085963,  0.74133045]])"
            ]
          },
          "metadata": {},
          "execution_count": 171
        }
      ]
    },
    {
      "cell_type": "code",
      "source": [
        "_ = plt.scatter(X[:,0], X[:,1])"
      ],
      "metadata": {
        "colab": {
          "base_uri": "https://localhost:8080/",
          "height": 269
        },
        "id": "LNOhsoH8pRym",
        "outputId": "6918408b-94eb-4159-c087-f8060c6e7853"
      },
      "execution_count": 172,
      "outputs": [
        {
          "output_type": "display_data",
          "data": {
            "text/plain": [
              "<Figure size 432x288 with 1 Axes>"
            ],
            "image/png": "[encoded data removed]"
          },
          "metadata": {
            "needs_background": "light"
          }
        }
      ]
    },
    {
      "cell_type": "code",
      "source": [
        "iris.target.shape"
      ],
      "metadata": {
        "colab": {
          "base_uri": "https://localhost:8080/"
        },
        "id": "4cUf_UAIpXSx",
        "outputId": "9865747e-58ee-43a3-acd4-93a1e2a3cb07"
      },
      "execution_count": 173,
      "outputs": [
        {
          "output_type": "execute_result",
          "data": {
            "text/plain": [
              "(150,)"
            ]
          },
          "metadata": {},
          "execution_count": 173
        }
      ]
    },
    {
      "cell_type": "code",
      "source": [
        "iris.target[0:6]"
      ],
      "metadata": {
        "colab": {
          "base_uri": "https://localhost:8080/"
        },
        "id": "zGhSnbS4patY",
        "outputId": "785febdd-be46-41d5-bd3d-61850fe5c570"
      },
      "execution_count": 174,
      "outputs": [
        {
          "output_type": "execute_result",
          "data": {
            "text/plain": [
              "array([0, 0, 0, 0, 0, 0])"
            ]
          },
          "metadata": {},
          "execution_count": 174
        }
      ]
    },
    {
      "cell_type": "code",
      "source": [
        "unique_elements, _, count_elements = tf.unique_with_counts(iris.target)\n"
      ],
      "metadata": {
        "id": "mg-NGjvmpfOi"
      },
      "execution_count": 175,
      "outputs": []
    },
    {
      "cell_type": "code",
      "source": [
        "unique_elements, count_elements"
      ],
      "metadata": {
        "colab": {
          "base_uri": "https://localhost:8080/"
        },
        "id": "dwH1YF1kp0WP",
        "outputId": "e171d22e-ae83-44e9-e6a8-e6ae84763446"
      },
      "execution_count": 176,
      "outputs": [
        {
          "output_type": "execute_result",
          "data": {
            "text/plain": [
              "(<tf.Tensor: shape=(3,), dtype=int64, numpy=array([0, 1, 2])>,\n",
              " <tf.Tensor: shape=(3,), dtype=int32, numpy=array([50, 50, 50], dtype=int32)>)"
            ]
          },
          "metadata": {},
          "execution_count": 176
        }
      ]
    },
    {
      "cell_type": "code",
      "source": [
        "list(iris.target_names)"
      ],
      "metadata": {
        "colab": {
          "base_uri": "https://localhost:8080/"
        },
        "id": "vbmb230zsoWG",
        "outputId": "dd68698b-abd3-4918-c6eb-1d4e898ba0d8"
      },
      "execution_count": 177,
      "outputs": [
        {
          "output_type": "execute_result",
          "data": {
            "text/plain": [
              "['setosa', 'versicolor', 'virginica']"
            ]
          },
          "metadata": {},
          "execution_count": 177
        }
      ]
    },
    {
      "cell_type": "code",
      "source": [
        "_ = plt.scatter(X[:, 0], X[:,1], c=iris.target)"
      ],
      "metadata": {
        "colab": {
          "base_uri": "https://localhost:8080/",
          "height": 269
        },
        "id": "Fhwc0IywsyNE",
        "outputId": "0180d315-8018-4b94-c674-8196817f15b3"
      },
      "execution_count": 178,
      "outputs": [
        {
          "output_type": "display_data",
          "data": {
            "text/plain": [
              "<Figure size 432x288 with 1 Axes>"
            ],
            "image/png": "[encoded data removed]"
          },
          "metadata": {
            "needs_background": "light"
          }
        }
      ]
    },
    {
      "cell_type": "code",
      "source": [],
      "metadata": {
        "id": "JLvF7rWUs6Wl"
      },
      "execution_count": 178,
      "outputs": []
    }
  ]
}