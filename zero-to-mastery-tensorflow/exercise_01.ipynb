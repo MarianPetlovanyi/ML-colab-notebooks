{
  "nbformat": 4,
  "nbformat_minor": 0,
  "metadata": {
    "colab": {
      "provenance": []
    },
    "kernelspec": {
      "name": "python3",
      "display_name": "Python 3"
    },
    "language_info": {
      "name": "python"
    }
  },
  "cells": [
    {
      "cell_type": "code",
      "execution_count": null,
      "metadata": {
        "colab": {
          "base_uri": "https://localhost:8080/"
        },
        "id": "K96p3DCcdlQp",
        "outputId": "e194ab56-5fb7-4417-d2ce-b22663ecd090"
      },
      "outputs": [
        {
          "output_type": "execute_result",
          "data": {
            "text/plain": [
              "array([-100,  -99,  -98,  -97,  -96,  -95,  -94,  -93,  -92,  -91,  -90,\n",
              "        -89,  -88,  -87,  -86,  -85,  -84,  -83,  -82,  -81,  -80,  -79,\n",
              "        -78,  -77,  -76,  -75,  -74,  -73,  -72,  -71,  -70,  -69,  -68,\n",
              "        -67,  -66,  -65,  -64,  -63,  -62,  -61,  -60,  -59,  -58,  -57,\n",
              "        -56,  -55,  -54,  -53,  -52,  -51,  -50,  -49,  -48,  -47,  -46,\n",
              "        -45,  -44,  -43,  -42,  -41,  -40,  -39,  -38,  -37,  -36,  -35,\n",
              "        -34,  -33,  -32,  -31,  -30,  -29,  -28,  -27,  -26,  -25,  -24,\n",
              "        -23,  -22,  -21,  -20,  -19,  -18,  -17,  -16,  -15,  -14,  -13,\n",
              "        -12,  -11,  -10,   -9,   -8,   -7,   -6,   -5,   -4,   -3,   -2,\n",
              "         -1,    0,    1,    2,    3,    4,    5,    6,    7,    8,    9,\n",
              "         10,   11,   12,   13,   14,   15,   16,   17,   18,   19,   20,\n",
              "         21,   22,   23,   24,   25,   26,   27,   28,   29,   30,   31,\n",
              "         32,   33,   34,   35,   36,   37,   38,   39,   40,   41,   42,\n",
              "         43,   44,   45,   46,   47,   48,   49,   50,   51,   52,   53,\n",
              "         54,   55,   56,   57,   58,   59,   60,   61,   62,   63,   64,\n",
              "         65,   66,   67,   68,   69,   70,   71,   72,   73,   74,   75,\n",
              "         76,   77,   78,   79,   80,   81,   82,   83,   84,   85,   86,\n",
              "         87,   88,   89,   90,   91,   92,   93,   94,   95,   96,   97,\n",
              "         98,   99])"
            ]
          },
          "metadata": {},
          "execution_count": 3
        }
      ],
      "source": [
        "import numpy as np\n",
        "import tensorflow as tf\n",
        "X=np.arange(-100,100,1)\n",
        "X"
      ]
    },
    {
      "cell_type": "code",
      "source": [
        "y=X*2+10"
      ],
      "metadata": {
        "id": "uKVNjoS-eCXv"
      },
      "execution_count": null,
      "outputs": []
    },
    {
      "cell_type": "code",
      "source": [
        "y"
      ],
      "metadata": {
        "colab": {
          "base_uri": "https://localhost:8080/"
        },
        "id": "FoR8S5ydeOx2",
        "outputId": "a7f1fd2c-69aa-42aa-e067-191cb111fcf1"
      },
      "execution_count": null,
      "outputs": [
        {
          "output_type": "execute_result",
          "data": {
            "text/plain": [
              "array([-190, -188, -186, -184, -182, -180, -178, -176, -174, -172, -170,\n",
              "       -168, -166, -164, -162, -160, -158, -156, -154, -152, -150, -148,\n",
              "       -146, -144, -142, -140, -138, -136, -134, -132, -130, -128, -126,\n",
              "       -124, -122, -120, -118, -116, -114, -112, -110, -108, -106, -104,\n",
              "       -102, -100,  -98,  -96,  -94,  -92,  -90,  -88,  -86,  -84,  -82,\n",
              "        -80,  -78,  -76,  -74,  -72,  -70,  -68,  -66,  -64,  -62,  -60,\n",
              "        -58,  -56,  -54,  -52,  -50,  -48,  -46,  -44,  -42,  -40,  -38,\n",
              "        -36,  -34,  -32,  -30,  -28,  -26,  -24,  -22,  -20,  -18,  -16,\n",
              "        -14,  -12,  -10,   -8,   -6,   -4,   -2,    0,    2,    4,    6,\n",
              "          8,   10,   12,   14,   16,   18,   20,   22,   24,   26,   28,\n",
              "         30,   32,   34,   36,   38,   40,   42,   44,   46,   48,   50,\n",
              "         52,   54,   56,   58,   60,   62,   64,   66,   68,   70,   72,\n",
              "         74,   76,   78,   80,   82,   84,   86,   88,   90,   92,   94,\n",
              "         96,   98,  100,  102,  104,  106,  108,  110,  112,  114,  116,\n",
              "        118,  120,  122,  124,  126,  128,  130,  132,  134,  136,  138,\n",
              "        140,  142,  144,  146,  148,  150,  152,  154,  156,  158,  160,\n",
              "        162,  164,  166,  168,  170,  172,  174,  176,  178,  180,  182,\n",
              "        184,  186,  188,  190,  192,  194,  196,  198,  200,  202,  204,\n",
              "        206,  208])"
            ]
          },
          "metadata": {},
          "execution_count": 5
        }
      ]
    },
    {
      "cell_type": "code",
      "source": [
        "from sklearn.compose import make_column_transformer\n",
        "from sklearn.preprocessing import MinMaxScaler, OneHotEncoder\n",
        "from sklearn.model_selection import train_test_split\n"
      ],
      "metadata": {
        "id": "LESd03pXuz6v"
      },
      "execution_count": null,
      "outputs": []
    },
    {
      "cell_type": "code",
      "source": [
        "X_train, X_test, y_train, y_test = train_test_split(X,y, train_size=0.2, random_state=42)\n",
        "X_train, X_test, y_train, y_test"
      ],
      "metadata": {
        "colab": {
          "base_uri": "https://localhost:8080/"
        },
        "id": "sHdMdZxxvmjh",
        "outputId": "b644ad51-3925-4f15-bc16-742fe849c991"
      },
      "execution_count": null,
      "outputs": [
        {
          "output_type": "execute_result",
          "data": {
            "text/plain": [
              "(array([ 75,  34,  67,  83, -37, -46,   7, -50,  96, -42, -52, -12, -79,\n",
              "        -43,  60,  92,  29, -63,  57,  93, -99, -48,  49,  30,  51,   3,\n",
              "         -1,  16, -13, -26,  21,  99, -80,  88, -29,   6, -86,  -8,  79,\n",
              "          2]),\n",
              " array([  -5,  -85,  -70,   58,   28,   15,  -31,   70,   74,  -55,  -34,\n",
              "          82,   65,  -22,   86,   77,  -44,   52,  -18,  -32,   24,  -84,\n",
              "          48,   -7,  -35,  -40,  -16,  -33,   25,   32,  -91,  -82,  -45,\n",
              "         -25,   50,    4,   35,   37,   64,  -24,  -21,   97,  -62,  -76,\n",
              "          22,   95,  -71,  -81,   43,  -14,   14,   73,  -95,   26,   17,\n",
              "         -27,   40,   -2,   72,   -4,   69,   -3,  -69,  -88,  -65,   19,\n",
              "         -58,   89,  -10,   36,  -49,   27,   62,  -59,   18,   13,  -74,\n",
              "          39,    0,   11,  -98,  -23,  -54,   87,   91,  -15,   61,  -64,\n",
              "          90,  -39,  -78,   41,    1,  -67,  -89,   94,   59,  -94,  -73,\n",
              "          20,  -96,  -68,   42,   45,    9,   44,  -90,  -38,   12,   46,\n",
              "          66, -100,   98,   53,  -30,   23,  -36,  -56,   63,  -72,  -60,\n",
              "           8,   55,   56,  -75,  -77,   84,   47,  -19,  -61,   68,  -53,\n",
              "          -6,   54,  -57,   38,  -97,    5,  -47,   33,   80,   78,   85,\n",
              "         -51,  -20,  -66,  -93,   10,   -9,  -17,   76,   81,  -11,  -92,\n",
              "         -87,  -41,   71,   31,  -83,  -28]),\n",
              " array([ 160,   78,  144,  176,  -64,  -82,   24,  -90,  202,  -74,  -94,\n",
              "         -14, -148,  -76,  130,  194,   68, -116,  124,  196, -188,  -86,\n",
              "         108,   70,  112,   16,    8,   42,  -16,  -42,   52,  208, -150,\n",
              "         186,  -48,   22, -162,   -6,  168,   14]),\n",
              " array([   0, -160, -130,  126,   66,   40,  -52,  150,  158, -100,  -58,\n",
              "         174,  140,  -34,  182,  164,  -78,  114,  -26,  -54,   58, -158,\n",
              "         106,   -4,  -60,  -70,  -22,  -56,   60,   74, -172, -154,  -80,\n",
              "         -40,  110,   18,   80,   84,  138,  -38,  -32,  204, -114, -142,\n",
              "          54,  200, -132, -152,   96,  -18,   38,  156, -180,   62,   44,\n",
              "         -44,   90,    6,  154,    2,  148,    4, -128, -166, -120,   48,\n",
              "        -106,  188,  -10,   82,  -88,   64,  134, -108,   46,   36, -138,\n",
              "          88,   10,   32, -186,  -36,  -98,  184,  192,  -20,  132, -118,\n",
              "         190,  -68, -146,   92,   12, -124, -168,  198,  128, -178, -136,\n",
              "          50, -182, -126,   94,  100,   28,   98, -170,  -66,   34,  102,\n",
              "         142, -190,  206,  116,  -50,   56,  -62, -102,  136, -134, -110,\n",
              "          26,  120,  122, -140, -144,  178,  104,  -28, -112,  146,  -96,\n",
              "          -2,  118, -104,   86, -184,   20,  -84,   76,  170,  166,  180,\n",
              "         -92,  -30, -122, -176,   30,   -8,  -24,  162,  172,  -12, -174,\n",
              "        -164,  -72,  152,   72, -156,  -46]))"
            ]
          },
          "metadata": {},
          "execution_count": 7
        }
      ]
    },
    {
      "cell_type": "code",
      "source": [
        "tf.random.set_seed(42)\n",
        "model_1 = tf.keras.Sequential([\n",
        "                             tf.keras.layers.Dense(10),\n",
        "                             tf.keras.layers.Dense(1)\n",
        "])\n",
        "model_1.compile(loss=tf.keras.losses.MAE,\n",
        "                optimizer=tf.keras.optimizers.Adam(lr=0.1),\n",
        "                metrics=[\"mae\"])\n",
        "history=model_1.fit(tf.expand_dims(X_train, axis=-1), y_train, epochs=50)"
      ],
      "metadata": {
        "colab": {
          "base_uri": "https://localhost:8080/"
        },
        "id": "nhqlGTYutpjL",
        "outputId": "40a83cec-06f2-45f7-c737-3877bb413be7"
      },
      "execution_count": null,
      "outputs": [
        {
          "output_type": "stream",
          "name": "stderr",
          "text": [
            "/usr/local/lib/python3.7/dist-packages/keras/optimizer_v2/adam.py:105: UserWarning: The `lr` argument is deprecated, use `learning_rate` instead.\n",
            "  super(Adam, self).__init__(name, **kwargs)\n"
          ]
        },
        {
          "output_type": "stream",
          "name": "stdout",
          "text": [
            "Epoch 1/50\n",
            "2/2 [==============================] - 1s 9ms/step - loss: 72.3069 - mae: 72.3069\n",
            "Epoch 2/50\n",
            "2/2 [==============================] - 0s 10ms/step - loss: 17.1254 - mae: 17.1254\n",
            "Epoch 3/50\n",
            "2/2 [==============================] - 0s 12ms/step - loss: 42.9372 - mae: 42.9372\n",
            "Epoch 4/50\n",
            "2/2 [==============================] - 0s 7ms/step - loss: 15.8115 - mae: 15.8115\n",
            "Epoch 5/50\n",
            "2/2 [==============================] - 0s 7ms/step - loss: 16.5486 - mae: 16.5486\n",
            "Epoch 6/50\n",
            "2/2 [==============================] - 0s 17ms/step - loss: 17.8124 - mae: 17.8124\n",
            "Epoch 7/50\n",
            "2/2 [==============================] - 0s 9ms/step - loss: 6.1643 - mae: 6.1643\n",
            "Epoch 8/50\n",
            "2/2 [==============================] - 0s 8ms/step - loss: 12.0743 - mae: 12.0743\n",
            "Epoch 9/50\n",
            "2/2 [==============================] - 0s 6ms/step - loss: 4.5051 - mae: 4.5051\n",
            "Epoch 10/50\n",
            "2/2 [==============================] - 0s 9ms/step - loss: 10.6456 - mae: 10.6456\n",
            "Epoch 11/50\n",
            "2/2 [==============================] - 0s 24ms/step - loss: 6.2726 - mae: 6.2726\n",
            "Epoch 12/50\n",
            "2/2 [==============================] - 0s 28ms/step - loss: 9.6665 - mae: 9.6665\n",
            "Epoch 13/50\n",
            "2/2 [==============================] - 0s 13ms/step - loss: 9.0495 - mae: 9.0495\n",
            "Epoch 14/50\n",
            "2/2 [==============================] - 0s 12ms/step - loss: 5.1655 - mae: 5.1655\n",
            "Epoch 15/50\n",
            "2/2 [==============================] - 0s 14ms/step - loss: 7.7204 - mae: 7.7204\n",
            "Epoch 16/50\n",
            "2/2 [==============================] - 0s 30ms/step - loss: 1.8115 - mae: 1.8115\n",
            "Epoch 17/50\n",
            "2/2 [==============================] - 0s 11ms/step - loss: 2.6033 - mae: 2.6033\n",
            "Epoch 18/50\n",
            "2/2 [==============================] - 0s 9ms/step - loss: 2.1312 - mae: 2.1312\n",
            "Epoch 19/50\n",
            "2/2 [==============================] - 0s 6ms/step - loss: 1.0726 - mae: 1.0726\n",
            "Epoch 20/50\n",
            "2/2 [==============================] - 0s 10ms/step - loss: 3.6034 - mae: 3.6034\n",
            "Epoch 21/50\n",
            "2/2 [==============================] - 0s 10ms/step - loss: 0.6578 - mae: 0.6578\n",
            "Epoch 22/50\n",
            "2/2 [==============================] - 0s 20ms/step - loss: 2.5416 - mae: 2.5416\n",
            "Epoch 23/50\n",
            "2/2 [==============================] - 0s 9ms/step - loss: 2.0317 - mae: 2.0317\n",
            "Epoch 24/50\n",
            "2/2 [==============================] - 0s 10ms/step - loss: 1.7939 - mae: 1.7939\n",
            "Epoch 25/50\n",
            "2/2 [==============================] - 0s 12ms/step - loss: 1.5459 - mae: 1.5459\n",
            "Epoch 26/50\n",
            "2/2 [==============================] - 0s 11ms/step - loss: 4.0318 - mae: 4.0318\n",
            "Epoch 27/50\n",
            "2/2 [==============================] - 0s 12ms/step - loss: 2.4315 - mae: 2.4315\n",
            "Epoch 28/50\n",
            "2/2 [==============================] - 0s 13ms/step - loss: 5.1836 - mae: 5.1836\n",
            "Epoch 29/50\n",
            "2/2 [==============================] - 0s 13ms/step - loss: 2.2365 - mae: 2.2365\n",
            "Epoch 30/50\n",
            "2/2 [==============================] - 0s 12ms/step - loss: 1.5297 - mae: 1.5297\n",
            "Epoch 31/50\n",
            "2/2 [==============================] - 0s 12ms/step - loss: 3.0381 - mae: 3.0381\n",
            "Epoch 32/50\n",
            "2/2 [==============================] - 0s 16ms/step - loss: 1.3309 - mae: 1.3309\n",
            "Epoch 33/50\n",
            "2/2 [==============================] - 0s 11ms/step - loss: 1.3799 - mae: 1.3799\n",
            "Epoch 34/50\n",
            "2/2 [==============================] - 0s 9ms/step - loss: 4.6504 - mae: 4.6504\n",
            "Epoch 35/50\n",
            "2/2 [==============================] - 0s 10ms/step - loss: 2.2747 - mae: 2.2747\n",
            "Epoch 36/50\n",
            "2/2 [==============================] - 0s 5ms/step - loss: 7.9804 - mae: 7.9804\n",
            "Epoch 37/50\n",
            "2/2 [==============================] - 0s 8ms/step - loss: 3.9271 - mae: 3.9271\n",
            "Epoch 38/50\n",
            "2/2 [==============================] - 0s 11ms/step - loss: 4.3652 - mae: 4.3652\n",
            "Epoch 39/50\n",
            "2/2 [==============================] - 0s 7ms/step - loss: 1.8808 - mae: 1.8808\n",
            "Epoch 40/50\n",
            "2/2 [==============================] - 0s 5ms/step - loss: 1.7986 - mae: 1.7986\n",
            "Epoch 41/50\n",
            "2/2 [==============================] - 0s 4ms/step - loss: 4.5594 - mae: 4.5594\n",
            "Epoch 42/50\n",
            "2/2 [==============================] - 0s 8ms/step - loss: 2.0867 - mae: 2.0867\n",
            "Epoch 43/50\n",
            "2/2 [==============================] - 0s 14ms/step - loss: 0.8949 - mae: 0.8949\n",
            "Epoch 44/50\n",
            "2/2 [==============================] - 0s 14ms/step - loss: 5.0821 - mae: 5.0821\n",
            "Epoch 45/50\n",
            "2/2 [==============================] - 0s 17ms/step - loss: 3.1167 - mae: 3.1167\n",
            "Epoch 46/50\n",
            "2/2 [==============================] - 0s 19ms/step - loss: 3.3810 - mae: 3.3810\n",
            "Epoch 47/50\n",
            "2/2 [==============================] - 0s 12ms/step - loss: 2.4938 - mae: 2.4938\n",
            "Epoch 48/50\n",
            "2/2 [==============================] - 0s 18ms/step - loss: 2.2728 - mae: 2.2728\n",
            "Epoch 49/50\n",
            "2/2 [==============================] - 0s 13ms/step - loss: 1.7647 - mae: 1.7647\n",
            "Epoch 50/50\n",
            "2/2 [==============================] - 0s 24ms/step - loss: 1.4173 - mae: 1.4173\n"
          ]
        }
      ]
    },
    {
      "cell_type": "code",
      "source": [
        "import pandas as pd\n",
        "pd.DataFrame(history.history).plot()"
      ],
      "metadata": {
        "colab": {
          "base_uri": "https://localhost:8080/",
          "height": 282
        },
        "id": "XPP067rYt4aL",
        "outputId": "d3b6a365-c363-45d1-b13e-a1c972764609"
      },
      "execution_count": null,
      "outputs": [
        {
          "output_type": "execute_result",
          "data": {
            "text/plain": [
              "<matplotlib.axes._subplots.AxesSubplot at 0x7f5ac35c0850>"
            ]
          },
          "metadata": {},
          "execution_count": 9
        },
        {
          "output_type": "display_data",
          "data": {
            "text/plain": [
              "<Figure size 432x288 with 1 Axes>"
            ],
            "image/png": "[encoded data removed]"
          },
          "metadata": {
            "needs_background": "light"
          }
        }
      ]
    },
    {
      "cell_type": "code",
      "source": [
        "\n",
        "y_preds=model_1.predict(X_test)\n",
        "import matplotlib.pyplot as plt\n",
        "plt.scatter(X_test, y_test)\n",
        "plt.scatter(X_test, y_preds)"
      ],
      "metadata": {
        "colab": {
          "base_uri": "https://localhost:8080/",
          "height": 282
        },
        "id": "oM4T7pM4xMxM",
        "outputId": "a89ee649-dbcf-4a19-f588-35ffc41fa888"
      },
      "execution_count": null,
      "outputs": [
        {
          "output_type": "execute_result",
          "data": {
            "text/plain": [
              "<matplotlib.collections.PathCollection at 0x7f5ac2fcd910>"
            ]
          },
          "metadata": {},
          "execution_count": 10
        },
        {
          "output_type": "display_data",
          "data": {
            "text/plain": [
              "<Figure size 432x288 with 1 Axes>"
            ],
            "image/png": "[encoded data removed]"
          },
          "metadata": {
            "needs_background": "light"
          }
        }
      ]
    },
    {
      "cell_type": "code",
      "source": [
        "(X_train,y_train), (X_test,y_test) = tf.keras.datasets.boston_housing.load_data(\n",
        "    path='boston_housing.npz', test_split=0.2, seed=42\n",
        ")"
      ],
      "metadata": {
        "id": "5-sq9dBIydNB",
        "colab": {
          "base_uri": "https://localhost:8080/"
        },
        "outputId": "8074b7c0-38de-401b-c349-caf74a718126"
      },
      "execution_count": null,
      "outputs": [
        {
          "output_type": "stream",
          "name": "stdout",
          "text": [
            "Downloading data from https://storage.googleapis.com/tensorflow/tf-keras-datasets/boston_housing.npz\n",
            "57344/57026 [==============================] - 0s 0us/step\n",
            "65536/57026 [==================================] - 0s 0us/step\n"
          ]
        }
      ]
    },
    {
      "cell_type": "code",
      "source": [
        "X_train, y_train"
      ],
      "metadata": {
        "colab": {
          "base_uri": "https://localhost:8080/"
        },
        "id": "_So26AZ60TW8",
        "outputId": "46a2216f-896f-456c-c49d-19ecc17e4e09"
      },
      "execution_count": null,
      "outputs": [
        {
          "output_type": "execute_result",
          "data": {
            "text/plain": [
              "(array([[9.1780e-02, 0.0000e+00, 4.0500e+00, ..., 1.6600e+01, 3.9550e+02,\n",
              "         9.0400e+00],\n",
              "        [5.6440e-02, 4.0000e+01, 6.4100e+00, ..., 1.7600e+01, 3.9690e+02,\n",
              "         3.5300e+00],\n",
              "        [1.0574e-01, 0.0000e+00, 2.7740e+01, ..., 2.0100e+01, 3.9011e+02,\n",
              "         1.8070e+01],\n",
              "        ...,\n",
              "        [3.0410e-02, 0.0000e+00, 5.1900e+00, ..., 2.0200e+01, 3.9481e+02,\n",
              "         1.0560e+01],\n",
              "        [5.2058e-01, 0.0000e+00, 6.2000e+00, ..., 1.7400e+01, 3.8845e+02,\n",
              "         9.5400e+00],\n",
              "        [2.5199e-01, 0.0000e+00, 1.0590e+01, ..., 1.8600e+01, 3.8943e+02,\n",
              "         1.8060e+01]]),\n",
              " array([23.6, 32.4, 13.6, 22.8, 16.1, 20. , 17.8, 14. , 19.6, 16.8, 21.5,\n",
              "        18.9,  7. , 21.2, 18.5, 29.8, 18.8, 10.2, 50. , 14.1, 25.2, 29.1,\n",
              "        12.7, 22.4, 14.2, 13.8, 20.3, 14.9, 21.7, 18.3, 23.1, 23.8, 15. ,\n",
              "        20.8, 19.1, 19.4, 34.7, 19.5, 24.4, 23.4, 19.7, 28.2, 50. , 17.4,\n",
              "        22.6, 15.1, 13.1, 24.2, 19.9, 24. , 18.9, 35.4, 15.2, 26.5, 43.5,\n",
              "        21.2, 18.4, 28.5, 23.9, 18.5, 25. , 35.4, 31.5, 20.2, 24.1, 20. ,\n",
              "        13.1, 24.8, 30.8, 12.7, 20. , 23.7, 10.8, 20.6, 20.8,  5. , 20.1,\n",
              "        48.5, 10.9,  7. , 20.9, 17.2, 20.9,  9.7, 19.4, 29. , 16.4, 25. ,\n",
              "        25. , 17.1, 23.2, 10.4, 19.6, 17.2, 27.5, 23. , 50. , 17.9,  9.6,\n",
              "        17.2, 22.5, 21.4, 12. , 19.9, 19.4, 13.4, 18.2, 24.6, 21.1, 24.7,\n",
              "         8.7, 27.5, 20.7, 36.2, 31.6, 11.7, 39.8, 13.9, 21.8, 23.7, 17.6,\n",
              "        24.4,  8.8, 19.2, 25.3, 20.4, 23.1, 37.9, 15.6, 45.4, 15.7, 22.6,\n",
              "        14.5, 18.7, 17.8, 16.1, 20.6, 31.6, 29.1, 15.6, 17.5, 22.5, 19.4,\n",
              "        19.3,  8.5, 20.6, 17. , 17.1, 14.5, 50. , 14.3, 12.6, 28.7, 21.2,\n",
              "        19.3, 23.1, 19.1, 25. , 33.4,  5. , 29.6, 18.7, 21.7, 23.1, 22.8,\n",
              "        21. , 48.8, 14.6, 16.6, 27.1, 20.1, 19.8, 21. , 41.3, 23.2, 20.4,\n",
              "        18.5, 29.4, 36.4, 24.4, 11.8, 13.8, 12.3, 17.8, 33.1, 26.7, 13.4,\n",
              "        14.4, 50. , 22. , 19.9, 23.8, 17.5, 12.7,  5.6, 31.1, 26.2, 19.4,\n",
              "        16.7, 13.8, 22.9, 15.3, 27.5, 36.1, 22.9, 24.5, 25. , 50. , 34.9,\n",
              "        31.7, 24.1, 22.1, 14.1, 42.8, 19.3, 32.2, 26.4, 21.8, 21.7,  8.3,\n",
              "        46.7, 43.1, 31.5, 10.5, 16.7, 20. , 33.3, 17.8, 50. , 20.5, 23.2,\n",
              "        13.1, 19.6, 22.8, 28.7, 30.7, 22.9, 21.9, 23.9, 32.7, 24.3, 21.5,\n",
              "        24.6,  8.5, 26.4, 23.1, 15. ,  8.8, 19.3, 23.9, 24.7, 19.8, 23.8,\n",
              "        13.3, 29. , 27.1, 34.6, 13.3, 15.6, 12.5, 14.6, 11. , 24.8, 17.3,\n",
              "         8.1, 21.4, 15.6, 23.3, 32. , 38.7, 30.1, 20.5, 32.5, 42.3, 24.3,\n",
              "        20.6, 22. , 18.2, 15. ,  6.3, 20.1, 21.4, 28.4, 30.1, 20.8, 23. ,\n",
              "        14.3, 11.7, 37.3, 17.1, 10.4, 23. , 22.7, 20.3, 21.7, 50. ,  8.4,\n",
              "        18.8, 37.2, 16.1, 16.5, 22.2, 20.6, 13.5, 48.3, 23.8, 22.7, 17.4,\n",
              "        30.3, 36. , 41.7, 18.3, 22. , 18.6, 44.8, 11.9, 18.7, 16.2, 22. ,\n",
              "         7.2, 20.4, 13.8, 13. , 18.4, 23.1, 21.2, 23.1, 23.5, 50. , 26.6,\n",
              "        22.2, 50. ,  8.3, 23.3, 21.7, 18.9, 18.4, 17.4, 13.4, 12.1, 26.6,\n",
              "        21.7, 28.4, 20.5, 22. , 13.9, 11.3, 29.9, 26.6, 10.5, 23.2, 24.4,\n",
              "        46. , 21.9,  7.5, 36.2, 44. , 17.8, 27.5, 37.6, 14.1, 28.1, 10.2,\n",
              "        19.1, 43.8, 27.9, 25. , 16. , 16.6, 13.2, 50. , 22.2, 32.9, 15.2,\n",
              "        14.8, 13.8, 24.3, 33.8, 22.3, 50. ,  9.5, 13.3, 22.2, 18.1, 18. ,\n",
              "        25. , 16.5, 23. , 20.1, 33. , 24.8, 18.2, 13.1, 34.9, 10.2, 19.9,\n",
              "        27.9, 23.3, 35.1, 12.8, 22. , 18.5, 25.1, 22.5]))"
            ]
          },
          "metadata": {},
          "execution_count": 12
        }
      ]
    },
    {
      "cell_type": "code",
      "source": [
        "model = tf.keras.Sequential([\n",
        "                             tf.keras.layers.Dense(10),\n",
        "                             tf.keras.layers.Dense(1)\n",
        "])\n",
        "model.compile(loss=tf.keras.losses.MAE,\n",
        "              optimizer=tf.keras.optimizers.Adam(),\n",
        "              metrics=[\"mae\"])\n",
        "model.fit(X_train,y_train, epochs=1000, verbose=0)"
      ],
      "metadata": {
        "colab": {
          "base_uri": "https://localhost:8080/"
        },
        "id": "m58gSbVL1nuj",
        "outputId": "2bc117fd-f4e4-4425-ec71-54e32a0dd697"
      },
      "execution_count": null,
      "outputs": [
        {
          "output_type": "execute_result",
          "data": {
            "text/plain": [
              "<keras.callbacks.History at 0x7f5ac2f95050>"
            ]
          },
          "metadata": {},
          "execution_count": 13
        }
      ]
    },
    {
      "cell_type": "code",
      "source": [
        "model.evaluate(X_test,y_test)\n",
        "y_preds=model.predict(X_test)\n",
        "tf.shape(X_test.transpose()[0]),tf.shape(y_test),tf.shape(y_preds)"
      ],
      "metadata": {
        "colab": {
          "base_uri": "https://localhost:8080/"
        },
        "id": "ga142eco2Hc0",
        "outputId": "d594bdad-81e5-40de-f671-4d39839524c8"
      },
      "execution_count": null,
      "outputs": [
        {
          "output_type": "stream",
          "name": "stdout",
          "text": [
            "4/4 [==============================] - 0s 3ms/step - loss: 2.9283 - mae: 2.9283\n"
          ]
        },
        {
          "output_type": "execute_result",
          "data": {
            "text/plain": [
              "(<tf.Tensor: shape=(1,), dtype=int32, numpy=array([102], dtype=int32)>,\n",
              " <tf.Tensor: shape=(1,), dtype=int32, numpy=array([102], dtype=int32)>,\n",
              " <tf.Tensor: shape=(2,), dtype=int32, numpy=array([102,   1], dtype=int32)>)"
            ]
          },
          "metadata": {},
          "execution_count": 14
        }
      ]
    },
    {
      "cell_type": "code",
      "source": [
        "plt.scatter(X_test.transpose()[0], y_test, c='g')\n",
        "plt.scatter(X_test.transpose()[0], y_preds, c='r')"
      ],
      "metadata": {
        "colab": {
          "base_uri": "https://localhost:8080/",
          "height": 282
        },
        "id": "DnQ11E9V3PZs",
        "outputId": "1636b910-b7bf-4602-a9bb-c1f45ec2c59a"
      },
      "execution_count": null,
      "outputs": [
        {
          "output_type": "execute_result",
          "data": {
            "text/plain": [
              "<matplotlib.collections.PathCollection at 0x7f5ac2feac90>"
            ]
          },
          "metadata": {},
          "execution_count": 15
        },
        {
          "output_type": "display_data",
          "data": {
            "text/plain": [
              "<Figure size 432x288 with 1 Axes>"
            ],
            "image/png": "[encoded data removed]"
          },
          "metadata": {
            "needs_background": "light"
          }
        }
      ]
    },
    {
      "cell_type": "code",
      "source": [],
      "metadata": {
        "id": "9LLE0S0l3tPQ"
      },
      "execution_count": null,
      "outputs": []
    }
  ]
}