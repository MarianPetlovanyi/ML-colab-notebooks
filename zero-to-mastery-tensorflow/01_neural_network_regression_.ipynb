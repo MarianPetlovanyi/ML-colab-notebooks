{
  "cells": [
    {
      "cell_type": "code",
      "execution_count": null,
      "metadata": {
        "id": "e9ckB-y9a6vt"
      },
      "outputs": [],
      "source": [
        "import tensorflow as tf"
      ]
    },
    {
      "cell_type": "code",
      "execution_count": null,
      "metadata": {
        "id": "47h_r3l7h8zT"
      },
      "outputs": [],
      "source": [
        "import numpy as np\n",
        "import matplotlib.pyplot as plt\n",
        "X = np.array(range(1,100,4))\n",
        "X\n",
        "y= X+10\n"
      ]
    },
    {
      "cell_type": "code",
      "execution_count": null,
      "metadata": {
        "id": "12lq-7SwjA5q"
      },
      "outputs": [],
      "source": [
        "house_info = tf.constant([\"bedrooms\", \"bathrooms\", \"garage\"])"
      ]
    },
    {
      "cell_type": "code",
      "execution_count": null,
      "metadata": {
        "id": "tdPMHaLejxiz",
        "colab": {
          "base_uri": "https://localhost:8080/"
        },
        "outputId": "6fcf5015-840f-455b-b622-9886cf62699c"
      },
      "outputs": [
        {
          "output_type": "execute_result",
          "data": {
            "text/plain": [
              "array([ 1,  5,  9, 13, 17, 21, 25, 29, 33, 37, 41, 45, 49, 53, 57, 61, 65,\n",
              "       69, 73, 77, 81, 85, 89, 93, 97])"
            ]
          },
          "metadata": {},
          "execution_count": 4
        }
      ],
      "source": [
        "house_price =tf.constant([93700])\n",
        "X"
      ]
    },
    {
      "cell_type": "code",
      "execution_count": null,
      "metadata": {
        "colab": {
          "base_uri": "https://localhost:8080/"
        },
        "id": "M71RJsfij6aI",
        "outputId": "43ad4aea-c25d-449f-9d0a-1e6d19c2f882"
      },
      "outputs": [
        {
          "output_type": "execute_result",
          "data": {
            "text/plain": [
              "(<tf.Tensor: shape=(3,), dtype=string, numpy=array([b'bedrooms', b'bathrooms', b'garage'], dtype=object)>,\n",
              " <tf.Tensor: shape=(1,), dtype=int32, numpy=array([93700], dtype=int32)>)"
            ]
          },
          "metadata": {},
          "execution_count": 5
        }
      ],
      "source": [
        "house_info, house_price"
      ]
    },
    {
      "cell_type": "code",
      "execution_count": null,
      "metadata": {
        "colab": {
          "base_uri": "https://localhost:8080/"
        },
        "id": "LJBtHKifj8sV",
        "outputId": "a21f8a7c-560f-4d5c-d01d-3de6555ae307"
      },
      "outputs": [
        {
          "output_type": "execute_result",
          "data": {
            "text/plain": [
              "((), ())"
            ]
          },
          "metadata": {},
          "execution_count": 6
        }
      ],
      "source": [
        "input_shape = X[0].shape\n",
        "output_shape = y[0].shape\n",
        "input_shape, output_shape"
      ]
    },
    {
      "cell_type": "code",
      "execution_count": null,
      "metadata": {
        "colab": {
          "base_uri": "https://localhost:8080/"
        },
        "id": "S8T1ImhvkRC9",
        "outputId": "f0195331-2f5c-42fc-a018-67be9dd6b7df"
      },
      "outputs": [
        {
          "output_type": "execute_result",
          "data": {
            "text/plain": [
              "(<tf.Tensor: shape=(25,), dtype=float32, numpy=\n",
              " array([ 1.,  5.,  9., 13., 17., 21., 25., 29., 33., 37., 41., 45., 49.,\n",
              "        53., 57., 61., 65., 69., 73., 77., 81., 85., 89., 93., 97.],\n",
              "       dtype=float32)>, <tf.Tensor: shape=(25,), dtype=float32, numpy=\n",
              " array([ 11.,  15.,  19.,  23.,  27.,  31.,  35.,  39.,  43.,  47.,  51.,\n",
              "         55.,  59.,  63.,  67.,  71.,  75.,  79.,  83.,  87.,  91.,  95.,\n",
              "         99., 103., 107.], dtype=float32)>)"
            ]
          },
          "metadata": {},
          "execution_count": 7
        }
      ],
      "source": [
        "X= tf.cast(tf.constant(X), dtype=tf.float32)\n",
        "y = tf.cast(tf.constant(y), dtype=tf.float32)\n",
        "X, y"
      ]
    },
    {
      "cell_type": "code",
      "execution_count": null,
      "metadata": {
        "colab": {
          "base_uri": "https://localhost:8080/",
          "height": 282
        },
        "id": "z_q4F9bBgfiH",
        "outputId": "f3425a7f-22f7-4231-f127-62f0ea4cccc5"
      },
      "outputs": [
        {
          "output_type": "execute_result",
          "data": {
            "text/plain": [
              "<matplotlib.collections.PathCollection at 0x7fcd56d5ff90>"
            ]
          },
          "metadata": {},
          "execution_count": 8
        },
        {
          "output_type": "display_data",
          "data": {
            "text/plain": [
              "<Figure size 432x288 with 1 Axes>"
            ],
            "image/png": "[encoded data removed]"
          },
          "metadata": {
            "needs_background": "light"
          }
        }
      ],
      "source": [
        "plt.scatter(X, y)"
      ]
    },
    {
      "cell_type": "code",
      "execution_count": null,
      "metadata": {
        "colab": {
          "base_uri": "https://localhost:8080/"
        },
        "id": "Wp2JmxAg87SK",
        "outputId": "4d3ef93a-4a33-4f33-f98d-7c41d237e827"
      },
      "outputs": [
        {
          "output_type": "stream",
          "name": "stderr",
          "text": [
            "/usr/local/lib/python3.7/dist-packages/keras/optimizer_v2/adam.py:105: UserWarning: The `lr` argument is deprecated, use `learning_rate` instead.\n",
            "  super(Adam, self).__init__(name, **kwargs)\n"
          ]
        },
        {
          "output_type": "stream",
          "name": "stdout",
          "text": [
            "Epoch 1/100\n",
            "1/1 [==============================] - 1s 1s/step - loss: 58.9827 - mae: 58.9827\n",
            "Epoch 2/100\n",
            "1/1 [==============================] - 0s 11ms/step - loss: 57.4827 - mae: 57.4827\n",
            "Epoch 3/100\n",
            "1/1 [==============================] - 0s 16ms/step - loss: 55.9827 - mae: 55.9827\n",
            "Epoch 4/100\n",
            "1/1 [==============================] - 0s 7ms/step - loss: 54.4827 - mae: 54.4827\n",
            "Epoch 5/100\n",
            "1/1 [==============================] - 0s 14ms/step - loss: 52.9827 - mae: 52.9827\n",
            "Epoch 6/100\n",
            "1/1 [==============================] - 0s 13ms/step - loss: 51.4827 - mae: 51.4827\n",
            "Epoch 7/100\n",
            "1/1 [==============================] - 0s 15ms/step - loss: 49.9827 - mae: 49.9827\n",
            "Epoch 8/100\n",
            "1/1 [==============================] - 0s 13ms/step - loss: 48.4827 - mae: 48.4827\n",
            "Epoch 9/100\n",
            "1/1 [==============================] - 0s 11ms/step - loss: 46.9828 - mae: 46.9828\n",
            "Epoch 10/100\n",
            "1/1 [==============================] - 0s 17ms/step - loss: 45.4828 - mae: 45.4828\n",
            "Epoch 11/100\n",
            "1/1 [==============================] - 0s 13ms/step - loss: 43.9828 - mae: 43.9828\n",
            "Epoch 12/100\n",
            "1/1 [==============================] - 0s 19ms/step - loss: 42.4828 - mae: 42.4828\n",
            "Epoch 13/100\n",
            "1/1 [==============================] - 0s 17ms/step - loss: 40.9828 - mae: 40.9828\n",
            "Epoch 14/100\n",
            "1/1 [==============================] - 0s 16ms/step - loss: 39.4828 - mae: 39.4828\n",
            "Epoch 15/100\n",
            "1/1 [==============================] - 0s 32ms/step - loss: 37.9828 - mae: 37.9828\n",
            "Epoch 16/100\n",
            "1/1 [==============================] - 0s 16ms/step - loss: 36.4828 - mae: 36.4828\n",
            "Epoch 17/100\n",
            "1/1 [==============================] - 0s 19ms/step - loss: 34.9828 - mae: 34.9828\n",
            "Epoch 18/100\n",
            "1/1 [==============================] - 0s 31ms/step - loss: 33.4828 - mae: 33.4828\n",
            "Epoch 19/100\n",
            "1/1 [==============================] - 0s 18ms/step - loss: 31.9828 - mae: 31.9828\n",
            "Epoch 20/100\n",
            "1/1 [==============================] - 0s 14ms/step - loss: 30.4828 - mae: 30.4828\n",
            "Epoch 21/100\n",
            "1/1 [==============================] - 0s 12ms/step - loss: 28.9828 - mae: 28.9828\n",
            "Epoch 22/100\n",
            "1/1 [==============================] - 0s 17ms/step - loss: 27.4828 - mae: 27.4828\n",
            "Epoch 23/100\n",
            "1/1 [==============================] - 0s 23ms/step - loss: 25.9828 - mae: 25.9828\n",
            "Epoch 24/100\n",
            "1/1 [==============================] - 0s 19ms/step - loss: 24.4828 - mae: 24.4828\n",
            "Epoch 25/100\n",
            "1/1 [==============================] - 0s 8ms/step - loss: 22.9828 - mae: 22.9828\n",
            "Epoch 26/100\n",
            "1/1 [==============================] - 0s 8ms/step - loss: 21.4828 - mae: 21.4828\n",
            "Epoch 27/100\n",
            "1/1 [==============================] - 0s 9ms/step - loss: 19.9828 - mae: 19.9828\n",
            "Epoch 28/100\n",
            "1/1 [==============================] - 0s 11ms/step - loss: 18.4829 - mae: 18.4829\n",
            "Epoch 29/100\n",
            "1/1 [==============================] - 0s 27ms/step - loss: 16.9829 - mae: 16.9829\n",
            "Epoch 30/100\n",
            "1/1 [==============================] - 0s 35ms/step - loss: 15.4845 - mae: 15.4845\n",
            "Epoch 31/100\n",
            "1/1 [==============================] - 0s 11ms/step - loss: 14.0358 - mae: 14.0358\n",
            "Epoch 32/100\n",
            "1/1 [==============================] - 0s 10ms/step - loss: 12.6803 - mae: 12.6803\n",
            "Epoch 33/100\n",
            "1/1 [==============================] - 0s 19ms/step - loss: 11.4342 - mae: 11.4342\n",
            "Epoch 34/100\n",
            "1/1 [==============================] - 0s 19ms/step - loss: 10.2885 - mae: 10.2885\n",
            "Epoch 35/100\n",
            "1/1 [==============================] - 0s 18ms/step - loss: 9.2748 - mae: 9.2748\n",
            "Epoch 36/100\n",
            "1/1 [==============================] - 0s 21ms/step - loss: 8.4207 - mae: 8.4207\n",
            "Epoch 37/100\n",
            "1/1 [==============================] - 0s 28ms/step - loss: 7.7209 - mae: 7.7209\n",
            "Epoch 38/100\n",
            "1/1 [==============================] - 0s 14ms/step - loss: 7.1430 - mae: 7.1430\n",
            "Epoch 39/100\n",
            "1/1 [==============================] - 0s 23ms/step - loss: 6.6659 - mae: 6.6659\n",
            "Epoch 40/100\n",
            "1/1 [==============================] - 0s 30ms/step - loss: 6.2418 - mae: 6.2418\n",
            "Epoch 41/100\n",
            "1/1 [==============================] - 0s 22ms/step - loss: 5.8856 - mae: 5.8856\n",
            "Epoch 42/100\n",
            "1/1 [==============================] - 0s 38ms/step - loss: 5.6375 - mae: 5.6375\n",
            "Epoch 43/100\n",
            "1/1 [==============================] - 0s 27ms/step - loss: 5.4929 - mae: 5.4929\n",
            "Epoch 44/100\n",
            "1/1 [==============================] - 0s 15ms/step - loss: 5.4467 - mae: 5.4467\n",
            "Epoch 45/100\n",
            "1/1 [==============================] - 0s 11ms/step - loss: 5.4773 - mae: 5.4773\n",
            "Epoch 46/100\n",
            "1/1 [==============================] - 0s 14ms/step - loss: 5.5534 - mae: 5.5534\n",
            "Epoch 47/100\n",
            "1/1 [==============================] - 0s 10ms/step - loss: 5.6241 - mae: 5.6241\n",
            "Epoch 48/100\n",
            "1/1 [==============================] - 0s 28ms/step - loss: 5.6540 - mae: 5.6540\n",
            "Epoch 49/100\n",
            "1/1 [==============================] - 0s 15ms/step - loss: 5.6317 - mae: 5.6317\n",
            "Epoch 50/100\n",
            "1/1 [==============================] - 0s 25ms/step - loss: 5.5595 - mae: 5.5595\n",
            "Epoch 51/100\n",
            "1/1 [==============================] - 0s 14ms/step - loss: 5.4456 - mae: 5.4456\n",
            "Epoch 52/100\n",
            "1/1 [==============================] - 0s 21ms/step - loss: 5.3000 - mae: 5.3000\n",
            "Epoch 53/100\n",
            "1/1 [==============================] - 0s 8ms/step - loss: 5.1380 - mae: 5.1380\n",
            "Epoch 54/100\n",
            "1/1 [==============================] - 0s 13ms/step - loss: 4.9719 - mae: 4.9719\n",
            "Epoch 55/100\n",
            "1/1 [==============================] - 0s 8ms/step - loss: 4.8101 - mae: 4.8101\n",
            "Epoch 56/100\n",
            "1/1 [==============================] - 0s 8ms/step - loss: 4.6586 - mae: 4.6586\n",
            "Epoch 57/100\n",
            "1/1 [==============================] - 0s 21ms/step - loss: 4.5170 - mae: 4.5170\n",
            "Epoch 58/100\n",
            "1/1 [==============================] - 0s 18ms/step - loss: 4.3850 - mae: 4.3850\n",
            "Epoch 59/100\n",
            "1/1 [==============================] - 0s 18ms/step - loss: 4.2630 - mae: 4.2630\n",
            "Epoch 60/100\n",
            "1/1 [==============================] - 0s 21ms/step - loss: 4.1519 - mae: 4.1519\n",
            "Epoch 61/100\n",
            "1/1 [==============================] - 0s 29ms/step - loss: 4.0505 - mae: 4.0505\n",
            "Epoch 62/100\n",
            "1/1 [==============================] - 0s 14ms/step - loss: 3.9596 - mae: 3.9596\n",
            "Epoch 63/100\n",
            "1/1 [==============================] - 0s 13ms/step - loss: 3.8828 - mae: 3.8828\n",
            "Epoch 64/100\n",
            "1/1 [==============================] - 0s 23ms/step - loss: 3.8273 - mae: 3.8273\n",
            "Epoch 65/100\n",
            "1/1 [==============================] - 0s 23ms/step - loss: 3.7964 - mae: 3.7964\n",
            "Epoch 66/100\n",
            "1/1 [==============================] - 0s 18ms/step - loss: 3.7893 - mae: 3.7893\n",
            "Epoch 67/100\n",
            "1/1 [==============================] - 0s 28ms/step - loss: 3.7973 - mae: 3.7973\n",
            "Epoch 68/100\n",
            "1/1 [==============================] - 0s 18ms/step - loss: 3.8079 - mae: 3.8079\n",
            "Epoch 69/100\n",
            "1/1 [==============================] - 0s 16ms/step - loss: 3.8083 - mae: 3.8083\n",
            "Epoch 70/100\n",
            "1/1 [==============================] - 0s 11ms/step - loss: 3.7933 - mae: 3.7933\n",
            "Epoch 71/100\n",
            "1/1 [==============================] - 0s 16ms/step - loss: 3.7639 - mae: 3.7639\n",
            "Epoch 72/100\n",
            "1/1 [==============================] - 0s 12ms/step - loss: 3.7261 - mae: 3.7261\n",
            "Epoch 73/100\n",
            "1/1 [==============================] - 0s 9ms/step - loss: 3.6884 - mae: 3.6884\n",
            "Epoch 74/100\n",
            "1/1 [==============================] - 0s 12ms/step - loss: 3.6575 - mae: 3.6575\n",
            "Epoch 75/100\n",
            "1/1 [==============================] - 0s 11ms/step - loss: 3.6361 - mae: 3.6361\n",
            "Epoch 76/100\n",
            "1/1 [==============================] - 0s 8ms/step - loss: 3.6220 - mae: 3.6220\n",
            "Epoch 77/100\n",
            "1/1 [==============================] - 0s 46ms/step - loss: 3.6148 - mae: 3.6148\n",
            "Epoch 78/100\n",
            "1/1 [==============================] - 0s 15ms/step - loss: 3.6091 - mae: 3.6091\n",
            "Epoch 79/100\n",
            "1/1 [==============================] - 0s 15ms/step - loss: 3.6037 - mae: 3.6037\n",
            "Epoch 80/100\n",
            "1/1 [==============================] - 0s 9ms/step - loss: 3.5966 - mae: 3.5966\n",
            "Epoch 81/100\n",
            "1/1 [==============================] - 0s 8ms/step - loss: 3.5874 - mae: 3.5874\n",
            "Epoch 82/100\n",
            "1/1 [==============================] - 0s 19ms/step - loss: 3.5748 - mae: 3.5748\n",
            "Epoch 83/100\n",
            "1/1 [==============================] - 0s 16ms/step - loss: 3.5604 - mae: 3.5604\n",
            "Epoch 84/100\n",
            "1/1 [==============================] - 0s 12ms/step - loss: 3.5443 - mae: 3.5443\n",
            "Epoch 85/100\n",
            "1/1 [==============================] - 0s 27ms/step - loss: 3.5274 - mae: 3.5274\n",
            "Epoch 86/100\n",
            "1/1 [==============================] - 0s 20ms/step - loss: 3.5113 - mae: 3.5113\n",
            "Epoch 87/100\n",
            "1/1 [==============================] - 0s 9ms/step - loss: 3.4969 - mae: 3.4969\n",
            "Epoch 88/100\n",
            "1/1 [==============================] - 0s 17ms/step - loss: 3.4844 - mae: 3.4844\n",
            "Epoch 89/100\n",
            "1/1 [==============================] - 0s 12ms/step - loss: 3.4744 - mae: 3.4744\n",
            "Epoch 90/100\n",
            "1/1 [==============================] - 0s 13ms/step - loss: 3.4662 - mae: 3.4662\n",
            "Epoch 91/100\n",
            "1/1 [==============================] - 0s 24ms/step - loss: 3.4596 - mae: 3.4596\n",
            "Epoch 92/100\n",
            "1/1 [==============================] - 0s 21ms/step - loss: 3.4533 - mae: 3.4533\n",
            "Epoch 93/100\n",
            "1/1 [==============================] - 0s 24ms/step - loss: 3.4467 - mae: 3.4467\n",
            "Epoch 94/100\n",
            "1/1 [==============================] - 0s 17ms/step - loss: 3.4393 - mae: 3.4393\n",
            "Epoch 95/100\n",
            "1/1 [==============================] - 0s 23ms/step - loss: 3.4310 - mae: 3.4310\n",
            "Epoch 96/100\n",
            "1/1 [==============================] - 0s 21ms/step - loss: 3.4211 - mae: 3.4211\n",
            "Epoch 97/100\n",
            "1/1 [==============================] - 0s 15ms/step - loss: 3.4112 - mae: 3.4112\n",
            "Epoch 98/100\n",
            "1/1 [==============================] - 0s 18ms/step - loss: 3.4010 - mae: 3.4010\n",
            "Epoch 99/100\n",
            "1/1 [==============================] - 0s 16ms/step - loss: 3.3910 - mae: 3.3910\n",
            "Epoch 100/100\n",
            "1/1 [==============================] - 0s 11ms/step - loss: 3.3821 - mae: 3.3821\n"
          ]
        },
        {
          "output_type": "execute_result",
          "data": {
            "text/plain": [
              "<keras.callbacks.History at 0x7fcd55f1cb90>"
            ]
          },
          "metadata": {},
          "execution_count": 9
        }
      ],
      "source": [
        "tf.random.set_seed(42)\n",
        "model = tf.keras.Sequential([\n",
        "                             tf.keras.layers.Dense(100)\n",
        "])\n",
        "\n",
        "model.compile(loss=tf.keras.losses.mae, \n",
        "              optimizer = tf.keras.optimizers.Adam(lr=0.03),\n",
        "              metrics=[\"mae\"])\n",
        "model.fit(tf.expand_dims(X, axis=-1),y,epochs=100)"
      ]
    },
    {
      "cell_type": "code",
      "execution_count": null,
      "metadata": {
        "id": "xwKO0q42_io4",
        "colab": {
          "base_uri": "https://localhost:8080/"
        },
        "outputId": "807f8352-7edb-4ad7-d40b-75c84f49f266"
      },
      "outputs": [
        {
          "output_type": "stream",
          "name": "stdout",
          "text": [
            "Epoch 1/100\n"
          ]
        },
        {
          "output_type": "stream",
          "name": "stderr",
          "text": [
            "/usr/local/lib/python3.7/dist-packages/keras/optimizer_v2/adam.py:105: UserWarning: The `lr` argument is deprecated, use `learning_rate` instead.\n",
            "  super(Adam, self).__init__(name, **kwargs)\n"
          ]
        },
        {
          "output_type": "stream",
          "name": "stdout",
          "text": [
            "1/1 [==============================] - 1s 675ms/step - loss: 31.0671 - mae: 31.0671\n",
            "Epoch 2/100\n",
            "1/1 [==============================] - 0s 16ms/step - loss: 26.0671 - mae: 26.0671\n",
            "Epoch 3/100\n",
            "1/1 [==============================] - 0s 8ms/step - loss: 21.0671 - mae: 21.0671\n",
            "Epoch 4/100\n",
            "1/1 [==============================] - 0s 8ms/step - loss: 16.0671 - mae: 16.0671\n",
            "Epoch 5/100\n",
            "1/1 [==============================] - 0s 9ms/step - loss: 11.0671 - mae: 11.0671\n",
            "Epoch 6/100\n",
            "1/1 [==============================] - 0s 21ms/step - loss: 6.0671 - mae: 6.0671\n",
            "Epoch 7/100\n",
            "1/1 [==============================] - 0s 11ms/step - loss: 4.3183 - mae: 4.3183\n",
            "Epoch 8/100\n",
            "1/1 [==============================] - 0s 10ms/step - loss: 6.5374 - mae: 6.5374\n",
            "Epoch 9/100\n",
            "1/1 [==============================] - 0s 12ms/step - loss: 8.5663 - mae: 8.5663\n",
            "Epoch 10/100\n",
            "1/1 [==============================] - 0s 20ms/step - loss: 9.8275 - mae: 9.8275\n",
            "Epoch 11/100\n",
            "1/1 [==============================] - 0s 8ms/step - loss: 10.3204 - mae: 10.3204\n",
            "Epoch 12/100\n",
            "1/1 [==============================] - 0s 12ms/step - loss: 10.1583 - mae: 10.1583\n",
            "Epoch 13/100\n",
            "1/1 [==============================] - 0s 8ms/step - loss: 9.4569 - mae: 9.4569\n",
            "Epoch 14/100\n",
            "1/1 [==============================] - 0s 8ms/step - loss: 8.3479 - mae: 8.3479\n",
            "Epoch 15/100\n",
            "1/1 [==============================] - 0s 26ms/step - loss: 6.9686 - mae: 6.9686\n",
            "Epoch 16/100\n",
            "1/1 [==============================] - 0s 14ms/step - loss: 5.5028 - mae: 5.5028\n",
            "Epoch 17/100\n",
            "1/1 [==============================] - 0s 18ms/step - loss: 4.2618 - mae: 4.2618\n",
            "Epoch 18/100\n",
            "1/1 [==============================] - 0s 21ms/step - loss: 3.8503 - mae: 3.8503\n",
            "Epoch 19/100\n",
            "1/1 [==============================] - 0s 33ms/step - loss: 5.1693 - mae: 5.1693\n",
            "Epoch 20/100\n",
            "1/1 [==============================] - 0s 27ms/step - loss: 6.2241 - mae: 6.2241\n",
            "Epoch 21/100\n",
            "1/1 [==============================] - 0s 30ms/step - loss: 6.4630 - mae: 6.4630\n",
            "Epoch 22/100\n",
            "1/1 [==============================] - 0s 48ms/step - loss: 6.0048 - mae: 6.0048\n",
            "Epoch 23/100\n",
            "1/1 [==============================] - 0s 29ms/step - loss: 4.9476 - mae: 4.9476\n",
            "Epoch 24/100\n",
            "1/1 [==============================] - 0s 23ms/step - loss: 3.8151 - mae: 3.8151\n",
            "Epoch 25/100\n",
            "1/1 [==============================] - 0s 17ms/step - loss: 3.7993 - mae: 3.7993\n",
            "Epoch 26/100\n",
            "1/1 [==============================] - 0s 48ms/step - loss: 4.2526 - mae: 4.2526\n",
            "Epoch 27/100\n",
            "1/1 [==============================] - 0s 28ms/step - loss: 4.6949 - mae: 4.6949\n",
            "Epoch 28/100\n",
            "1/1 [==============================] - 0s 12ms/step - loss: 4.9453 - mae: 4.9453\n",
            "Epoch 29/100\n",
            "1/1 [==============================] - 0s 7ms/step - loss: 4.9374 - mae: 4.9374\n",
            "Epoch 30/100\n",
            "1/1 [==============================] - 0s 7ms/step - loss: 4.6885 - mae: 4.6885\n",
            "Epoch 31/100\n",
            "1/1 [==============================] - 0s 8ms/step - loss: 4.2900 - mae: 4.2900\n",
            "Epoch 32/100\n",
            "1/1 [==============================] - 0s 10ms/step - loss: 3.8632 - mae: 3.8632\n",
            "Epoch 33/100\n",
            "1/1 [==============================] - 0s 15ms/step - loss: 3.5624 - mae: 3.5624\n",
            "Epoch 34/100\n",
            "1/1 [==============================] - 0s 18ms/step - loss: 3.6085 - mae: 3.6085\n",
            "Epoch 35/100\n",
            "1/1 [==============================] - 0s 9ms/step - loss: 3.9761 - mae: 3.9761\n",
            "Epoch 36/100\n",
            "1/1 [==============================] - 0s 28ms/step - loss: 4.1591 - mae: 4.1591\n",
            "Epoch 37/100\n",
            "1/1 [==============================] - 0s 9ms/step - loss: 3.7720 - mae: 3.7720\n",
            "Epoch 38/100\n",
            "1/1 [==============================] - 0s 13ms/step - loss: 3.4620 - mae: 3.4620\n",
            "Epoch 39/100\n",
            "1/1 [==============================] - 0s 13ms/step - loss: 3.4298 - mae: 3.4298\n",
            "Epoch 40/100\n",
            "1/1 [==============================] - 0s 10ms/step - loss: 3.5662 - mae: 3.5662\n",
            "Epoch 41/100\n",
            "1/1 [==============================] - 0s 14ms/step - loss: 3.6968 - mae: 3.6968\n",
            "Epoch 42/100\n",
            "1/1 [==============================] - 0s 7ms/step - loss: 3.7257 - mae: 3.7257\n",
            "Epoch 43/100\n",
            "1/1 [==============================] - 0s 9ms/step - loss: 3.6492 - mae: 3.6492\n",
            "Epoch 44/100\n",
            "1/1 [==============================] - 0s 9ms/step - loss: 3.4829 - mae: 3.4829\n",
            "Epoch 45/100\n",
            "1/1 [==============================] - 0s 13ms/step - loss: 3.3173 - mae: 3.3173\n",
            "Epoch 46/100\n",
            "1/1 [==============================] - 0s 12ms/step - loss: 3.2332 - mae: 3.2332\n",
            "Epoch 47/100\n",
            "1/1 [==============================] - 0s 13ms/step - loss: 3.2848 - mae: 3.2848\n",
            "Epoch 48/100\n",
            "1/1 [==============================] - 0s 11ms/step - loss: 3.3669 - mae: 3.3669\n",
            "Epoch 49/100\n",
            "1/1 [==============================] - 0s 11ms/step - loss: 3.3286 - mae: 3.3286\n",
            "Epoch 50/100\n",
            "1/1 [==============================] - 0s 20ms/step - loss: 3.1885 - mae: 3.1885\n",
            "Epoch 51/100\n",
            "1/1 [==============================] - 0s 13ms/step - loss: 3.0988 - mae: 3.0988\n",
            "Epoch 52/100\n",
            "1/1 [==============================] - 0s 9ms/step - loss: 3.1091 - mae: 3.1091\n",
            "Epoch 53/100\n",
            "1/1 [==============================] - 0s 12ms/step - loss: 3.1427 - mae: 3.1427\n",
            "Epoch 54/100\n",
            "1/1 [==============================] - 0s 20ms/step - loss: 3.1330 - mae: 3.1330\n",
            "Epoch 55/100\n",
            "1/1 [==============================] - 0s 19ms/step - loss: 3.0639 - mae: 3.0639\n",
            "Epoch 56/100\n",
            "1/1 [==============================] - 0s 30ms/step - loss: 2.9815 - mae: 2.9815\n",
            "Epoch 57/100\n",
            "1/1 [==============================] - 0s 20ms/step - loss: 2.9308 - mae: 2.9308\n",
            "Epoch 58/100\n",
            "1/1 [==============================] - 0s 12ms/step - loss: 2.9348 - mae: 2.9348\n",
            "Epoch 59/100\n",
            "1/1 [==============================] - 0s 18ms/step - loss: 2.9517 - mae: 2.9517\n",
            "Epoch 60/100\n",
            "1/1 [==============================] - 0s 14ms/step - loss: 2.9085 - mae: 2.9085\n",
            "Epoch 61/100\n",
            "1/1 [==============================] - 0s 19ms/step - loss: 2.8267 - mae: 2.8267\n",
            "Epoch 62/100\n",
            "1/1 [==============================] - 0s 14ms/step - loss: 2.7867 - mae: 2.7867\n",
            "Epoch 63/100\n",
            "1/1 [==============================] - 0s 12ms/step - loss: 2.7852 - mae: 2.7852\n",
            "Epoch 64/100\n",
            "1/1 [==============================] - 0s 19ms/step - loss: 2.7736 - mae: 2.7736\n",
            "Epoch 65/100\n",
            "1/1 [==============================] - 0s 13ms/step - loss: 2.7316 - mae: 2.7316\n",
            "Epoch 66/100\n",
            "1/1 [==============================] - 0s 7ms/step - loss: 2.6739 - mae: 2.6739\n",
            "Epoch 67/100\n",
            "1/1 [==============================] - 0s 20ms/step - loss: 2.6340 - mae: 2.6340\n",
            "Epoch 68/100\n",
            "1/1 [==============================] - 0s 17ms/step - loss: 2.6184 - mae: 2.6184\n",
            "Epoch 69/100\n",
            "1/1 [==============================] - 0s 11ms/step - loss: 2.5965 - mae: 2.5965\n",
            "Epoch 70/100\n",
            "1/1 [==============================] - 0s 9ms/step - loss: 2.5531 - mae: 2.5531\n",
            "Epoch 71/100\n",
            "1/1 [==============================] - 0s 7ms/step - loss: 2.5097 - mae: 2.5097\n",
            "Epoch 72/100\n",
            "1/1 [==============================] - 0s 8ms/step - loss: 2.4881 - mae: 2.4881\n",
            "Epoch 73/100\n",
            "1/1 [==============================] - 0s 8ms/step - loss: 2.4701 - mae: 2.4701\n",
            "Epoch 74/100\n",
            "1/1 [==============================] - 0s 13ms/step - loss: 2.4320 - mae: 2.4320\n",
            "Epoch 75/100\n",
            "1/1 [==============================] - 0s 14ms/step - loss: 2.3916 - mae: 2.3916\n",
            "Epoch 76/100\n",
            "1/1 [==============================] - 0s 17ms/step - loss: 2.3519 - mae: 2.3519\n",
            "Epoch 77/100\n",
            "1/1 [==============================] - 0s 12ms/step - loss: 2.3244 - mae: 2.3244\n",
            "Epoch 78/100\n",
            "1/1 [==============================] - 0s 13ms/step - loss: 2.3006 - mae: 2.3006\n",
            "Epoch 79/100\n",
            "1/1 [==============================] - 0s 8ms/step - loss: 2.2609 - mae: 2.2609\n",
            "Epoch 80/100\n",
            "1/1 [==============================] - 0s 10ms/step - loss: 2.2256 - mae: 2.2256\n",
            "Epoch 81/100\n",
            "1/1 [==============================] - 0s 7ms/step - loss: 2.1917 - mae: 2.1917\n",
            "Epoch 82/100\n",
            "1/1 [==============================] - 0s 6ms/step - loss: 2.1618 - mae: 2.1618\n",
            "Epoch 83/100\n",
            "1/1 [==============================] - 0s 10ms/step - loss: 2.1258 - mae: 2.1258\n",
            "Epoch 84/100\n",
            "1/1 [==============================] - 0s 26ms/step - loss: 2.0964 - mae: 2.0964\n",
            "Epoch 85/100\n",
            "1/1 [==============================] - 0s 22ms/step - loss: 2.0662 - mae: 2.0662\n",
            "Epoch 86/100\n",
            "1/1 [==============================] - 0s 12ms/step - loss: 2.0378 - mae: 2.0378\n",
            "Epoch 87/100\n",
            "1/1 [==============================] - 0s 11ms/step - loss: 1.9977 - mae: 1.9977\n",
            "Epoch 88/100\n",
            "1/1 [==============================] - 0s 11ms/step - loss: 1.9652 - mae: 1.9652\n",
            "Epoch 89/100\n",
            "1/1 [==============================] - 0s 14ms/step - loss: 1.9362 - mae: 1.9362\n",
            "Epoch 90/100\n",
            "1/1 [==============================] - 0s 11ms/step - loss: 1.9007 - mae: 1.9007\n",
            "Epoch 91/100\n",
            "1/1 [==============================] - 0s 10ms/step - loss: 1.8638 - mae: 1.8638\n",
            "Epoch 92/100\n",
            "1/1 [==============================] - 0s 10ms/step - loss: 1.8326 - mae: 1.8326\n",
            "Epoch 93/100\n",
            "1/1 [==============================] - 0s 10ms/step - loss: 1.8001 - mae: 1.8001\n",
            "Epoch 94/100\n",
            "1/1 [==============================] - 0s 25ms/step - loss: 1.7662 - mae: 1.7662\n",
            "Epoch 95/100\n",
            "1/1 [==============================] - 0s 9ms/step - loss: 1.7311 - mae: 1.7311\n",
            "Epoch 96/100\n",
            "1/1 [==============================] - 0s 12ms/step - loss: 1.6964 - mae: 1.6964\n",
            "Epoch 97/100\n",
            "1/1 [==============================] - 0s 11ms/step - loss: 1.6620 - mae: 1.6620\n",
            "Epoch 98/100\n",
            "1/1 [==============================] - 0s 14ms/step - loss: 1.6310 - mae: 1.6310\n",
            "Epoch 99/100\n",
            "1/1 [==============================] - 0s 10ms/step - loss: 1.5988 - mae: 1.5988\n",
            "Epoch 100/100\n",
            "1/1 [==============================] - 0s 8ms/step - loss: 1.5652 - mae: 1.5652\n"
          ]
        },
        {
          "output_type": "execute_result",
          "data": {
            "text/plain": [
              "<keras.callbacks.History at 0x7fcd544a01d0>"
            ]
          },
          "metadata": {},
          "execution_count": 10
        }
      ],
      "source": [
        "tf.random.set_seed(42)\n",
        "model = tf.keras.Sequential([\n",
        "                             tf.keras.layers.Dense(1),\n",
        "])\n",
        "model.compile(loss=tf.keras.losses.MAE,\n",
        "              optimizer=tf.keras.optimizers.Adam(lr=0.1),\n",
        "              metrics=[\"mae\"])\n",
        "model.fit(tf.expand_dims(X, axis=-1), y, epochs=(100))"
      ]
    },
    {
      "cell_type": "code",
      "source": [
        "\n",
        "plt.scatter(model.predict(X), X)\n",
        "plt.scatter(y,X)"
      ],
      "metadata": {
        "colab": {
          "base_uri": "https://localhost:8080/",
          "height": 283
        },
        "id": "3JQsjYv3LWqV",
        "outputId": "6699f628-cf29-4e22-83d3-a06df630eca9"
      },
      "execution_count": null,
      "outputs": [
        {
          "output_type": "execute_result",
          "data": {
            "text/plain": [
              "<matplotlib.collections.PathCollection at 0x7fcd54650e90>"
            ]
          },
          "metadata": {},
          "execution_count": 11
        },
        {
          "output_type": "display_data",
          "data": {
            "text/plain": [
              "<Figure size 432x288 with 1 Axes>"
            ],
            "image/png": "[encoded data removed]"
          },
          "metadata": {
            "needs_background": "light"
          }
        }
      ]
    },
    {
      "cell_type": "code",
      "source": [],
      "metadata": {
        "id": "nmmjBTnEkaxL"
      },
      "execution_count": null,
      "outputs": []
    },
    {
      "cell_type": "code",
      "source": [
        "res = model.predict(X)\n",
        "res.squeeze()\n",
        "X, res, y"
      ],
      "metadata": {
        "colab": {
          "base_uri": "https://localhost:8080/"
        },
        "id": "C8rfh5shL-xy",
        "outputId": "ebba998a-e7d8-4ea9-f33d-bad24c76c15c"
      },
      "execution_count": null,
      "outputs": [
        {
          "output_type": "execute_result",
          "data": {
            "text/plain": [
              "(<tf.Tensor: shape=(25,), dtype=float32, numpy=\n",
              " array([ 1.,  5.,  9., 13., 17., 21., 25., 29., 33., 37., 41., 45., 49.,\n",
              "        53., 57., 61., 65., 69., 73., 77., 81., 85., 89., 93., 97.],\n",
              "       dtype=float32)>, array([[  7.4119463],\n",
              "        [ 11.613707 ],\n",
              "        [ 15.815466 ],\n",
              "        [ 20.017227 ],\n",
              "        [ 24.218987 ],\n",
              "        [ 28.420746 ],\n",
              "        [ 32.622505 ],\n",
              "        [ 36.824265 ],\n",
              "        [ 41.026028 ],\n",
              "        [ 45.227787 ],\n",
              "        [ 49.429546 ],\n",
              "        [ 53.631306 ],\n",
              "        [ 57.833065 ],\n",
              "        [ 62.034824 ],\n",
              "        [ 66.23658  ],\n",
              "        [ 70.43834  ],\n",
              "        [ 74.6401   ],\n",
              "        [ 78.84186  ],\n",
              "        [ 83.04362  ],\n",
              "        [ 87.24538  ],\n",
              "        [ 91.44714  ],\n",
              "        [ 95.6489   ],\n",
              "        [ 99.85066  ],\n",
              "        [104.05242  ],\n",
              "        [108.25418  ]], dtype=float32), <tf.Tensor: shape=(25,), dtype=float32, numpy=\n",
              " array([ 11.,  15.,  19.,  23.,  27.,  31.,  35.,  39.,  43.,  47.,  51.,\n",
              "         55.,  59.,  63.,  67.,  71.,  75.,  79.,  83.,  87.,  91.,  95.,\n",
              "         99., 103., 107.], dtype=float32)>)"
            ]
          },
          "metadata": {},
          "execution_count": 12
        }
      ]
    },
    {
      "cell_type": "code",
      "source": [
        "z = model.predict([61])\n",
        "z\n",
        "X=tf.constant(np.arange(-100,100,3))\n",
        "y=X+10\n",
        "X_train = X[:40] # first 40 examples (80% of data)\n",
        "y_train = y[:40]\n",
        "\n",
        "X_test = X[40:] # last 10 examples (20% of data)\n",
        "y_test = y[40:]\n",
        "\n",
        "len(X_train), len(X_test)\n",
        "y_preds = model.predict(X_test)\n"
      ],
      "metadata": {
        "id": "9db29lygMJP-"
      },
      "execution_count": null,
      "outputs": []
    },
    {
      "cell_type": "code",
      "source": [
        "def plot_predictions(train_data=X_train, \n",
        "                     train_labels=y_train, \n",
        "                     test_data=X_test, \n",
        "                     test_labels=y_test, \n",
        "                     predictions=y_preds):\n",
        "  \"\"\"\n",
        "  Plots training data, test data and compares predictions.\n",
        "  \"\"\"\n",
        "  plt.figure(figsize=(10, 7))\n",
        "  # Plot training data in blue\n",
        "  plt.scatter(train_data, train_labels, c=\"b\", label=\"Training data\")\n",
        "  # Plot test data in green\n",
        "  plt.scatter(test_data, test_labels, c=\"g\", label=\"Testing data\")\n",
        "  # Plot the predictions in red (predictions were made on the test data)\n",
        "  plt.scatter(test_data, predictions, c=\"r\", label=\"Predictions\")\n",
        "  # Show the legend\n",
        "  plt.legend();"
      ],
      "metadata": {
        "id": "BXqMx7mgAUlj"
      },
      "execution_count": null,
      "outputs": []
    },
    {
      "cell_type": "code",
      "source": [
        "plot_predictions(train_data=X_train,\n",
        "                 train_labels=y_train,\n",
        "                 test_data=X_test,\n",
        "                 test_labels=y_test,\n",
        "                 predictions=y_preds)"
      ],
      "metadata": {
        "colab": {
          "base_uri": "https://localhost:8080/",
          "height": 428
        },
        "id": "jx2FXImYFuuN",
        "outputId": "be9bc594-9a77-4c0e-9c04-c81b35ad6e34"
      },
      "execution_count": null,
      "outputs": [
        {
          "output_type": "display_data",
          "data": {
            "text/plain": [
              "<Figure size 720x504 with 1 Axes>"
            ],
            "image/png": "[encoded data removed]"
          },
          "metadata": {
            "needs_background": "light"
          }
        }
      ]
    },
    {
      "cell_type": "code",
      "source": [
        "model.evaluate(X_test,y_test)"
      ],
      "metadata": {
        "colab": {
          "base_uri": "https://localhost:8080/"
        },
        "id": "5Mow-AuvFvWX",
        "outputId": "6fbc5697-f98a-4004-e7aa-47e27397e138"
      },
      "execution_count": null,
      "outputs": [
        {
          "output_type": "stream",
          "name": "stdout",
          "text": [
            "1/1 [==============================] - 0s 286ms/step - loss: 1.1288 - mae: 1.1288\n"
          ]
        },
        {
          "output_type": "execute_result",
          "data": {
            "text/plain": [
              "[1.1287637948989868, 1.1287637948989868]"
            ]
          },
          "metadata": {},
          "execution_count": 16
        }
      ]
    },
    {
      "cell_type": "code",
      "source": [
        "mae = tf.metrics.mean_absolute_error(y_true=y_test,\n",
        "                                     y_pred=y_preds)\n",
        "mae\n"
      ],
      "metadata": {
        "colab": {
          "base_uri": "https://localhost:8080/"
        },
        "id": "qPZXXL4mF3pg",
        "outputId": "32f30cf6-7b0a-480f-a0b7-83dc49c53496"
      },
      "execution_count": null,
      "outputs": [
        {
          "output_type": "execute_result",
          "data": {
            "text/plain": [
              "<tf.Tensor: shape=(27,), dtype=float32, numpy=\n",
              "array([41.629692, 38.517014, 35.64897 , 33.02557 , 30.64681 , 28.512686,\n",
              "       26.623207, 24.978367, 23.578165, 22.422604, 21.511683, 20.845402,\n",
              "       20.423763, 20.246761, 20.3144  , 20.626677, 21.183596, 21.985153,\n",
              "       23.038322, 24.340366, 25.887053, 27.678383, 29.714352, 31.994959,\n",
              "       34.5202  , 37.290092, 40.304615], dtype=float32)>"
            ]
          },
          "metadata": {},
          "execution_count": 17
        }
      ]
    },
    {
      "cell_type": "code",
      "source": [
        "def mae(y_test, y_pred):\n",
        "  \"\"\"\n",
        "  Calculuates mean absolute error between y_test and y_preds.\n",
        "  \"\"\"\n",
        "  return tf.metrics.mean_absolute_error(y_test,\n",
        "                                        y_pred)\n",
        "  \n",
        "def mse(y_test, y_pred):\n",
        "  \"\"\"\n",
        "  Calculates mean squared error between y_test and y_preds.\n",
        "  \"\"\"\n",
        "  return tf.metrics.mean_squared_error(y_test,\n",
        "                                       y_pred)\n",
        "  "
      ],
      "metadata": {
        "id": "_uoLt8-9GGMK"
      },
      "execution_count": null,
      "outputs": []
    },
    {
      "cell_type": "code",
      "source": [
        "tf.random.set_seed(42)\n",
        "\n",
        "model_1=tf.keras.Sequential([\n",
        "                            tf.keras.layers.Dense(1)\n",
        "])\n",
        "model_1.compile(loss=tf.keras.losses.MAE,\n",
        "                optimizer=tf.keras.optimizers.SGD(),\n",
        "                metrics=[\"mae\"])\n",
        "model_1.fit(tf.expand_dims(X_train, axis=-1), y_train, epochs=100, verbose=0)"
      ],
      "metadata": {
        "colab": {
          "base_uri": "https://localhost:8080/"
        },
        "id": "tGmTR9dAGdKD",
        "outputId": "c2b4123a-e72a-43c5-c80b-b458b4cc0df7"
      },
      "execution_count": null,
      "outputs": [
        {
          "output_type": "execute_result",
          "data": {
            "text/plain": [
              "<keras.callbacks.History at 0x7fcd54c3ffd0>"
            ]
          },
          "metadata": {},
          "execution_count": 19
        }
      ]
    },
    {
      "cell_type": "code",
      "source": [
        "y_preds_1=model_1.predict(X_test)\n",
        "plot_predictions(predictions=y_preds_1)\n"
      ],
      "metadata": {
        "colab": {
          "base_uri": "https://localhost:8080/",
          "height": 428
        },
        "id": "Om_OpehKGiOa",
        "outputId": "14576a71-dab4-4b50-b2d3-9cb3b9086fe5"
      },
      "execution_count": null,
      "outputs": [
        {
          "output_type": "display_data",
          "data": {
            "text/plain": [
              "<Figure size 720x504 with 1 Axes>"
            ],
            "image/png": "[encoded data removed]"
          },
          "metadata": {
            "needs_background": "light"
          }
        }
      ]
    },
    {
      "cell_type": "code",
      "source": [
        "mae_1= mae(y_test, y_preds_1.squeeze()).numpy()\n",
        "mse_1=mse(y_test, y_preds_1.squeeze()).numpy()\n",
        "mae_1,mse_1"
      ],
      "metadata": {
        "colab": {
          "base_uri": "https://localhost:8080/"
        },
        "id": "nWGDQ7UHGle-",
        "outputId": "54d60e9e-b6d2-4751-bb04-6f81acd01a22"
      },
      "execution_count": null,
      "outputs": [
        {
          "output_type": "execute_result",
          "data": {
            "text/plain": [
              "(36.473648, 1446.3016)"
            ]
          },
          "metadata": {},
          "execution_count": 21
        }
      ]
    },
    {
      "cell_type": "code",
      "source": [
        "tf.random.set_seed(42)\n",
        "model_2=tf.keras.Sequential([\n",
        "                             tf.keras.layers.Dense(10),\n",
        "                             tf.keras.layers.Dense(1)\n",
        "])\n",
        "\n",
        "model_2.compile(loss=tf.keras.losses.mae,\n",
        "                     optimizer=tf.keras.optimizers.SGD(),\n",
        "                     metrics=['mae'])\n",
        "\n",
        "model_2.fit(tf.expand_dims(X_train, axis=-1), y_train, epochs=100, verbose=0)"
      ],
      "metadata": {
        "colab": {
          "base_uri": "https://localhost:8080/"
        },
        "id": "HFDV6C3THnDf",
        "outputId": "94d993e7-1e41-4f52-91ae-cb30a8b0bf71"
      },
      "execution_count": null,
      "outputs": [
        {
          "output_type": "execute_result",
          "data": {
            "text/plain": [
              "<keras.callbacks.History at 0x7fcd554a66d0>"
            ]
          },
          "metadata": {},
          "execution_count": 22
        }
      ]
    },
    {
      "cell_type": "code",
      "source": [
        "\n",
        "y_preds_2=model_2.predict(X_test)\n",
        "plot_predictions(predictions=y_preds_2)\n"
      ],
      "metadata": {
        "colab": {
          "base_uri": "https://localhost:8080/",
          "height": 428
        },
        "id": "wYkRRQTXHqLV",
        "outputId": "829329c0-bf70-4b00-fe19-a4b518470fe7"
      },
      "execution_count": null,
      "outputs": [
        {
          "output_type": "display_data",
          "data": {
            "text/plain": [
              "<Figure size 720x504 with 1 Axes>"
            ],
            "image/png": "[encoded data removed]"
          },
          "metadata": {
            "needs_background": "light"
          }
        }
      ]
    },
    {
      "cell_type": "code",
      "source": [
        "mae_2 = mae(y_test, y_preds_2.squeeze()).numpy()\n",
        "mse_2 = mse(y_test, y_preds_2.squeeze()).numpy()\n",
        "mae_2, mse_2"
      ],
      "metadata": {
        "colab": {
          "base_uri": "https://localhost:8080/"
        },
        "id": "YL3YGBKnIq9q",
        "outputId": "0e6ae0cb-e38d-4071-8d54-430762ce6277"
      },
      "execution_count": null,
      "outputs": [
        {
          "output_type": "execute_result",
          "data": {
            "text/plain": [
              "(9.919634, 144.40527)"
            ]
          },
          "metadata": {},
          "execution_count": 24
        }
      ]
    },
    {
      "cell_type": "code",
      "source": [
        "tf.random.set_seed(42)\n",
        "\n",
        "model_3 = tf.keras.Sequential([\n",
        "                               tf.keras.layers.Dense(1),\n",
        "                               tf.keras.layers.Dense(1)\n",
        "])\n",
        "\n",
        "model_3.compile(loss=tf.keras.losses.mae,\n",
        "                optimizer=tf.keras.optimizers.SGD(),\n",
        "                metrics=['mae'])\n",
        "\n",
        "model_3.fit(tf.expand_dims(X_train, axis=-1), y_train, epochs=500, verbose=0)"
      ],
      "metadata": {
        "colab": {
          "base_uri": "https://localhost:8080/"
        },
        "id": "nHMdnTw2jyde",
        "outputId": "50ce88be-8cab-4de1-e2a7-e01955adbdf2"
      },
      "execution_count": null,
      "outputs": [
        {
          "output_type": "execute_result",
          "data": {
            "text/plain": [
              "<keras.callbacks.History at 0x7fcd552c1f50>"
            ]
          },
          "metadata": {},
          "execution_count": 25
        }
      ]
    },
    {
      "cell_type": "code",
      "source": [
        "y_preds_3 = model_3.predict(X_test)\n",
        "plot_predictions(predictions=y_preds_3)"
      ],
      "metadata": {
        "colab": {
          "base_uri": "https://localhost:8080/",
          "height": 465
        },
        "id": "LQOvNJe3kb2h",
        "outputId": "a56d8ce3-e008-4bad-ab1a-4c0edf528035"
      },
      "execution_count": null,
      "outputs": [
        {
          "output_type": "stream",
          "name": "stdout",
          "text": [
            "WARNING:tensorflow:5 out of the last 7 calls to <function Model.make_predict_function.<locals>.predict_function at 0x7fcd555740e0> triggered tf.function retracing. Tracing is expensive and the excessive number of tracings could be due to (1) creating @tf.function repeatedly in a loop, (2) passing tensors with different shapes, (3) passing Python objects instead of tensors. For (1), please define your @tf.function outside of the loop. For (2), @tf.function has experimental_relax_shapes=True option that relaxes argument shapes that can avoid unnecessary retracing. For (3), please refer to https://www.tensorflow.org/guide/function#controlling_retracing and https://www.tensorflow.org/api_docs/python/tf/function for  more details.\n"
          ]
        },
        {
          "output_type": "display_data",
          "data": {
            "text/plain": [
              "<Figure size 720x504 with 1 Axes>"
            ],
            "image/png": "[encoded data removed]"
          },
          "metadata": {
            "needs_background": "light"
          }
        }
      ]
    },
    {
      "cell_type": "code",
      "source": [
        "\n",
        "mae_3 = mae(y_test,y_preds_3.squeeze()).numpy()\n",
        "mse_3 = mse(y_test, y_preds_3.squeeze()).numpy()\n",
        "mae_3,mse_3"
      ],
      "metadata": {
        "colab": {
          "base_uri": "https://localhost:8080/"
        },
        "id": "0WCbpkqYktav",
        "outputId": "177ae4de-8f51-4077-852c-274eb896ac93"
      },
      "execution_count": null,
      "outputs": [
        {
          "output_type": "execute_result",
          "data": {
            "text/plain": [
              "(29.656874, 964.66675)"
            ]
          },
          "metadata": {},
          "execution_count": 27
        }
      ]
    },
    {
      "cell_type": "code",
      "source": [
        "model_results=[[\"model_1\", mae_1,mse_1],\n",
        "               [\"model_2\", mae_2,mse_2],\n",
        "               [\"moedl_3\",mae_3,mse_3]]"
      ],
      "metadata": {
        "id": "W0wTyCg9lSJW"
      },
      "execution_count": null,
      "outputs": []
    },
    {
      "cell_type": "code",
      "source": [
        "import pandas as pd\n",
        "all_result=pd.DataFrame(model_results, columns=[\"model\",\"mae\",\"mse\"])\n",
        "all_result"
      ],
      "metadata": {
        "colab": {
          "base_uri": "https://localhost:8080/",
          "height": 143
        },
        "id": "8-qAf6otk9ja",
        "outputId": "49654b81-9ff5-48eb-f0d1-257a37bd3539"
      },
      "execution_count": null,
      "outputs": [
        {
          "output_type": "execute_result",
          "data": {
            "text/plain": [
              "     model        mae          mse\n",
              "0  model_1  36.473648  1446.301636\n",
              "1  model_2   9.919634   144.405273\n",
              "2  moedl_3  29.656874   964.666748"
            ],
            "text/html": [
              "\n",
              "  <div id=\"df-aa7c0b8e-ab3f-4ae6-9581-6e0b4ae0f88b\">\n",
              "    <div class=\"colab-df-container\">\n",
              "      <div>\n",
              "<style scoped>\n",
              "    .dataframe tbody tr th:only-of-type {\n",
              "        vertical-align: middle;\n",
              "    }\n",
              "\n",
              "    .dataframe tbody tr th {\n",
              "        vertical-align: top;\n",
              "    }\n",
              "\n",
              "    .dataframe thead th {\n",
              "        text-align: right;\n",
              "    }\n",
              "</style>\n",
              "<table border=\"1\" class=\"dataframe\">\n",
              "  <thead>\n",
              "    <tr style=\"text-align: right;\">\n",
              "      <th></th>\n",
              "      <th>model</th>\n",
              "      <th>mae</th>\n",
              "      <th>mse</th>\n",
              "    </tr>\n",
              "  </thead>\n",
              "  <tbody>\n",
              "    <tr>\n",
              "      <th>0</th>\n",
              "      <td>model_1</td>\n",
              "      <td>36.473648</td>\n",
              "      <td>1446.301636</td>\n",
              "    </tr>\n",
              "    <tr>\n",
              "      <th>1</th>\n",
              "      <td>model_2</td>\n",
              "      <td>9.919634</td>\n",
              "      <td>144.405273</td>\n",
              "    </tr>\n",
              "    <tr>\n",
              "      <th>2</th>\n",
              "      <td>moedl_3</td>\n",
              "      <td>29.656874</td>\n",
              "      <td>964.666748</td>\n",
              "    </tr>\n",
              "  </tbody>\n",
              "</table>\n",
              "</div>\n",
              "      <button class=\"colab-df-convert\" onclick=\"convertToInteractive('df-aa7c0b8e-ab3f-4ae6-9581-6e0b4ae0f88b')\"\n",
              "              title=\"Convert this dataframe to an interactive table.\"\n",
              "              style=\"display:none;\">\n",
              "        \n",
              "  <svg xmlns=\"http://www.w3.org/2000/svg\" height=\"24px\"viewBox=\"0 0 24 24\"\n",
              "       width=\"24px\">\n",
              "    <path d=\"M0 0h24v24H0V0z\" fill=\"none\"/>\n",
              "    <path d=\"M18.56 5.44l.94 2.06.94-2.06 2.06-.94-2.06-.94-.94-2.06-.94 2.06-2.06.94zm-11 1L8.5 8.5l.94-2.06 2.06-.94-2.06-.94L8.5 2.5l-.94 2.06-2.06.94zm10 10l.94 2.06.94-2.06 2.06-.94-2.06-.94-.94-2.06-.94 2.06-2.06.94z\"/><path d=\"M17.41 7.96l-1.37-1.37c-.4-.4-.92-.59-1.43-.59-.52 0-1.04.2-1.43.59L10.3 9.45l-7.72 7.72c-.78.78-.78 2.05 0 2.83L4 21.41c.39.39.9.59 1.41.59.51 0 1.02-.2 1.41-.59l7.78-7.78 2.81-2.81c.8-.78.8-2.07 0-2.86zM5.41 20L4 18.59l7.72-7.72 1.47 1.35L5.41 20z\"/>\n",
              "  </svg>\n",
              "      </button>\n",
              "      \n",
              "  <style>\n",
              "    .colab-df-container {\n",
              "      display:flex;\n",
              "      flex-wrap:wrap;\n",
              "      gap: 12px;\n",
              "    }\n",
              "\n",
              "    .colab-df-convert {\n",
              "      background-color: #E8F0FE;\n",
              "      border: none;\n",
              "      border-radius: 50%;\n",
              "      cursor: pointer;\n",
              "      display: none;\n",
              "      fill: #1967D2;\n",
              "      height: 32px;\n",
              "      padding: 0 0 0 0;\n",
              "      width: 32px;\n",
              "    }\n",
              "\n",
              "    .colab-df-convert:hover {\n",
              "      background-color: #E2EBFA;\n",
              "      box-shadow: 0px 1px 2px rgba(60, 64, 67, 0.3), 0px 1px 3px 1px rgba(60, 64, 67, 0.15);\n",
              "      fill: #174EA6;\n",
              "    }\n",
              "\n",
              "    [theme=dark] .colab-df-convert {\n",
              "      background-color: #3B4455;\n",
              "      fill: #D2E3FC;\n",
              "    }\n",
              "\n",
              "    [theme=dark] .colab-df-convert:hover {\n",
              "      background-color: #434B5C;\n",
              "      box-shadow: 0px 1px 3px 1px rgba(0, 0, 0, 0.15);\n",
              "      filter: drop-shadow(0px 1px 2px rgba(0, 0, 0, 0.3));\n",
              "      fill: #FFFFFF;\n",
              "    }\n",
              "  </style>\n",
              "\n",
              "      <script>\n",
              "        const buttonEl =\n",
              "          document.querySelector('#df-aa7c0b8e-ab3f-4ae6-9581-6e0b4ae0f88b button.colab-df-convert');\n",
              "        buttonEl.style.display =\n",
              "          google.colab.kernel.accessAllowed ? 'block' : 'none';\n",
              "\n",
              "        async function convertToInteractive(key) {\n",
              "          const element = document.querySelector('#df-aa7c0b8e-ab3f-4ae6-9581-6e0b4ae0f88b');\n",
              "          const dataTable =\n",
              "            await google.colab.kernel.invokeFunction('convertToInteractive',\n",
              "                                                     [key], {});\n",
              "          if (!dataTable) return;\n",
              "\n",
              "          const docLinkHtml = 'Like what you see? Visit the ' +\n",
              "            '<a target=\"_blank\" href=https://colab.research.google.com/notebooks/data_table.ipynb>data table notebook</a>'\n",
              "            + ' to learn more about interactive tables.';\n",
              "          element.innerHTML = '';\n",
              "          dataTable['output_type'] = 'display_data';\n",
              "          await google.colab.output.renderOutput(dataTable, element);\n",
              "          const docLink = document.createElement('div');\n",
              "          docLink.innerHTML = docLinkHtml;\n",
              "          element.appendChild(docLink);\n",
              "        }\n",
              "      </script>\n",
              "    </div>\n",
              "  </div>\n",
              "  "
            ]
          },
          "metadata": {},
          "execution_count": 29
        }
      ]
    },
    {
      "cell_type": "code",
      "source": [
        "model_2.save(\"best_model_SavedModel_format\")"
      ],
      "metadata": {
        "colab": {
          "base_uri": "https://localhost:8080/"
        },
        "id": "9yglDE0dlLMd",
        "outputId": "f15df37c-32a5-4bc2-fa87-9cbb6d994636"
      },
      "execution_count": null,
      "outputs": [
        {
          "output_type": "stream",
          "name": "stdout",
          "text": [
            "INFO:tensorflow:Assets written to: best_model_SavedModel_format/assets\n"
          ]
        }
      ]
    },
    {
      "cell_type": "code",
      "source": [
        "model_2.save(\"second_best_model_SavedModel_format.h5\")"
      ],
      "metadata": {
        "id": "gENWJPSNnl-u"
      },
      "execution_count": null,
      "outputs": []
    },
    {
      "cell_type": "code",
      "source": [
        "new_model=tf.keras.models.load_model(\"/content/best_model_SavedModel_format\")\n",
        "new_model.summary()"
      ],
      "metadata": {
        "colab": {
          "base_uri": "https://localhost:8080/"
        },
        "id": "AfX9zxDPn3hy",
        "outputId": "376b7cf2-32de-4839-99e2-ef3d2c8aa26a"
      },
      "execution_count": null,
      "outputs": [
        {
          "output_type": "stream",
          "name": "stdout",
          "text": [
            "Model: \"sequential_3\"\n",
            "_________________________________________________________________\n",
            " Layer (type)                Output Shape              Param #   \n",
            "=================================================================\n",
            " dense_3 (Dense)             (None, 10)                20        \n",
            "                                                                 \n",
            " dense_4 (Dense)             (None, 1)                 11        \n",
            "                                                                 \n",
            "=================================================================\n",
            "Total params: 31\n",
            "Trainable params: 31\n",
            "Non-trainable params: 0\n",
            "_________________________________________________________________\n"
          ]
        }
      ]
    },
    {
      "cell_type": "code",
      "source": [
        "model_2.summary()"
      ],
      "metadata": {
        "colab": {
          "base_uri": "https://localhost:8080/"
        },
        "id": "6A3JBoYUo3ZR",
        "outputId": "2c90ae44-eab2-4f60-acd1-3401900e5667"
      },
      "execution_count": null,
      "outputs": [
        {
          "output_type": "stream",
          "name": "stdout",
          "text": [
            "Model: \"sequential_3\"\n",
            "_________________________________________________________________\n",
            " Layer (type)                Output Shape              Param #   \n",
            "=================================================================\n",
            " dense_3 (Dense)             (None, 10)                20        \n",
            "                                                                 \n",
            " dense_4 (Dense)             (None, 1)                 11        \n",
            "                                                                 \n",
            "=================================================================\n",
            "Total params: 31\n",
            "Trainable params: 31\n",
            "Non-trainable params: 0\n",
            "_________________________________________________________________\n"
          ]
        }
      ]
    },
    {
      "cell_type": "code",
      "source": [
        "model_2_preds = model_2.predict(X_test)\n",
        "new_model_preds = new_model.predict(X_test)\n",
        "model_2_preds, new_model_preds"
      ],
      "metadata": {
        "colab": {
          "base_uri": "https://localhost:8080/"
        },
        "id": "_sieZwm5o9f3",
        "outputId": "fcb602e6-8978-41e1-a1bb-77e3037aa140"
      },
      "execution_count": null,
      "outputs": [
        {
          "output_type": "stream",
          "name": "stdout",
          "text": [
            "WARNING:tensorflow:6 out of the last 9 calls to <function Model.make_predict_function.<locals>.predict_function at 0x7fcd553037a0> triggered tf.function retracing. Tracing is expensive and the excessive number of tracings could be due to (1) creating @tf.function repeatedly in a loop, (2) passing tensors with different shapes, (3) passing Python objects instead of tensors. For (1), please define your @tf.function outside of the loop. For (2), @tf.function has experimental_relax_shapes=True option that relaxes argument shapes that can avoid unnecessary retracing. For (3), please refer to https://www.tensorflow.org/guide/function#controlling_retracing and https://www.tensorflow.org/api_docs/python/tf/function for  more details.\n"
          ]
        },
        {
          "output_type": "execute_result",
          "data": {
            "text/plain": [
              "(array([[ 27.324125],\n",
              "        [ 31.26332 ],\n",
              "        [ 35.20252 ],\n",
              "        [ 39.141716],\n",
              "        [ 43.080914],\n",
              "        [ 47.02011 ],\n",
              "        [ 50.959316],\n",
              "        [ 54.898514],\n",
              "        [ 58.837708],\n",
              "        [ 62.776905],\n",
              "        [ 66.71611 ],\n",
              "        [ 70.65531 ],\n",
              "        [ 74.59451 ],\n",
              "        [ 78.5337  ],\n",
              "        [ 82.47291 ],\n",
              "        [ 86.4121  ],\n",
              "        [ 90.35131 ],\n",
              "        [ 94.290504],\n",
              "        [ 98.2297  ],\n",
              "        [102.1689  ],\n",
              "        [106.1081  ],\n",
              "        [110.04729 ],\n",
              "        [113.98649 ],\n",
              "        [117.9257  ],\n",
              "        [121.86489 ],\n",
              "        [125.80409 ],\n",
              "        [129.74329 ]], dtype=float32), array([[ 27.324125],\n",
              "        [ 31.26332 ],\n",
              "        [ 35.20252 ],\n",
              "        [ 39.141716],\n",
              "        [ 43.080914],\n",
              "        [ 47.02011 ],\n",
              "        [ 50.959316],\n",
              "        [ 54.898514],\n",
              "        [ 58.837708],\n",
              "        [ 62.776905],\n",
              "        [ 66.71611 ],\n",
              "        [ 70.65531 ],\n",
              "        [ 74.59451 ],\n",
              "        [ 78.5337  ],\n",
              "        [ 82.47291 ],\n",
              "        [ 86.4121  ],\n",
              "        [ 90.35131 ],\n",
              "        [ 94.290504],\n",
              "        [ 98.2297  ],\n",
              "        [102.1689  ],\n",
              "        [106.1081  ],\n",
              "        [110.04729 ],\n",
              "        [113.98649 ],\n",
              "        [117.9257  ],\n",
              "        [121.86489 ],\n",
              "        [125.80409 ],\n",
              "        [129.74329 ]], dtype=float32))"
            ]
          },
          "metadata": {},
          "execution_count": 34
        }
      ]
    },
    {
      "cell_type": "code",
      "source": [
        "mae(y_test, y_pred=model_2_preds) == mae(y_test, y_pred=new_model_preds)"
      ],
      "metadata": {
        "colab": {
          "base_uri": "https://localhost:8080/"
        },
        "id": "y2tsVJn-pZt9",
        "outputId": "4bf8d13c-deb1-4099-a8c2-e6fd14ccf172"
      },
      "execution_count": null,
      "outputs": [
        {
          "output_type": "execute_result",
          "data": {
            "text/plain": [
              "<tf.Tensor: shape=(27,), dtype=bool, numpy=\n",
              "array([ True,  True,  True,  True,  True,  True,  True,  True,  True,\n",
              "        True,  True,  True,  True,  True,  True,  True,  True,  True,\n",
              "        True,  True,  True,  True,  True,  True,  True,  True,  True])>"
            ]
          },
          "metadata": {},
          "execution_count": 35
        }
      ]
    },
    {
      "cell_type": "code",
      "source": [
        "new_model_h5 =tf.keras.models.load_model(\"/content/second_best_model_SavedModel_format.h5\")"
      ],
      "metadata": {
        "id": "UIBZQR14p4GJ"
      },
      "execution_count": null,
      "outputs": []
    },
    {
      "cell_type": "code",
      "source": [
        "new_model_h5.summary()"
      ],
      "metadata": {
        "colab": {
          "base_uri": "https://localhost:8080/"
        },
        "id": "TU8yGyxDrI3d",
        "outputId": "b3f5f625-dc0d-4aad-c9ff-fb24728e4a3f"
      },
      "execution_count": null,
      "outputs": [
        {
          "output_type": "stream",
          "name": "stdout",
          "text": [
            "Model: \"sequential_3\"\n",
            "_________________________________________________________________\n",
            " Layer (type)                Output Shape              Param #   \n",
            "=================================================================\n",
            " dense_3 (Dense)             (None, 10)                20        \n",
            "                                                                 \n",
            " dense_4 (Dense)             (None, 1)                 11        \n",
            "                                                                 \n",
            "=================================================================\n",
            "Total params: 31\n",
            "Trainable params: 31\n",
            "Non-trainable params: 0\n",
            "_________________________________________________________________\n"
          ]
        }
      ]
    },
    {
      "cell_type": "code",
      "source": [
        "!cp /content/second_best_model_SavedModel_format.h5 /content/drive/MyDrive/tfCourse"
      ],
      "metadata": {
        "id": "MNBk1oC8rNkU"
      },
      "execution_count": null,
      "outputs": []
    },
    {
      "cell_type": "code",
      "source": [
        "!ls /content/drive/MyDrive/tfCourse"
      ],
      "metadata": {
        "colab": {
          "base_uri": "https://localhost:8080/"
        },
        "id": "KEdGZOSss9Da",
        "outputId": "d8f43084-ce2b-41b4-ca0b-503f12538044"
      },
      "execution_count": null,
      "outputs": [
        {
          "output_type": "stream",
          "name": "stdout",
          "text": [
            "/content/drive/MyDrive/tfCourse\n"
          ]
        }
      ]
    },
    {
      "cell_type": "code",
      "source": [
        "import tensorflow as tf"
      ],
      "metadata": {
        "id": "A4_9e_putFHG"
      },
      "execution_count": null,
      "outputs": []
    },
    {
      "cell_type": "code",
      "source": [
        "import pandas as pd\n",
        "import matplotlib.pyplot as plt\n"
      ],
      "metadata": {
        "id": "qLTG33hsu_dW"
      },
      "execution_count": null,
      "outputs": []
    },
    {
      "cell_type": "code",
      "source": [
        "insurance = pd.read_csv(\"https://raw.githubusercontent.com/stedy/Machine-Learning-with-R-datasets/master/insurance.csv\")"
      ],
      "metadata": {
        "id": "PWwcrv9jvIP7"
      },
      "execution_count": null,
      "outputs": []
    },
    {
      "cell_type": "code",
      "source": [
        "insurance[\"charges\"]"
      ],
      "metadata": {
        "colab": {
          "base_uri": "https://localhost:8080/"
        },
        "id": "40o2UPaavNuY",
        "outputId": "3a1e0c18-6c0f-46af-f8d1-5cf8fcf7af3e"
      },
      "execution_count": null,
      "outputs": [
        {
          "output_type": "execute_result",
          "data": {
            "text/plain": [
              "0       16884.92400\n",
              "1        1725.55230\n",
              "2        4449.46200\n",
              "3       21984.47061\n",
              "4        3866.85520\n",
              "           ...     \n",
              "1333    10600.54830\n",
              "1334     2205.98080\n",
              "1335     1629.83350\n",
              "1336     2007.94500\n",
              "1337    29141.36030\n",
              "Name: charges, Length: 1338, dtype: float64"
            ]
          },
          "metadata": {},
          "execution_count": 43
        }
      ]
    },
    {
      "cell_type": "code",
      "source": [
        "insurance_one_hot = pd.get_dummies(insurance)\n",
        "insurance_one_hot"
      ],
      "metadata": {
        "colab": {
          "base_uri": "https://localhost:8080/",
          "height": 488
        },
        "id": "0ffy70p8vTU5",
        "outputId": "f0aa0744-bd5c-444e-9b3e-b9ecd7870f44"
      },
      "execution_count": null,
      "outputs": [
        {
          "output_type": "execute_result",
          "data": {
            "text/plain": [
              "      age     bmi  children      charges  sex_female  sex_male  smoker_no  \\\n",
              "0      19  27.900         0  16884.92400           1         0          0   \n",
              "1      18  33.770         1   1725.55230           0         1          1   \n",
              "2      28  33.000         3   4449.46200           0         1          1   \n",
              "3      33  22.705         0  21984.47061           0         1          1   \n",
              "4      32  28.880         0   3866.85520           0         1          1   \n",
              "...   ...     ...       ...          ...         ...       ...        ...   \n",
              "1333   50  30.970         3  10600.54830           0         1          1   \n",
              "1334   18  31.920         0   2205.98080           1         0          1   \n",
              "1335   18  36.850         0   1629.83350           1         0          1   \n",
              "1336   21  25.800         0   2007.94500           1         0          1   \n",
              "1337   61  29.070         0  29141.36030           1         0          0   \n",
              "\n",
              "      smoker_yes  region_northeast  region_northwest  region_southeast  \\\n",
              "0              1                 0                 0                 0   \n",
              "1              0                 0                 0                 1   \n",
              "2              0                 0                 0                 1   \n",
              "3              0                 0                 1                 0   \n",
              "4              0                 0                 1                 0   \n",
              "...          ...               ...               ...               ...   \n",
              "1333           0                 0                 1                 0   \n",
              "1334           0                 1                 0                 0   \n",
              "1335           0                 0                 0                 1   \n",
              "1336           0                 0                 0                 0   \n",
              "1337           1                 0                 1                 0   \n",
              "\n",
              "      region_southwest  \n",
              "0                    1  \n",
              "1                    0  \n",
              "2                    0  \n",
              "3                    0  \n",
              "4                    0  \n",
              "...                ...  \n",
              "1333                 0  \n",
              "1334                 0  \n",
              "1335                 0  \n",
              "1336                 1  \n",
              "1337                 0  \n",
              "\n",
              "[1338 rows x 12 columns]"
            ],
            "text/html": [
              "\n",
              "  <div id=\"df-e9c02fce-697b-45f6-8813-348a6e63e035\">\n",
              "    <div class=\"colab-df-container\">\n",
              "      <div>\n",
              "<style scoped>\n",
              "    .dataframe tbody tr th:only-of-type {\n",
              "        vertical-align: middle;\n",
              "    }\n",
              "\n",
              "    .dataframe tbody tr th {\n",
              "        vertical-align: top;\n",
              "    }\n",
              "\n",
              "    .dataframe thead th {\n",
              "        text-align: right;\n",
              "    }\n",
              "</style>\n",
              "<table border=\"1\" class=\"dataframe\">\n",
              "  <thead>\n",
              "    <tr style=\"text-align: right;\">\n",
              "      <th></th>\n",
              "      <th>age</th>\n",
              "      <th>bmi</th>\n",
              "      <th>children</th>\n",
              "      <th>charges</th>\n",
              "      <th>sex_female</th>\n",
              "      <th>sex_male</th>\n",
              "      <th>smoker_no</th>\n",
              "      <th>smoker_yes</th>\n",
              "      <th>region_northeast</th>\n",
              "      <th>region_northwest</th>\n",
              "      <th>region_southeast</th>\n",
              "      <th>region_southwest</th>\n",
              "    </tr>\n",
              "  </thead>\n",
              "  <tbody>\n",
              "    <tr>\n",
              "      <th>0</th>\n",
              "      <td>19</td>\n",
              "      <td>27.900</td>\n",
              "      <td>0</td>\n",
              "      <td>16884.92400</td>\n",
              "      <td>1</td>\n",
              "      <td>0</td>\n",
              "      <td>0</td>\n",
              "      <td>1</td>\n",
              "      <td>0</td>\n",
              "      <td>0</td>\n",
              "      <td>0</td>\n",
              "      <td>1</td>\n",
              "    </tr>\n",
              "    <tr>\n",
              "      <th>1</th>\n",
              "      <td>18</td>\n",
              "      <td>33.770</td>\n",
              "      <td>1</td>\n",
              "      <td>1725.55230</td>\n",
              "      <td>0</td>\n",
              "      <td>1</td>\n",
              "      <td>1</td>\n",
              "      <td>0</td>\n",
              "      <td>0</td>\n",
              "      <td>0</td>\n",
              "      <td>1</td>\n",
              "      <td>0</td>\n",
              "    </tr>\n",
              "    <tr>\n",
              "      <th>2</th>\n",
              "      <td>28</td>\n",
              "      <td>33.000</td>\n",
              "      <td>3</td>\n",
              "      <td>4449.46200</td>\n",
              "      <td>0</td>\n",
              "      <td>1</td>\n",
              "      <td>1</td>\n",
              "      <td>0</td>\n",
              "      <td>0</td>\n",
              "      <td>0</td>\n",
              "      <td>1</td>\n",
              "      <td>0</td>\n",
              "    </tr>\n",
              "    <tr>\n",
              "      <th>3</th>\n",
              "      <td>33</td>\n",
              "      <td>22.705</td>\n",
              "      <td>0</td>\n",
              "      <td>21984.47061</td>\n",
              "      <td>0</td>\n",
              "      <td>1</td>\n",
              "      <td>1</td>\n",
              "      <td>0</td>\n",
              "      <td>0</td>\n",
              "      <td>1</td>\n",
              "      <td>0</td>\n",
              "      <td>0</td>\n",
              "    </tr>\n",
              "    <tr>\n",
              "      <th>4</th>\n",
              "      <td>32</td>\n",
              "      <td>28.880</td>\n",
              "      <td>0</td>\n",
              "      <td>3866.85520</td>\n",
              "      <td>0</td>\n",
              "      <td>1</td>\n",
              "      <td>1</td>\n",
              "      <td>0</td>\n",
              "      <td>0</td>\n",
              "      <td>1</td>\n",
              "      <td>0</td>\n",
              "      <td>0</td>\n",
              "    </tr>\n",
              "    <tr>\n",
              "      <th>...</th>\n",
              "      <td>...</td>\n",
              "      <td>...</td>\n",
              "      <td>...</td>\n",
              "      <td>...</td>\n",
              "      <td>...</td>\n",
              "      <td>...</td>\n",
              "      <td>...</td>\n",
              "      <td>...</td>\n",
              "      <td>...</td>\n",
              "      <td>...</td>\n",
              "      <td>...</td>\n",
              "      <td>...</td>\n",
              "    </tr>\n",
              "    <tr>\n",
              "      <th>1333</th>\n",
              "      <td>50</td>\n",
              "      <td>30.970</td>\n",
              "      <td>3</td>\n",
              "      <td>10600.54830</td>\n",
              "      <td>0</td>\n",
              "      <td>1</td>\n",
              "      <td>1</td>\n",
              "      <td>0</td>\n",
              "      <td>0</td>\n",
              "      <td>1</td>\n",
              "      <td>0</td>\n",
              "      <td>0</td>\n",
              "    </tr>\n",
              "    <tr>\n",
              "      <th>1334</th>\n",
              "      <td>18</td>\n",
              "      <td>31.920</td>\n",
              "      <td>0</td>\n",
              "      <td>2205.98080</td>\n",
              "      <td>1</td>\n",
              "      <td>0</td>\n",
              "      <td>1</td>\n",
              "      <td>0</td>\n",
              "      <td>1</td>\n",
              "      <td>0</td>\n",
              "      <td>0</td>\n",
              "      <td>0</td>\n",
              "    </tr>\n",
              "    <tr>\n",
              "      <th>1335</th>\n",
              "      <td>18</td>\n",
              "      <td>36.850</td>\n",
              "      <td>0</td>\n",
              "      <td>1629.83350</td>\n",
              "      <td>1</td>\n",
              "      <td>0</td>\n",
              "      <td>1</td>\n",
              "      <td>0</td>\n",
              "      <td>0</td>\n",
              "      <td>0</td>\n",
              "      <td>1</td>\n",
              "      <td>0</td>\n",
              "    </tr>\n",
              "    <tr>\n",
              "      <th>1336</th>\n",
              "      <td>21</td>\n",
              "      <td>25.800</td>\n",
              "      <td>0</td>\n",
              "      <td>2007.94500</td>\n",
              "      <td>1</td>\n",
              "      <td>0</td>\n",
              "      <td>1</td>\n",
              "      <td>0</td>\n",
              "      <td>0</td>\n",
              "      <td>0</td>\n",
              "      <td>0</td>\n",
              "      <td>1</td>\n",
              "    </tr>\n",
              "    <tr>\n",
              "      <th>1337</th>\n",
              "      <td>61</td>\n",
              "      <td>29.070</td>\n",
              "      <td>0</td>\n",
              "      <td>29141.36030</td>\n",
              "      <td>1</td>\n",
              "      <td>0</td>\n",
              "      <td>0</td>\n",
              "      <td>1</td>\n",
              "      <td>0</td>\n",
              "      <td>1</td>\n",
              "      <td>0</td>\n",
              "      <td>0</td>\n",
              "    </tr>\n",
              "  </tbody>\n",
              "</table>\n",
              "<p>1338 rows × 12 columns</p>\n",
              "</div>\n",
              "      <button class=\"colab-df-convert\" onclick=\"convertToInteractive('df-e9c02fce-697b-45f6-8813-348a6e63e035')\"\n",
              "              title=\"Convert this dataframe to an interactive table.\"\n",
              "              style=\"display:none;\">\n",
              "        \n",
              "  <svg xmlns=\"http://www.w3.org/2000/svg\" height=\"24px\"viewBox=\"0 0 24 24\"\n",
              "       width=\"24px\">\n",
              "    <path d=\"M0 0h24v24H0V0z\" fill=\"none\"/>\n",
              "    <path d=\"M18.56 5.44l.94 2.06.94-2.06 2.06-.94-2.06-.94-.94-2.06-.94 2.06-2.06.94zm-11 1L8.5 8.5l.94-2.06 2.06-.94-2.06-.94L8.5 2.5l-.94 2.06-2.06.94zm10 10l.94 2.06.94-2.06 2.06-.94-2.06-.94-.94-2.06-.94 2.06-2.06.94z\"/><path d=\"M17.41 7.96l-1.37-1.37c-.4-.4-.92-.59-1.43-.59-.52 0-1.04.2-1.43.59L10.3 9.45l-7.72 7.72c-.78.78-.78 2.05 0 2.83L4 21.41c.39.39.9.59 1.41.59.51 0 1.02-.2 1.41-.59l7.78-7.78 2.81-2.81c.8-.78.8-2.07 0-2.86zM5.41 20L4 18.59l7.72-7.72 1.47 1.35L5.41 20z\"/>\n",
              "  </svg>\n",
              "      </button>\n",
              "      \n",
              "  <style>\n",
              "    .colab-df-container {\n",
              "      display:flex;\n",
              "      flex-wrap:wrap;\n",
              "      gap: 12px;\n",
              "    }\n",
              "\n",
              "    .colab-df-convert {\n",
              "      background-color: #E8F0FE;\n",
              "      border: none;\n",
              "      border-radius: 50%;\n",
              "      cursor: pointer;\n",
              "      display: none;\n",
              "      fill: #1967D2;\n",
              "      height: 32px;\n",
              "      padding: 0 0 0 0;\n",
              "      width: 32px;\n",
              "    }\n",
              "\n",
              "    .colab-df-convert:hover {\n",
              "      background-color: #E2EBFA;\n",
              "      box-shadow: 0px 1px 2px rgba(60, 64, 67, 0.3), 0px 1px 3px 1px rgba(60, 64, 67, 0.15);\n",
              "      fill: #174EA6;\n",
              "    }\n",
              "\n",
              "    [theme=dark] .colab-df-convert {\n",
              "      background-color: #3B4455;\n",
              "      fill: #D2E3FC;\n",
              "    }\n",
              "\n",
              "    [theme=dark] .colab-df-convert:hover {\n",
              "      background-color: #434B5C;\n",
              "      box-shadow: 0px 1px 3px 1px rgba(0, 0, 0, 0.15);\n",
              "      filter: drop-shadow(0px 1px 2px rgba(0, 0, 0, 0.3));\n",
              "      fill: #FFFFFF;\n",
              "    }\n",
              "  </style>\n",
              "\n",
              "      <script>\n",
              "        const buttonEl =\n",
              "          document.querySelector('#df-e9c02fce-697b-45f6-8813-348a6e63e035 button.colab-df-convert');\n",
              "        buttonEl.style.display =\n",
              "          google.colab.kernel.accessAllowed ? 'block' : 'none';\n",
              "\n",
              "        async function convertToInteractive(key) {\n",
              "          const element = document.querySelector('#df-e9c02fce-697b-45f6-8813-348a6e63e035');\n",
              "          const dataTable =\n",
              "            await google.colab.kernel.invokeFunction('convertToInteractive',\n",
              "                                                     [key], {});\n",
              "          if (!dataTable) return;\n",
              "\n",
              "          const docLinkHtml = 'Like what you see? Visit the ' +\n",
              "            '<a target=\"_blank\" href=https://colab.research.google.com/notebooks/data_table.ipynb>data table notebook</a>'\n",
              "            + ' to learn more about interactive tables.';\n",
              "          element.innerHTML = '';\n",
              "          dataTable['output_type'] = 'display_data';\n",
              "          await google.colab.output.renderOutput(dataTable, element);\n",
              "          const docLink = document.createElement('div');\n",
              "          docLink.innerHTML = docLinkHtml;\n",
              "          element.appendChild(docLink);\n",
              "        }\n",
              "      </script>\n",
              "    </div>\n",
              "  </div>\n",
              "  "
            ]
          },
          "metadata": {},
          "execution_count": 44
        }
      ]
    },
    {
      "cell_type": "code",
      "source": [
        " X=tf.constant(insurance_one_hot)"
      ],
      "metadata": {
        "id": "CHzgTFRxw8ZW"
      },
      "execution_count": null,
      "outputs": []
    },
    {
      "cell_type": "code",
      "source": [
        "y=tf.constant(insurance_one_hot.get(\"charges\"))"
      ],
      "metadata": {
        "id": "nJ3G7uLJxhc1"
      },
      "execution_count": null,
      "outputs": []
    },
    {
      "cell_type": "code",
      "source": [
        "X,y\n",
        "X_train=X[:1200]\n",
        "X_test=X[1200:]\n",
        "\n",
        "y_train=y[:1200]\n",
        "y_test=y[1200:]\n",
        "tf.shape(X_train)"
      ],
      "metadata": {
        "colab": {
          "base_uri": "https://localhost:8080/"
        },
        "id": "u5RwERp7xiBe",
        "outputId": "2770a24d-1fd9-4526-f657-84af112eb0bd"
      },
      "execution_count": null,
      "outputs": [
        {
          "output_type": "execute_result",
          "data": {
            "text/plain": [
              "<tf.Tensor: shape=(2,), dtype=int32, numpy=array([1200,   12], dtype=int32)>"
            ]
          },
          "metadata": {},
          "execution_count": 47
        }
      ]
    },
    {
      "cell_type": "code",
      "source": [
        "tf.random.set_seed(42)\n",
        "model= tf.keras.Sequential([\n",
        "                            tf.keras.layers.Dense(10,input_shape=(12,)),\n",
        "                            tf.keras.layers.Dense(1)\n",
        "])\n",
        "model.compile(loss=tf.keras.losses.MAE,\n",
        "              optimizer=tf.keras.optimizers.Adam(lr=0.001),\n",
        "              metrics=[\"mae\"])\n",
        "model.fit(X_train, y_train, epochs=100)"
      ],
      "metadata": {
        "colab": {
          "base_uri": "https://localhost:8080/"
        },
        "id": "iDNdMKY9x8UH",
        "outputId": "37f72040-2f15-4b3a-e15b-b9e6512c0a03"
      },
      "execution_count": null,
      "outputs": [
        {
          "output_type": "stream",
          "name": "stdout",
          "text": [
            "Epoch 1/100\n"
          ]
        },
        {
          "output_type": "stream",
          "name": "stderr",
          "text": [
            "/usr/local/lib/python3.7/dist-packages/keras/optimizer_v2/adam.py:105: UserWarning: The `lr` argument is deprecated, use `learning_rate` instead.\n",
            "  super(Adam, self).__init__(name, **kwargs)\n"
          ]
        },
        {
          "output_type": "stream",
          "name": "stdout",
          "text": [
            "38/38 [==============================] - 1s 3ms/step - loss: 3811.4705 - mae: 3811.4705\n",
            "Epoch 2/100\n",
            "38/38 [==============================] - 0s 2ms/step - loss: 773.9921 - mae: 773.9921\n",
            "Epoch 3/100\n",
            "38/38 [==============================] - 0s 2ms/step - loss: 49.1058 - mae: 49.1058\n",
            "Epoch 4/100\n",
            "38/38 [==============================] - 0s 4ms/step - loss: 15.9445 - mae: 15.9445\n",
            "Epoch 5/100\n",
            "38/38 [==============================] - 0s 6ms/step - loss: 8.4025 - mae: 8.4025\n",
            "Epoch 6/100\n",
            "38/38 [==============================] - 0s 6ms/step - loss: 5.9935 - mae: 5.9935\n",
            "Epoch 7/100\n",
            "38/38 [==============================] - 0s 6ms/step - loss: 9.2964 - mae: 9.2964\n",
            "Epoch 8/100\n",
            "38/38 [==============================] - 0s 3ms/step - loss: 6.4605 - mae: 6.4605\n",
            "Epoch 9/100\n",
            "38/38 [==============================] - 0s 3ms/step - loss: 13.0416 - mae: 13.0416\n",
            "Epoch 10/100\n",
            "38/38 [==============================] - 0s 4ms/step - loss: 5.3244 - mae: 5.3244\n",
            "Epoch 11/100\n",
            "38/38 [==============================] - 0s 5ms/step - loss: 6.9194 - mae: 6.9194\n",
            "Epoch 12/100\n",
            "38/38 [==============================] - 0s 4ms/step - loss: 11.9393 - mae: 11.9393\n",
            "Epoch 13/100\n",
            "38/38 [==============================] - 0s 4ms/step - loss: 6.1143 - mae: 6.1143\n",
            "Epoch 14/100\n",
            "38/38 [==============================] - 0s 5ms/step - loss: 8.7678 - mae: 8.7678\n",
            "Epoch 15/100\n",
            "38/38 [==============================] - 0s 4ms/step - loss: 8.0615 - mae: 8.0615\n",
            "Epoch 16/100\n",
            "38/38 [==============================] - 0s 4ms/step - loss: 6.2602 - mae: 6.2602\n",
            "Epoch 17/100\n",
            "38/38 [==============================] - 0s 3ms/step - loss: 5.7141 - mae: 5.7141\n",
            "Epoch 18/100\n",
            "38/38 [==============================] - 0s 3ms/step - loss: 4.3045 - mae: 4.3045\n",
            "Epoch 19/100\n",
            "38/38 [==============================] - 0s 4ms/step - loss: 4.9791 - mae: 4.9791\n",
            "Epoch 20/100\n",
            "38/38 [==============================] - 0s 5ms/step - loss: 11.3832 - mae: 11.3832\n",
            "Epoch 21/100\n",
            "38/38 [==============================] - 0s 3ms/step - loss: 8.0590 - mae: 8.0590\n",
            "Epoch 22/100\n",
            "38/38 [==============================] - 0s 5ms/step - loss: 6.5291 - mae: 6.5291\n",
            "Epoch 23/100\n",
            "38/38 [==============================] - 0s 4ms/step - loss: 11.5916 - mae: 11.5916\n",
            "Epoch 24/100\n",
            "38/38 [==============================] - 0s 2ms/step - loss: 8.7651 - mae: 8.7651\n",
            "Epoch 25/100\n",
            "38/38 [==============================] - 0s 4ms/step - loss: 7.7654 - mae: 7.7654\n",
            "Epoch 26/100\n",
            "38/38 [==============================] - 0s 3ms/step - loss: 12.5988 - mae: 12.5988\n",
            "Epoch 27/100\n",
            "38/38 [==============================] - 0s 3ms/step - loss: 9.8337 - mae: 9.8337\n",
            "Epoch 28/100\n",
            "38/38 [==============================] - 0s 3ms/step - loss: 11.9397 - mae: 11.9397\n",
            "Epoch 29/100\n",
            "38/38 [==============================] - 0s 4ms/step - loss: 17.4585 - mae: 17.4585\n",
            "Epoch 30/100\n",
            "38/38 [==============================] - 0s 5ms/step - loss: 15.7799 - mae: 15.7799\n",
            "Epoch 31/100\n",
            "38/38 [==============================] - 0s 3ms/step - loss: 7.2339 - mae: 7.2339\n",
            "Epoch 32/100\n",
            "38/38 [==============================] - 0s 2ms/step - loss: 4.7882 - mae: 4.7882\n",
            "Epoch 33/100\n",
            "38/38 [==============================] - 0s 4ms/step - loss: 11.3064 - mae: 11.3064\n",
            "Epoch 34/100\n",
            "38/38 [==============================] - 0s 5ms/step - loss: 13.9170 - mae: 13.9170\n",
            "Epoch 35/100\n",
            "38/38 [==============================] - 0s 4ms/step - loss: 12.8327 - mae: 12.8327\n",
            "Epoch 36/100\n",
            "38/38 [==============================] - 0s 3ms/step - loss: 4.3831 - mae: 4.3831\n",
            "Epoch 37/100\n",
            "38/38 [==============================] - 0s 2ms/step - loss: 10.3277 - mae: 10.3277\n",
            "Epoch 38/100\n",
            "38/38 [==============================] - 0s 3ms/step - loss: 9.0672 - mae: 9.0672\n",
            "Epoch 39/100\n",
            "38/38 [==============================] - 0s 2ms/step - loss: 16.3316 - mae: 16.3316\n",
            "Epoch 40/100\n",
            "38/38 [==============================] - 0s 3ms/step - loss: 18.4365 - mae: 18.4365\n",
            "Epoch 41/100\n",
            "38/38 [==============================] - 0s 2ms/step - loss: 5.6419 - mae: 5.6419\n",
            "Epoch 42/100\n",
            "38/38 [==============================] - 0s 3ms/step - loss: 6.7060 - mae: 6.7060\n",
            "Epoch 43/100\n",
            "38/38 [==============================] - 0s 3ms/step - loss: 15.8718 - mae: 15.8718\n",
            "Epoch 44/100\n",
            "38/38 [==============================] - 0s 3ms/step - loss: 13.0569 - mae: 13.0569\n",
            "Epoch 45/100\n",
            "38/38 [==============================] - 0s 4ms/step - loss: 9.2978 - mae: 9.2978\n",
            "Epoch 46/100\n",
            "38/38 [==============================] - 0s 3ms/step - loss: 17.9424 - mae: 17.9424\n",
            "Epoch 47/100\n",
            "38/38 [==============================] - 0s 5ms/step - loss: 9.2282 - mae: 9.2282\n",
            "Epoch 48/100\n",
            "38/38 [==============================] - 0s 2ms/step - loss: 13.8651 - mae: 13.8651\n",
            "Epoch 49/100\n",
            "38/38 [==============================] - 0s 2ms/step - loss: 20.5983 - mae: 20.5983\n",
            "Epoch 50/100\n",
            "38/38 [==============================] - 0s 2ms/step - loss: 7.2566 - mae: 7.2566\n",
            "Epoch 51/100\n",
            "38/38 [==============================] - 0s 4ms/step - loss: 14.5793 - mae: 14.5793\n",
            "Epoch 52/100\n",
            "38/38 [==============================] - 0s 2ms/step - loss: 7.6497 - mae: 7.6497\n",
            "Epoch 53/100\n",
            "38/38 [==============================] - 0s 4ms/step - loss: 10.3732 - mae: 10.3732\n",
            "Epoch 54/100\n",
            "38/38 [==============================] - 0s 4ms/step - loss: 8.2961 - mae: 8.2961\n",
            "Epoch 55/100\n",
            "38/38 [==============================] - 0s 2ms/step - loss: 7.2868 - mae: 7.2868\n",
            "Epoch 56/100\n",
            "38/38 [==============================] - 0s 2ms/step - loss: 13.8899 - mae: 13.8899\n",
            "Epoch 57/100\n",
            "38/38 [==============================] - 0s 2ms/step - loss: 7.4994 - mae: 7.4994\n",
            "Epoch 58/100\n",
            "38/38 [==============================] - 0s 2ms/step - loss: 9.7687 - mae: 9.7687\n",
            "Epoch 59/100\n",
            "38/38 [==============================] - 0s 2ms/step - loss: 20.0109 - mae: 20.0109\n",
            "Epoch 60/100\n",
            "38/38 [==============================] - 0s 2ms/step - loss: 10.2011 - mae: 10.2011\n",
            "Epoch 61/100\n",
            "38/38 [==============================] - 0s 1ms/step - loss: 6.5630 - mae: 6.5630\n",
            "Epoch 62/100\n",
            "38/38 [==============================] - 0s 1ms/step - loss: 9.0531 - mae: 9.0531\n",
            "Epoch 63/100\n",
            "38/38 [==============================] - 0s 1ms/step - loss: 10.2197 - mae: 10.2197\n",
            "Epoch 64/100\n",
            "38/38 [==============================] - 0s 1ms/step - loss: 19.6584 - mae: 19.6584\n",
            "Epoch 65/100\n",
            "38/38 [==============================] - 0s 2ms/step - loss: 8.8539 - mae: 8.8539\n",
            "Epoch 66/100\n",
            "38/38 [==============================] - 0s 2ms/step - loss: 7.3027 - mae: 7.3027\n",
            "Epoch 67/100\n",
            "38/38 [==============================] - 0s 1ms/step - loss: 13.0547 - mae: 13.0547\n",
            "Epoch 68/100\n",
            "38/38 [==============================] - 0s 2ms/step - loss: 7.5254 - mae: 7.5254\n",
            "Epoch 69/100\n",
            "38/38 [==============================] - 0s 2ms/step - loss: 6.9217 - mae: 6.9217\n",
            "Epoch 70/100\n",
            "38/38 [==============================] - 0s 2ms/step - loss: 11.4793 - mae: 11.4793\n",
            "Epoch 71/100\n",
            "38/38 [==============================] - 0s 2ms/step - loss: 9.6596 - mae: 9.6596\n",
            "Epoch 72/100\n",
            "38/38 [==============================] - 0s 2ms/step - loss: 24.0788 - mae: 24.0788\n",
            "Epoch 73/100\n",
            "38/38 [==============================] - 0s 2ms/step - loss: 10.8226 - mae: 10.8226\n",
            "Epoch 74/100\n",
            "38/38 [==============================] - 0s 2ms/step - loss: 13.2024 - mae: 13.2024\n",
            "Epoch 75/100\n",
            "38/38 [==============================] - 0s 1ms/step - loss: 13.7851 - mae: 13.7851\n",
            "Epoch 76/100\n",
            "38/38 [==============================] - 0s 2ms/step - loss: 6.6592 - mae: 6.6592\n",
            "Epoch 77/100\n",
            "38/38 [==============================] - 0s 2ms/step - loss: 10.3578 - mae: 10.3578\n",
            "Epoch 78/100\n",
            "38/38 [==============================] - 0s 2ms/step - loss: 13.8059 - mae: 13.8059\n",
            "Epoch 79/100\n",
            "38/38 [==============================] - 0s 2ms/step - loss: 10.9218 - mae: 10.9218\n",
            "Epoch 80/100\n",
            "38/38 [==============================] - 0s 2ms/step - loss: 8.4037 - mae: 8.4037\n",
            "Epoch 81/100\n",
            "38/38 [==============================] - 0s 2ms/step - loss: 8.3057 - mae: 8.3057\n",
            "Epoch 82/100\n",
            "38/38 [==============================] - 0s 2ms/step - loss: 16.9277 - mae: 16.9277\n",
            "Epoch 83/100\n",
            "38/38 [==============================] - 0s 2ms/step - loss: 10.7266 - mae: 10.7266\n",
            "Epoch 84/100\n",
            "38/38 [==============================] - 0s 2ms/step - loss: 11.9821 - mae: 11.9821\n",
            "Epoch 85/100\n",
            "38/38 [==============================] - 0s 2ms/step - loss: 12.2795 - mae: 12.2795\n",
            "Epoch 86/100\n",
            "38/38 [==============================] - 0s 2ms/step - loss: 19.2712 - mae: 19.2712\n",
            "Epoch 87/100\n",
            "38/38 [==============================] - 0s 2ms/step - loss: 9.0526 - mae: 9.0526\n",
            "Epoch 88/100\n",
            "38/38 [==============================] - 0s 2ms/step - loss: 9.9123 - mae: 9.9123\n",
            "Epoch 89/100\n",
            "38/38 [==============================] - 0s 2ms/step - loss: 13.8020 - mae: 13.8020\n",
            "Epoch 90/100\n",
            "38/38 [==============================] - 0s 2ms/step - loss: 9.9091 - mae: 9.9091\n",
            "Epoch 91/100\n",
            "38/38 [==============================] - 0s 2ms/step - loss: 8.2699 - mae: 8.2699\n",
            "Epoch 92/100\n",
            "38/38 [==============================] - 0s 2ms/step - loss: 7.2348 - mae: 7.2348\n",
            "Epoch 93/100\n",
            "38/38 [==============================] - 0s 2ms/step - loss: 8.5983 - mae: 8.5983\n",
            "Epoch 94/100\n",
            "38/38 [==============================] - 0s 2ms/step - loss: 9.5972 - mae: 9.5972\n",
            "Epoch 95/100\n",
            "38/38 [==============================] - 0s 2ms/step - loss: 4.7765 - mae: 4.7765\n",
            "Epoch 96/100\n",
            "38/38 [==============================] - 0s 2ms/step - loss: 11.2729 - mae: 11.2729\n",
            "Epoch 97/100\n",
            "38/38 [==============================] - 0s 2ms/step - loss: 17.3200 - mae: 17.3200\n",
            "Epoch 98/100\n",
            "38/38 [==============================] - 0s 2ms/step - loss: 16.2808 - mae: 16.2808\n",
            "Epoch 99/100\n",
            "38/38 [==============================] - 0s 2ms/step - loss: 10.0494 - mae: 10.0494\n",
            "Epoch 100/100\n",
            "38/38 [==============================] - 0s 2ms/step - loss: 5.7486 - mae: 5.7486\n"
          ]
        },
        {
          "output_type": "execute_result",
          "data": {
            "text/plain": [
              "<keras.callbacks.History at 0x7fcd55209e90>"
            ]
          },
          "metadata": {},
          "execution_count": 48
        }
      ]
    },
    {
      "cell_type": "code",
      "source": [
        "y_preds=model.predict(X_test)\n",
        "y_preds=tf.constant(y_preds)\n",
        "plt.scatter(tf.squeeze(y_preds[:20]), tf.squeeze(y_preds[:20]))\n",
        "plt.scatter(tf.cast(tf.squeeze(y_test[:20]),dtype=tf.float32), tf.squeeze(y_preds[:20]))\n",
        "model.evaluate(X_train, y_train)"
      ],
      "metadata": {
        "colab": {
          "base_uri": "https://localhost:8080/",
          "height": 300
        },
        "id": "LIrjZ_EjzA_H",
        "outputId": "7d6ebcac-77dd-41d3-8f51-b8d44b7d5fbd"
      },
      "execution_count": null,
      "outputs": [
        {
          "output_type": "stream",
          "name": "stdout",
          "text": [
            "38/38 [==============================] - 0s 2ms/step - loss: 2.2163 - mae: 2.2163\n"
          ]
        },
        {
          "output_type": "execute_result",
          "data": {
            "text/plain": [
              "[2.2162749767303467, 2.2162749767303467]"
            ]
          },
          "metadata": {},
          "execution_count": 49
        },
        {
          "output_type": "display_data",
          "data": {
            "text/plain": [
              "<Figure size 432x288 with 1 Axes>"
            ],
            "image/png": "[encoded data removed]"
          },
          "metadata": {
            "needs_background": "light"
          }
        }
      ]
    },
    {
      "cell_type": "code",
      "source": [
        " X = insurance_one_hot.drop(\"charges\", axis=1)\n",
        " y=insurance_one_hot[\"charges\"]"
      ],
      "metadata": {
        "id": "wAhxN8151WcR"
      },
      "execution_count": null,
      "outputs": []
    },
    {
      "cell_type": "code",
      "source": [
        "\n",
        "X.head()"
      ],
      "metadata": {
        "colab": {
          "base_uri": "https://localhost:8080/",
          "height": 270
        },
        "id": "vQ9sxOWL5v_j",
        "outputId": "1a1d5018-9b3c-426f-d180-0c017865c973"
      },
      "execution_count": null,
      "outputs": [
        {
          "output_type": "execute_result",
          "data": {
            "text/plain": [
              "   age     bmi  children  sex_female  sex_male  smoker_no  smoker_yes  \\\n",
              "0   19  27.900         0           1         0          0           1   \n",
              "1   18  33.770         1           0         1          1           0   \n",
              "2   28  33.000         3           0         1          1           0   \n",
              "3   33  22.705         0           0         1          1           0   \n",
              "4   32  28.880         0           0         1          1           0   \n",
              "\n",
              "   region_northeast  region_northwest  region_southeast  region_southwest  \n",
              "0                 0                 0                 0                 1  \n",
              "1                 0                 0                 1                 0  \n",
              "2                 0                 0                 1                 0  \n",
              "3                 0                 1                 0                 0  \n",
              "4                 0                 1                 0                 0  "
            ],
            "text/html": [
              "\n",
              "  <div id=\"df-10be38eb-09e1-473c-a881-5d266cecbc08\">\n",
              "    <div class=\"colab-df-container\">\n",
              "      <div>\n",
              "<style scoped>\n",
              "    .dataframe tbody tr th:only-of-type {\n",
              "        vertical-align: middle;\n",
              "    }\n",
              "\n",
              "    .dataframe tbody tr th {\n",
              "        vertical-align: top;\n",
              "    }\n",
              "\n",
              "    .dataframe thead th {\n",
              "        text-align: right;\n",
              "    }\n",
              "</style>\n",
              "<table border=\"1\" class=\"dataframe\">\n",
              "  <thead>\n",
              "    <tr style=\"text-align: right;\">\n",
              "      <th></th>\n",
              "      <th>age</th>\n",
              "      <th>bmi</th>\n",
              "      <th>children</th>\n",
              "      <th>sex_female</th>\n",
              "      <th>sex_male</th>\n",
              "      <th>smoker_no</th>\n",
              "      <th>smoker_yes</th>\n",
              "      <th>region_northeast</th>\n",
              "      <th>region_northwest</th>\n",
              "      <th>region_southeast</th>\n",
              "      <th>region_southwest</th>\n",
              "    </tr>\n",
              "  </thead>\n",
              "  <tbody>\n",
              "    <tr>\n",
              "      <th>0</th>\n",
              "      <td>19</td>\n",
              "      <td>27.900</td>\n",
              "      <td>0</td>\n",
              "      <td>1</td>\n",
              "      <td>0</td>\n",
              "      <td>0</td>\n",
              "      <td>1</td>\n",
              "      <td>0</td>\n",
              "      <td>0</td>\n",
              "      <td>0</td>\n",
              "      <td>1</td>\n",
              "    </tr>\n",
              "    <tr>\n",
              "      <th>1</th>\n",
              "      <td>18</td>\n",
              "      <td>33.770</td>\n",
              "      <td>1</td>\n",
              "      <td>0</td>\n",
              "      <td>1</td>\n",
              "      <td>1</td>\n",
              "      <td>0</td>\n",
              "      <td>0</td>\n",
              "      <td>0</td>\n",
              "      <td>1</td>\n",
              "      <td>0</td>\n",
              "    </tr>\n",
              "    <tr>\n",
              "      <th>2</th>\n",
              "      <td>28</td>\n",
              "      <td>33.000</td>\n",
              "      <td>3</td>\n",
              "      <td>0</td>\n",
              "      <td>1</td>\n",
              "      <td>1</td>\n",
              "      <td>0</td>\n",
              "      <td>0</td>\n",
              "      <td>0</td>\n",
              "      <td>1</td>\n",
              "      <td>0</td>\n",
              "    </tr>\n",
              "    <tr>\n",
              "      <th>3</th>\n",
              "      <td>33</td>\n",
              "      <td>22.705</td>\n",
              "      <td>0</td>\n",
              "      <td>0</td>\n",
              "      <td>1</td>\n",
              "      <td>1</td>\n",
              "      <td>0</td>\n",
              "      <td>0</td>\n",
              "      <td>1</td>\n",
              "      <td>0</td>\n",
              "      <td>0</td>\n",
              "    </tr>\n",
              "    <tr>\n",
              "      <th>4</th>\n",
              "      <td>32</td>\n",
              "      <td>28.880</td>\n",
              "      <td>0</td>\n",
              "      <td>0</td>\n",
              "      <td>1</td>\n",
              "      <td>1</td>\n",
              "      <td>0</td>\n",
              "      <td>0</td>\n",
              "      <td>1</td>\n",
              "      <td>0</td>\n",
              "      <td>0</td>\n",
              "    </tr>\n",
              "  </tbody>\n",
              "</table>\n",
              "</div>\n",
              "      <button class=\"colab-df-convert\" onclick=\"convertToInteractive('df-10be38eb-09e1-473c-a881-5d266cecbc08')\"\n",
              "              title=\"Convert this dataframe to an interactive table.\"\n",
              "              style=\"display:none;\">\n",
              "        \n",
              "  <svg xmlns=\"http://www.w3.org/2000/svg\" height=\"24px\"viewBox=\"0 0 24 24\"\n",
              "       width=\"24px\">\n",
              "    <path d=\"M0 0h24v24H0V0z\" fill=\"none\"/>\n",
              "    <path d=\"M18.56 5.44l.94 2.06.94-2.06 2.06-.94-2.06-.94-.94-2.06-.94 2.06-2.06.94zm-11 1L8.5 8.5l.94-2.06 2.06-.94-2.06-.94L8.5 2.5l-.94 2.06-2.06.94zm10 10l.94 2.06.94-2.06 2.06-.94-2.06-.94-.94-2.06-.94 2.06-2.06.94z\"/><path d=\"M17.41 7.96l-1.37-1.37c-.4-.4-.92-.59-1.43-.59-.52 0-1.04.2-1.43.59L10.3 9.45l-7.72 7.72c-.78.78-.78 2.05 0 2.83L4 21.41c.39.39.9.59 1.41.59.51 0 1.02-.2 1.41-.59l7.78-7.78 2.81-2.81c.8-.78.8-2.07 0-2.86zM5.41 20L4 18.59l7.72-7.72 1.47 1.35L5.41 20z\"/>\n",
              "  </svg>\n",
              "      </button>\n",
              "      \n",
              "  <style>\n",
              "    .colab-df-container {\n",
              "      display:flex;\n",
              "      flex-wrap:wrap;\n",
              "      gap: 12px;\n",
              "    }\n",
              "\n",
              "    .colab-df-convert {\n",
              "      background-color: #E8F0FE;\n",
              "      border: none;\n",
              "      border-radius: 50%;\n",
              "      cursor: pointer;\n",
              "      display: none;\n",
              "      fill: #1967D2;\n",
              "      height: 32px;\n",
              "      padding: 0 0 0 0;\n",
              "      width: 32px;\n",
              "    }\n",
              "\n",
              "    .colab-df-convert:hover {\n",
              "      background-color: #E2EBFA;\n",
              "      box-shadow: 0px 1px 2px rgba(60, 64, 67, 0.3), 0px 1px 3px 1px rgba(60, 64, 67, 0.15);\n",
              "      fill: #174EA6;\n",
              "    }\n",
              "\n",
              "    [theme=dark] .colab-df-convert {\n",
              "      background-color: #3B4455;\n",
              "      fill: #D2E3FC;\n",
              "    }\n",
              "\n",
              "    [theme=dark] .colab-df-convert:hover {\n",
              "      background-color: #434B5C;\n",
              "      box-shadow: 0px 1px 3px 1px rgba(0, 0, 0, 0.15);\n",
              "      filter: drop-shadow(0px 1px 2px rgba(0, 0, 0, 0.3));\n",
              "      fill: #FFFFFF;\n",
              "    }\n",
              "  </style>\n",
              "\n",
              "      <script>\n",
              "        const buttonEl =\n",
              "          document.querySelector('#df-10be38eb-09e1-473c-a881-5d266cecbc08 button.colab-df-convert');\n",
              "        buttonEl.style.display =\n",
              "          google.colab.kernel.accessAllowed ? 'block' : 'none';\n",
              "\n",
              "        async function convertToInteractive(key) {\n",
              "          const element = document.querySelector('#df-10be38eb-09e1-473c-a881-5d266cecbc08');\n",
              "          const dataTable =\n",
              "            await google.colab.kernel.invokeFunction('convertToInteractive',\n",
              "                                                     [key], {});\n",
              "          if (!dataTable) return;\n",
              "\n",
              "          const docLinkHtml = 'Like what you see? Visit the ' +\n",
              "            '<a target=\"_blank\" href=https://colab.research.google.com/notebooks/data_table.ipynb>data table notebook</a>'\n",
              "            + ' to learn more about interactive tables.';\n",
              "          element.innerHTML = '';\n",
              "          dataTable['output_type'] = 'display_data';\n",
              "          await google.colab.output.renderOutput(dataTable, element);\n",
              "          const docLink = document.createElement('div');\n",
              "          docLink.innerHTML = docLinkHtml;\n",
              "          element.appendChild(docLink);\n",
              "        }\n",
              "      </script>\n",
              "    </div>\n",
              "  </div>\n",
              "  "
            ]
          },
          "metadata": {},
          "execution_count": 51
        }
      ]
    },
    {
      "cell_type": "code",
      "source": [
        "y.head()"
      ],
      "metadata": {
        "colab": {
          "base_uri": "https://localhost:8080/"
        },
        "id": "vHBWb3-p5xoD",
        "outputId": "7a09d661-3d7d-4577-a294-a7b769b86bf6"
      },
      "execution_count": null,
      "outputs": [
        {
          "output_type": "execute_result",
          "data": {
            "text/plain": [
              "0    16884.92400\n",
              "1     1725.55230\n",
              "2     4449.46200\n",
              "3    21984.47061\n",
              "4     3866.85520\n",
              "Name: charges, dtype: float64"
            ]
          },
          "metadata": {},
          "execution_count": 52
        }
      ]
    },
    {
      "cell_type": "code",
      "source": [
        "from sklearn.model_selection import train_test_split\n",
        "X_train, X_test, y_train, y_test = train_test_split(X,y, test_size=0.2, random_state=42)\n",
        "len(X), len(X_train), len(X_test)"
      ],
      "metadata": {
        "colab": {
          "base_uri": "https://localhost:8080/"
        },
        "id": "EOJt7mZ250E8",
        "outputId": "0d560003-557e-4c6b-fdf8-f188c6961dc2"
      },
      "execution_count": null,
      "outputs": [
        {
          "output_type": "execute_result",
          "data": {
            "text/plain": [
              "(1338, 1070, 268)"
            ]
          },
          "metadata": {},
          "execution_count": 53
        }
      ]
    },
    {
      "cell_type": "code",
      "source": [
        "tf.random.set_seed(42)\n",
        "\n",
        "insurance_model = tf.keras.Sequential([\n",
        "                                       tf.keras.layers.Dense(10),\n",
        "                                       tf.keras.layers.Dense(1)\n",
        "])\n",
        "insurance_model.compile(loss=tf.keras.losses.mae,\n",
        "                        optimizer=tf.keras.optimizers.SGD(),\n",
        "                        metrics=[\"mae\"])\n",
        "insurance_model.fit(X_train, y_train, epochs=100, verbose=0)"
      ],
      "metadata": {
        "colab": {
          "base_uri": "https://localhost:8080/"
        },
        "id": "2XfGUnCQ6PPK",
        "outputId": "27fd7325-9647-4c00-b231-8694e8ebbe3a"
      },
      "execution_count": null,
      "outputs": [
        {
          "output_type": "execute_result",
          "data": {
            "text/plain": [
              "<keras.callbacks.History at 0x7fcd851cd050>"
            ]
          },
          "metadata": {},
          "execution_count": 54
        }
      ]
    },
    {
      "cell_type": "code",
      "source": [
        "insurance_model.evaluate(X_test, y_test)"
      ],
      "metadata": {
        "colab": {
          "base_uri": "https://localhost:8080/"
        },
        "id": "qQkjV4Yd8D_Z",
        "outputId": "cd36bb94-51ec-4270-d57e-a33320b3b929"
      },
      "execution_count": null,
      "outputs": [
        {
          "output_type": "stream",
          "name": "stdout",
          "text": [
            "9/9 [==============================] - 0s 2ms/step - loss: 7023.3291 - mae: 7023.3291\n"
          ]
        },
        {
          "output_type": "execute_result",
          "data": {
            "text/plain": [
              "[7023.3291015625, 7023.3291015625]"
            ]
          },
          "metadata": {},
          "execution_count": 55
        }
      ]
    },
    {
      "cell_type": "code",
      "source": [
        "tf.random.set_seed(42)\n",
        "\n",
        "insurance_model_2 = tf.keras.Sequential([\n",
        "                                         tf.keras.layers.Dense(100),\n",
        "                                         tf.keras.layers.Dense(10),\n",
        "                                         tf.keras.layers.Dense(1)\n",
        "])\n",
        "insurance_model_2.compile(loss=tf.keras.losses.mae,\n",
        "                          optimizer=tf.keras.optimizers.Adam(),\n",
        "                          metrics=[\"mae\"])\n",
        "insurance_model_2.fit(X_train, y_train, epochs=100, verbose=0)"
      ],
      "metadata": {
        "colab": {
          "base_uri": "https://localhost:8080/"
        },
        "id": "-BANgMiz8b3u",
        "outputId": "3d9043cc-b679-4d63-e542-f410a0de1429"
      },
      "execution_count": null,
      "outputs": [
        {
          "output_type": "execute_result",
          "data": {
            "text/plain": [
              "<keras.callbacks.History at 0x7fcd8509aa50>"
            ]
          },
          "metadata": {},
          "execution_count": 56
        }
      ]
    },
    {
      "cell_type": "code",
      "source": [
        "insurance_model_2.evaluate(X_test, y_test)"
      ],
      "metadata": {
        "colab": {
          "base_uri": "https://localhost:8080/"
        },
        "id": "R6CUb-g8-kYn",
        "outputId": "26651b1d-3dd2-4c67-92b7-660e0993fabb"
      },
      "execution_count": null,
      "outputs": [
        {
          "output_type": "stream",
          "name": "stdout",
          "text": [
            "9/9 [==============================] - 0s 3ms/step - loss: 4924.3477 - mae: 4924.3477\n"
          ]
        },
        {
          "output_type": "execute_result",
          "data": {
            "text/plain": [
              "[4924.34765625, 4924.34765625]"
            ]
          },
          "metadata": {},
          "execution_count": 57
        }
      ]
    },
    {
      "cell_type": "code",
      "source": [
        "tf.random.set_seed(42)\n",
        "\n",
        "insurance_model_3=tf.keras.Sequential([\n",
        "                                       tf.keras.layers.Dense(100),\n",
        "                                       tf.keras.layers.Dense(10),\n",
        "                                       tf.keras.layers.Dense(1)\n",
        "])\n",
        "insurance_model_3.compile(loss=tf.keras.losses.mae,\n",
        "                          optimizer=tf.keras.optimizers.Adam(),\n",
        "                          metrics=[\"mae\"])\n",
        "history=insurance_model_3.fit(X_train,y_train, epochs=200)"
      ],
      "metadata": {
        "colab": {
          "base_uri": "https://localhost:8080/"
        },
        "id": "2FEXKCi3-2ol",
        "outputId": "2941e93a-baf4-4481-e1fc-f8fec6bef036"
      },
      "execution_count": null,
      "outputs": [
        {
          "output_type": "stream",
          "name": "stdout",
          "text": [
            "Epoch 1/200\n",
            "34/34 [==============================] - 1s 3ms/step - loss: 13273.1602 - mae: 13273.1602\n",
            "Epoch 2/200\n",
            "34/34 [==============================] - 0s 3ms/step - loss: 13104.4297 - mae: 13104.4297\n",
            "Epoch 3/200\n",
            "34/34 [==============================] - 0s 5ms/step - loss: 12749.5420 - mae: 12749.5420\n",
            "Epoch 4/200\n",
            "34/34 [==============================] - 0s 6ms/step - loss: 12055.7500 - mae: 12055.7500\n",
            "Epoch 5/200\n",
            "34/34 [==============================] - 0s 7ms/step - loss: 10905.8154 - mae: 10905.8154\n",
            "Epoch 6/200\n",
            "34/34 [==============================] - 0s 10ms/step - loss: 9457.7217 - mae: 9457.7217\n",
            "Epoch 7/200\n",
            "34/34 [==============================] - 0s 8ms/step - loss: 8147.6543 - mae: 8147.6543\n",
            "Epoch 8/200\n",
            "34/34 [==============================] - 0s 5ms/step - loss: 7528.8413 - mae: 7528.8413\n",
            "Epoch 9/200\n",
            "34/34 [==============================] - 0s 2ms/step - loss: 7429.1528 - mae: 7429.1528\n",
            "Epoch 10/200\n",
            "34/34 [==============================] - 0s 2ms/step - loss: 7409.0811 - mae: 7409.0811\n",
            "Epoch 11/200\n",
            "34/34 [==============================] - 0s 2ms/step - loss: 7390.8042 - mae: 7390.8042\n",
            "Epoch 12/200\n",
            "34/34 [==============================] - 0s 5ms/step - loss: 7368.9170 - mae: 7368.9170\n",
            "Epoch 13/200\n",
            "34/34 [==============================] - 0s 2ms/step - loss: 7348.5190 - mae: 7348.5190\n",
            "Epoch 14/200\n",
            "34/34 [==============================] - 0s 2ms/step - loss: 7326.4893 - mae: 7326.4893\n",
            "Epoch 15/200\n",
            "34/34 [==============================] - 0s 5ms/step - loss: 7307.5811 - mae: 7307.5811\n",
            "Epoch 16/200\n",
            "34/34 [==============================] - 0s 3ms/step - loss: 7285.7734 - mae: 7285.7734\n",
            "Epoch 17/200\n",
            "34/34 [==============================] - 0s 2ms/step - loss: 7265.7104 - mae: 7265.7104\n",
            "Epoch 18/200\n",
            "34/34 [==============================] - 0s 3ms/step - loss: 7242.5488 - mae: 7242.5488\n",
            "Epoch 19/200\n",
            "34/34 [==============================] - 0s 2ms/step - loss: 7220.5068 - mae: 7220.5068\n",
            "Epoch 20/200\n",
            "34/34 [==============================] - 0s 2ms/step - loss: 7197.1978 - mae: 7197.1978\n",
            "Epoch 21/200\n",
            "34/34 [==============================] - 0s 4ms/step - loss: 7179.0195 - mae: 7179.0195\n",
            "Epoch 22/200\n",
            "34/34 [==============================] - 0s 4ms/step - loss: 7151.2104 - mae: 7151.2104\n",
            "Epoch 23/200\n",
            "34/34 [==============================] - 0s 2ms/step - loss: 7126.4639 - mae: 7126.4639\n",
            "Epoch 24/200\n",
            "34/34 [==============================] - 0s 2ms/step - loss: 7101.9199 - mae: 7101.9199\n",
            "Epoch 25/200\n",
            "34/34 [==============================] - 0s 3ms/step - loss: 7084.3379 - mae: 7084.3379\n",
            "Epoch 26/200\n",
            "34/34 [==============================] - 0s 2ms/step - loss: 7052.3291 - mae: 7052.3291\n",
            "Epoch 27/200\n",
            "34/34 [==============================] - 0s 2ms/step - loss: 7024.3511 - mae: 7024.3511\n",
            "Epoch 28/200\n",
            "34/34 [==============================] - 0s 4ms/step - loss: 6996.6963 - mae: 6996.6963\n",
            "Epoch 29/200\n",
            "34/34 [==============================] - 0s 5ms/step - loss: 6969.0112 - mae: 6969.0112\n",
            "Epoch 30/200\n",
            "34/34 [==============================] - 0s 3ms/step - loss: 6942.1899 - mae: 6942.1899\n",
            "Epoch 31/200\n",
            "34/34 [==============================] - 0s 2ms/step - loss: 6911.7280 - mae: 6911.7280\n",
            "Epoch 32/200\n",
            "34/34 [==============================] - 0s 2ms/step - loss: 6884.0205 - mae: 6884.0205\n",
            "Epoch 33/200\n",
            "34/34 [==============================] - 0s 4ms/step - loss: 6853.4648 - mae: 6853.4648\n",
            "Epoch 34/200\n",
            "34/34 [==============================] - 0s 4ms/step - loss: 6823.0674 - mae: 6823.0674\n",
            "Epoch 35/200\n",
            "34/34 [==============================] - 0s 3ms/step - loss: 6789.6855 - mae: 6789.6855\n",
            "Epoch 36/200\n",
            "34/34 [==============================] - 0s 2ms/step - loss: 6755.7646 - mae: 6755.7646\n",
            "Epoch 37/200\n",
            "34/34 [==============================] - 0s 5ms/step - loss: 6720.2026 - mae: 6720.2026\n",
            "Epoch 38/200\n",
            "34/34 [==============================] - 0s 4ms/step - loss: 6689.7158 - mae: 6689.7158\n",
            "Epoch 39/200\n",
            "34/34 [==============================] - 0s 4ms/step - loss: 6652.4609 - mae: 6652.4609\n",
            "Epoch 40/200\n",
            "34/34 [==============================] - 0s 3ms/step - loss: 6618.1016 - mae: 6618.1016\n",
            "Epoch 41/200\n",
            "34/34 [==============================] - 0s 2ms/step - loss: 6585.8633 - mae: 6585.8633\n",
            "Epoch 42/200\n",
            "34/34 [==============================] - 0s 2ms/step - loss: 6559.4956 - mae: 6559.4956\n",
            "Epoch 43/200\n",
            "34/34 [==============================] - 0s 6ms/step - loss: 6530.0439 - mae: 6530.0439\n",
            "Epoch 44/200\n",
            "34/34 [==============================] - 0s 4ms/step - loss: 6506.8066 - mae: 6506.8066\n",
            "Epoch 45/200\n",
            "34/34 [==============================] - 0s 3ms/step - loss: 6493.5718 - mae: 6493.5718\n",
            "Epoch 46/200\n",
            "34/34 [==============================] - 0s 4ms/step - loss: 6475.9258 - mae: 6475.9258\n",
            "Epoch 47/200\n",
            "34/34 [==============================] - 0s 4ms/step - loss: 6458.8979 - mae: 6458.8979\n",
            "Epoch 48/200\n",
            "34/34 [==============================] - 0s 3ms/step - loss: 6445.1494 - mae: 6445.1494\n",
            "Epoch 49/200\n",
            "34/34 [==============================] - 0s 2ms/step - loss: 6430.9639 - mae: 6430.9639\n",
            "Epoch 50/200\n",
            "34/34 [==============================] - 0s 2ms/step - loss: 6417.7510 - mae: 6417.7510\n",
            "Epoch 51/200\n",
            "34/34 [==============================] - 0s 6ms/step - loss: 6403.2759 - mae: 6403.2759\n",
            "Epoch 52/200\n",
            "34/34 [==============================] - 0s 5ms/step - loss: 6392.4141 - mae: 6392.4141\n",
            "Epoch 53/200\n",
            "34/34 [==============================] - 0s 2ms/step - loss: 6378.7451 - mae: 6378.7451\n",
            "Epoch 54/200\n",
            "34/34 [==============================] - 0s 2ms/step - loss: 6364.9131 - mae: 6364.9131\n",
            "Epoch 55/200\n",
            "34/34 [==============================] - 0s 6ms/step - loss: 6351.5273 - mae: 6351.5273\n",
            "Epoch 56/200\n",
            "34/34 [==============================] - 0s 4ms/step - loss: 6337.6602 - mae: 6337.6602\n",
            "Epoch 57/200\n",
            "34/34 [==============================] - 0s 5ms/step - loss: 6324.8369 - mae: 6324.8369\n",
            "Epoch 58/200\n",
            "34/34 [==============================] - 0s 4ms/step - loss: 6310.1943 - mae: 6310.1943\n",
            "Epoch 59/200\n",
            "34/34 [==============================] - 0s 4ms/step - loss: 6295.6035 - mae: 6295.6035\n",
            "Epoch 60/200\n",
            "34/34 [==============================] - 0s 3ms/step - loss: 6284.8696 - mae: 6284.8696\n",
            "Epoch 61/200\n",
            "34/34 [==============================] - 0s 2ms/step - loss: 6265.6411 - mae: 6265.6411\n",
            "Epoch 62/200\n",
            "34/34 [==============================] - 0s 5ms/step - loss: 6253.0112 - mae: 6253.0112\n",
            "Epoch 63/200\n",
            "34/34 [==============================] - 0s 2ms/step - loss: 6234.9292 - mae: 6234.9292\n",
            "Epoch 64/200\n",
            "34/34 [==============================] - 0s 3ms/step - loss: 6218.0435 - mae: 6218.0435\n",
            "Epoch 65/200\n",
            "34/34 [==============================] - 0s 2ms/step - loss: 6201.1899 - mae: 6201.1899\n",
            "Epoch 66/200\n",
            "34/34 [==============================] - 0s 3ms/step - loss: 6183.9590 - mae: 6183.9590\n",
            "Epoch 67/200\n",
            "34/34 [==============================] - 0s 2ms/step - loss: 6171.2993 - mae: 6171.2993\n",
            "Epoch 68/200\n",
            "34/34 [==============================] - 0s 2ms/step - loss: 6148.8398 - mae: 6148.8398\n",
            "Epoch 69/200\n",
            "34/34 [==============================] - 0s 2ms/step - loss: 6132.5981 - mae: 6132.5981\n",
            "Epoch 70/200\n",
            "34/34 [==============================] - 0s 2ms/step - loss: 6112.3853 - mae: 6112.3853\n",
            "Epoch 71/200\n",
            "34/34 [==============================] - 0s 2ms/step - loss: 6092.7202 - mae: 6092.7202\n",
            "Epoch 72/200\n",
            "34/34 [==============================] - 0s 2ms/step - loss: 6073.7422 - mae: 6073.7422\n",
            "Epoch 73/200\n",
            "34/34 [==============================] - 0s 3ms/step - loss: 6059.4873 - mae: 6059.4873\n",
            "Epoch 74/200\n",
            "34/34 [==============================] - 0s 2ms/step - loss: 6031.3848 - mae: 6031.3848\n",
            "Epoch 75/200\n",
            "34/34 [==============================] - 0s 4ms/step - loss: 6010.3350 - mae: 6010.3350\n",
            "Epoch 76/200\n",
            "34/34 [==============================] - 0s 5ms/step - loss: 5995.2178 - mae: 5995.2178\n",
            "Epoch 77/200\n",
            "34/34 [==============================] - 0s 6ms/step - loss: 5963.0723 - mae: 5963.0723\n",
            "Epoch 78/200\n",
            "34/34 [==============================] - 0s 5ms/step - loss: 5940.0605 - mae: 5940.0605\n",
            "Epoch 79/200\n",
            "34/34 [==============================] - 0s 3ms/step - loss: 5915.1064 - mae: 5915.1064\n",
            "Epoch 80/200\n",
            "34/34 [==============================] - 0s 2ms/step - loss: 5887.9990 - mae: 5887.9990\n",
            "Epoch 81/200\n",
            "34/34 [==============================] - 0s 4ms/step - loss: 5861.6992 - mae: 5861.6992\n",
            "Epoch 82/200\n",
            "34/34 [==============================] - 0s 6ms/step - loss: 5834.3066 - mae: 5834.3066\n",
            "Epoch 83/200\n",
            "34/34 [==============================] - 0s 4ms/step - loss: 5805.8237 - mae: 5805.8237\n",
            "Epoch 84/200\n",
            "34/34 [==============================] - 0s 4ms/step - loss: 5772.3232 - mae: 5772.3232\n",
            "Epoch 85/200\n",
            "34/34 [==============================] - 0s 2ms/step - loss: 5745.1514 - mae: 5745.1514\n",
            "Epoch 86/200\n",
            "34/34 [==============================] - 0s 5ms/step - loss: 5711.3477 - mae: 5711.3477\n",
            "Epoch 87/200\n",
            "34/34 [==============================] - 0s 5ms/step - loss: 5674.5215 - mae: 5674.5215\n",
            "Epoch 88/200\n",
            "34/34 [==============================] - 0s 4ms/step - loss: 5639.4927 - mae: 5639.4927\n",
            "Epoch 89/200\n",
            "34/34 [==============================] - 0s 4ms/step - loss: 5600.6655 - mae: 5600.6655\n",
            "Epoch 90/200\n",
            "34/34 [==============================] - 0s 2ms/step - loss: 5559.4326 - mae: 5559.4326\n",
            "Epoch 91/200\n",
            "34/34 [==============================] - 0s 2ms/step - loss: 5523.6187 - mae: 5523.6187\n",
            "Epoch 92/200\n",
            "34/34 [==============================] - 0s 4ms/step - loss: 5474.1250 - mae: 5474.1250\n",
            "Epoch 93/200\n",
            "34/34 [==============================] - 0s 5ms/step - loss: 5432.2656 - mae: 5432.2656\n",
            "Epoch 94/200\n",
            "34/34 [==============================] - 0s 2ms/step - loss: 5386.0527 - mae: 5386.0527\n",
            "Epoch 95/200\n",
            "34/34 [==============================] - 0s 2ms/step - loss: 5333.1812 - mae: 5333.1812\n",
            "Epoch 96/200\n",
            "34/34 [==============================] - 0s 2ms/step - loss: 5288.8159 - mae: 5288.8159\n",
            "Epoch 97/200\n",
            "34/34 [==============================] - 0s 4ms/step - loss: 5234.6792 - mae: 5234.6792\n",
            "Epoch 98/200\n",
            "34/34 [==============================] - 0s 4ms/step - loss: 5170.9360 - mae: 5170.9360\n",
            "Epoch 99/200\n",
            "34/34 [==============================] - 0s 4ms/step - loss: 5112.9443 - mae: 5112.9443\n",
            "Epoch 100/200\n",
            "34/34 [==============================] - 0s 3ms/step - loss: 5059.8643 - mae: 5059.8643\n",
            "Epoch 101/200\n",
            "34/34 [==============================] - 0s 4ms/step - loss: 4987.6191 - mae: 4987.6191\n",
            "Epoch 102/200\n",
            "34/34 [==============================] - 0s 4ms/step - loss: 4915.2905 - mae: 4915.2905\n",
            "Epoch 103/200\n",
            "34/34 [==============================] - 0s 5ms/step - loss: 4847.3604 - mae: 4847.3604\n",
            "Epoch 104/200\n",
            "34/34 [==============================] - 0s 4ms/step - loss: 4768.0151 - mae: 4768.0151\n",
            "Epoch 105/200\n",
            "34/34 [==============================] - 0s 2ms/step - loss: 4683.4727 - mae: 4683.4727\n",
            "Epoch 106/200\n",
            "34/34 [==============================] - 0s 2ms/step - loss: 4600.5054 - mae: 4600.5054\n",
            "Epoch 107/200\n",
            "34/34 [==============================] - 0s 4ms/step - loss: 4513.1436 - mae: 4513.1436\n",
            "Epoch 108/200\n",
            "34/34 [==============================] - 0s 3ms/step - loss: 4422.2983 - mae: 4422.2983\n",
            "Epoch 109/200\n",
            "34/34 [==============================] - 0s 2ms/step - loss: 4339.9600 - mae: 4339.9600\n",
            "Epoch 110/200\n",
            "34/34 [==============================] - 0s 4ms/step - loss: 4254.3916 - mae: 4254.3916\n",
            "Epoch 111/200\n",
            "34/34 [==============================] - 0s 2ms/step - loss: 4173.1797 - mae: 4173.1797\n",
            "Epoch 112/200\n",
            "34/34 [==============================] - 0s 2ms/step - loss: 4102.2944 - mae: 4102.2944\n",
            "Epoch 113/200\n",
            "34/34 [==============================] - 0s 3ms/step - loss: 4031.9590 - mae: 4031.9590\n",
            "Epoch 114/200\n",
            "34/34 [==============================] - 0s 3ms/step - loss: 3986.0220 - mae: 3986.0220\n",
            "Epoch 115/200\n",
            "34/34 [==============================] - 0s 2ms/step - loss: 3943.2346 - mae: 3943.2346\n",
            "Epoch 116/200\n",
            "34/34 [==============================] - 0s 2ms/step - loss: 3918.8977 - mae: 3918.8977\n",
            "Epoch 117/200\n",
            "34/34 [==============================] - 0s 4ms/step - loss: 3895.5610 - mae: 3895.5610\n",
            "Epoch 118/200\n",
            "34/34 [==============================] - 0s 4ms/step - loss: 3869.5679 - mae: 3869.5679\n",
            "Epoch 119/200\n",
            "34/34 [==============================] - 0s 5ms/step - loss: 3850.2136 - mae: 3850.2136\n",
            "Epoch 120/200\n",
            "34/34 [==============================] - 0s 4ms/step - loss: 3834.7349 - mae: 3834.7349\n",
            "Epoch 121/200\n",
            "34/34 [==============================] - 0s 5ms/step - loss: 3827.0952 - mae: 3827.0952\n",
            "Epoch 122/200\n",
            "34/34 [==============================] - 0s 5ms/step - loss: 3821.6382 - mae: 3821.6382\n",
            "Epoch 123/200\n",
            "34/34 [==============================] - 0s 5ms/step - loss: 3813.8315 - mae: 3813.8315\n",
            "Epoch 124/200\n",
            "34/34 [==============================] - 0s 4ms/step - loss: 3805.7307 - mae: 3805.7307\n",
            "Epoch 125/200\n",
            "34/34 [==============================] - 0s 4ms/step - loss: 3794.7085 - mae: 3794.7085\n",
            "Epoch 126/200\n",
            "34/34 [==============================] - 0s 4ms/step - loss: 3804.4946 - mae: 3804.4946\n",
            "Epoch 127/200\n",
            "34/34 [==============================] - 0s 4ms/step - loss: 3796.0596 - mae: 3796.0596\n",
            "Epoch 128/200\n",
            "34/34 [==============================] - 0s 5ms/step - loss: 3791.0422 - mae: 3791.0422\n",
            "Epoch 129/200\n",
            "34/34 [==============================] - 0s 4ms/step - loss: 3800.0696 - mae: 3800.0696\n",
            "Epoch 130/200\n",
            "34/34 [==============================] - 0s 3ms/step - loss: 3788.5005 - mae: 3788.5005\n",
            "Epoch 131/200\n",
            "34/34 [==============================] - 0s 2ms/step - loss: 3780.8442 - mae: 3780.8442\n",
            "Epoch 132/200\n",
            "34/34 [==============================] - 0s 3ms/step - loss: 3774.5413 - mae: 3774.5413\n",
            "Epoch 133/200\n",
            "34/34 [==============================] - 0s 3ms/step - loss: 3771.0156 - mae: 3771.0156\n",
            "Epoch 134/200\n",
            "34/34 [==============================] - 0s 4ms/step - loss: 3769.3762 - mae: 3769.3762\n",
            "Epoch 135/200\n",
            "34/34 [==============================] - 0s 3ms/step - loss: 3766.7612 - mae: 3766.7612\n",
            "Epoch 136/200\n",
            "34/34 [==============================] - 0s 3ms/step - loss: 3765.5510 - mae: 3765.5510\n",
            "Epoch 137/200\n",
            "34/34 [==============================] - 0s 5ms/step - loss: 3774.5034 - mae: 3774.5034\n",
            "Epoch 138/200\n",
            "34/34 [==============================] - 0s 2ms/step - loss: 3785.3909 - mae: 3785.3909\n",
            "Epoch 139/200\n",
            "34/34 [==============================] - 0s 2ms/step - loss: 3761.1299 - mae: 3761.1299\n",
            "Epoch 140/200\n",
            "34/34 [==============================] - 0s 2ms/step - loss: 3764.1753 - mae: 3764.1753\n",
            "Epoch 141/200\n",
            "34/34 [==============================] - 0s 4ms/step - loss: 3763.9250 - mae: 3763.9250\n",
            "Epoch 142/200\n",
            "34/34 [==============================] - 0s 4ms/step - loss: 3762.7959 - mae: 3762.7959\n",
            "Epoch 143/200\n",
            "34/34 [==============================] - 0s 4ms/step - loss: 3754.4397 - mae: 3754.4397\n",
            "Epoch 144/200\n",
            "34/34 [==============================] - 0s 4ms/step - loss: 3750.3347 - mae: 3750.3347\n",
            "Epoch 145/200\n",
            "34/34 [==============================] - 0s 4ms/step - loss: 3750.4006 - mae: 3750.4006\n",
            "Epoch 146/200\n",
            "34/34 [==============================] - 0s 5ms/step - loss: 3755.4736 - mae: 3755.4736\n",
            "Epoch 147/200\n",
            "34/34 [==============================] - 0s 4ms/step - loss: 3750.3223 - mae: 3750.3223\n",
            "Epoch 148/200\n",
            "34/34 [==============================] - 0s 5ms/step - loss: 3758.1089 - mae: 3758.1089\n",
            "Epoch 149/200\n",
            "34/34 [==============================] - 0s 3ms/step - loss: 3743.4858 - mae: 3743.4858\n",
            "Epoch 150/200\n",
            "34/34 [==============================] - 0s 2ms/step - loss: 3738.5342 - mae: 3738.5342\n",
            "Epoch 151/200\n",
            "34/34 [==============================] - 0s 4ms/step - loss: 3740.1384 - mae: 3740.1384\n",
            "Epoch 152/200\n",
            "34/34 [==============================] - 0s 6ms/step - loss: 3742.4954 - mae: 3742.4954\n",
            "Epoch 153/200\n",
            "34/34 [==============================] - 0s 4ms/step - loss: 3744.4395 - mae: 3744.4395\n",
            "Epoch 154/200\n",
            "34/34 [==============================] - 0s 4ms/step - loss: 3737.1826 - mae: 3737.1826\n",
            "Epoch 155/200\n",
            "34/34 [==============================] - 0s 2ms/step - loss: 3737.6541 - mae: 3737.6541\n",
            "Epoch 156/200\n",
            "34/34 [==============================] - 0s 2ms/step - loss: 3737.1663 - mae: 3737.1663\n",
            "Epoch 157/200\n",
            "34/34 [==============================] - 0s 2ms/step - loss: 3733.1101 - mae: 3733.1101\n",
            "Epoch 158/200\n",
            "34/34 [==============================] - 0s 4ms/step - loss: 3729.5813 - mae: 3729.5813\n",
            "Epoch 159/200\n",
            "34/34 [==============================] - 0s 4ms/step - loss: 3725.9053 - mae: 3725.9053\n",
            "Epoch 160/200\n",
            "34/34 [==============================] - 0s 3ms/step - loss: 3733.2822 - mae: 3733.2822\n",
            "Epoch 161/200\n",
            "34/34 [==============================] - 0s 2ms/step - loss: 3728.2559 - mae: 3728.2559\n",
            "Epoch 162/200\n",
            "34/34 [==============================] - 0s 2ms/step - loss: 3724.5825 - mae: 3724.5825\n",
            "Epoch 163/200\n",
            "34/34 [==============================] - 0s 3ms/step - loss: 3723.0806 - mae: 3723.0806\n",
            "Epoch 164/200\n",
            "34/34 [==============================] - 0s 2ms/step - loss: 3726.9475 - mae: 3726.9475\n",
            "Epoch 165/200\n",
            "34/34 [==============================] - 0s 2ms/step - loss: 3716.5430 - mae: 3716.5430\n",
            "Epoch 166/200\n",
            "34/34 [==============================] - 0s 3ms/step - loss: 3721.9155 - mae: 3721.9155\n",
            "Epoch 167/200\n",
            "34/34 [==============================] - 0s 2ms/step - loss: 3721.1814 - mae: 3721.1814\n",
            "Epoch 168/200\n",
            "34/34 [==============================] - 0s 2ms/step - loss: 3715.2458 - mae: 3715.2458\n",
            "Epoch 169/200\n",
            "34/34 [==============================] - 0s 2ms/step - loss: 3713.9756 - mae: 3713.9756\n",
            "Epoch 170/200\n",
            "34/34 [==============================] - 0s 2ms/step - loss: 3707.9922 - mae: 3707.9922\n",
            "Epoch 171/200\n",
            "34/34 [==============================] - 0s 2ms/step - loss: 3707.4158 - mae: 3707.4158\n",
            "Epoch 172/200\n",
            "34/34 [==============================] - 0s 2ms/step - loss: 3710.6833 - mae: 3710.6833\n",
            "Epoch 173/200\n",
            "34/34 [==============================] - 0s 3ms/step - loss: 3703.3618 - mae: 3703.3618\n",
            "Epoch 174/200\n",
            "34/34 [==============================] - 0s 2ms/step - loss: 3710.9385 - mae: 3710.9385\n",
            "Epoch 175/200\n",
            "34/34 [==============================] - 0s 2ms/step - loss: 3713.0417 - mae: 3713.0417\n",
            "Epoch 176/200\n",
            "34/34 [==============================] - 0s 2ms/step - loss: 3705.0571 - mae: 3705.0571\n",
            "Epoch 177/200\n",
            "34/34 [==============================] - 0s 2ms/step - loss: 3698.9333 - mae: 3698.9333\n",
            "Epoch 178/200\n",
            "34/34 [==============================] - 0s 3ms/step - loss: 3697.9983 - mae: 3697.9983\n",
            "Epoch 179/200\n",
            "34/34 [==============================] - 0s 2ms/step - loss: 3704.9150 - mae: 3704.9150\n",
            "Epoch 180/200\n",
            "34/34 [==============================] - 0s 3ms/step - loss: 3710.3679 - mae: 3710.3679\n",
            "Epoch 181/200\n",
            "34/34 [==============================] - 0s 3ms/step - loss: 3696.6482 - mae: 3696.6482\n",
            "Epoch 182/200\n",
            "34/34 [==============================] - 0s 5ms/step - loss: 3692.7329 - mae: 3692.7329\n",
            "Epoch 183/200\n",
            "34/34 [==============================] - 0s 4ms/step - loss: 3691.1655 - mae: 3691.1655\n",
            "Epoch 184/200\n",
            "34/34 [==============================] - 0s 4ms/step - loss: 3699.2437 - mae: 3699.2437\n",
            "Epoch 185/200\n",
            "34/34 [==============================] - 0s 2ms/step - loss: 3693.2480 - mae: 3693.2480\n",
            "Epoch 186/200\n",
            "34/34 [==============================] - 0s 2ms/step - loss: 3696.1389 - mae: 3696.1389\n",
            "Epoch 187/200\n",
            "34/34 [==============================] - 0s 2ms/step - loss: 3687.8640 - mae: 3687.8640\n",
            "Epoch 188/200\n",
            "34/34 [==============================] - 0s 5ms/step - loss: 3693.3562 - mae: 3693.3562\n",
            "Epoch 189/200\n",
            "34/34 [==============================] - 0s 7ms/step - loss: 3682.7324 - mae: 3682.7324\n",
            "Epoch 190/200\n",
            "34/34 [==============================] - 0s 5ms/step - loss: 3683.2891 - mae: 3683.2891\n",
            "Epoch 191/200\n",
            "34/34 [==============================] - 0s 4ms/step - loss: 3697.6536 - mae: 3697.6536\n",
            "Epoch 192/200\n",
            "34/34 [==============================] - 0s 2ms/step - loss: 3684.6665 - mae: 3684.6665\n",
            "Epoch 193/200\n",
            "34/34 [==============================] - 0s 3ms/step - loss: 3675.5154 - mae: 3675.5154\n",
            "Epoch 194/200\n",
            "34/34 [==============================] - 0s 4ms/step - loss: 3676.3923 - mae: 3676.3923\n",
            "Epoch 195/200\n",
            "34/34 [==============================] - 0s 5ms/step - loss: 3672.8452 - mae: 3672.8452\n",
            "Epoch 196/200\n",
            "34/34 [==============================] - 0s 5ms/step - loss: 3682.0283 - mae: 3682.0283\n",
            "Epoch 197/200\n",
            "34/34 [==============================] - 0s 5ms/step - loss: 3665.7961 - mae: 3665.7961\n",
            "Epoch 198/200\n",
            "34/34 [==============================] - 0s 6ms/step - loss: 3671.7419 - mae: 3671.7419\n",
            "Epoch 199/200\n",
            "34/34 [==============================] - 0s 4ms/step - loss: 3680.5464 - mae: 3680.5464\n",
            "Epoch 200/200\n",
            "34/34 [==============================] - 0s 4ms/step - loss: 3665.6401 - mae: 3665.6401\n"
          ]
        }
      ]
    },
    {
      "cell_type": "code",
      "source": [
        "pd.DataFrame(history.history).plot()\n",
        "plt.ylabel(\"loss\")\n",
        "plt.xlabel(\"epochs\")"
      ],
      "metadata": {
        "colab": {
          "base_uri": "https://localhost:8080/",
          "height": 296
        },
        "id": "d4mFJE5zASQ2",
        "outputId": "baa8b074-4c78-487d-99de-6785e7bd7fc3"
      },
      "execution_count": null,
      "outputs": [
        {
          "output_type": "execute_result",
          "data": {
            "text/plain": [
              "Text(0.5, 0, 'epochs')"
            ]
          },
          "metadata": {},
          "execution_count": 59
        },
        {
          "output_type": "display_data",
          "data": {
            "text/plain": [
              "<Figure size 432x288 with 1 Axes>"
            ],
            "image/png": "[encoded data removed]"
          },
          "metadata": {
            "needs_background": "light"
          }
        }
      ]
    },
    {
      "cell_type": "code",
      "source": [
        "insurance=pd.read_csv(\"https://raw.githubusercontent.com/stedy/Machine-Learning-with-R-datasets/master/insurance.csv\")\n",
        "insurance "
      ],
      "metadata": {
        "id": "KwlLkZirA30I",
        "colab": {
          "base_uri": "https://localhost:8080/",
          "height": 424
        },
        "outputId": "5bd48fe0-04fa-48ef-d379-962fc17e2b87"
      },
      "execution_count": null,
      "outputs": [
        {
          "output_type": "execute_result",
          "data": {
            "text/plain": [
              "      age     sex     bmi  children smoker     region      charges\n",
              "0      19  female  27.900         0    yes  southwest  16884.92400\n",
              "1      18    male  33.770         1     no  southeast   1725.55230\n",
              "2      28    male  33.000         3     no  southeast   4449.46200\n",
              "3      33    male  22.705         0     no  northwest  21984.47061\n",
              "4      32    male  28.880         0     no  northwest   3866.85520\n",
              "...   ...     ...     ...       ...    ...        ...          ...\n",
              "1333   50    male  30.970         3     no  northwest  10600.54830\n",
              "1334   18  female  31.920         0     no  northeast   2205.98080\n",
              "1335   18  female  36.850         0     no  southeast   1629.83350\n",
              "1336   21  female  25.800         0     no  southwest   2007.94500\n",
              "1337   61  female  29.070         0    yes  northwest  29141.36030\n",
              "\n",
              "[1338 rows x 7 columns]"
            ],
            "text/html": [
              "\n",
              "  <div id=\"df-9d990c25-c10e-41ce-993d-ea585f8e8602\">\n",
              "    <div class=\"colab-df-container\">\n",
              "      <div>\n",
              "<style scoped>\n",
              "    .dataframe tbody tr th:only-of-type {\n",
              "        vertical-align: middle;\n",
              "    }\n",
              "\n",
              "    .dataframe tbody tr th {\n",
              "        vertical-align: top;\n",
              "    }\n",
              "\n",
              "    .dataframe thead th {\n",
              "        text-align: right;\n",
              "    }\n",
              "</style>\n",
              "<table border=\"1\" class=\"dataframe\">\n",
              "  <thead>\n",
              "    <tr style=\"text-align: right;\">\n",
              "      <th></th>\n",
              "      <th>age</th>\n",
              "      <th>sex</th>\n",
              "      <th>bmi</th>\n",
              "      <th>children</th>\n",
              "      <th>smoker</th>\n",
              "      <th>region</th>\n",
              "      <th>charges</th>\n",
              "    </tr>\n",
              "  </thead>\n",
              "  <tbody>\n",
              "    <tr>\n",
              "      <th>0</th>\n",
              "      <td>19</td>\n",
              "      <td>female</td>\n",
              "      <td>27.900</td>\n",
              "      <td>0</td>\n",
              "      <td>yes</td>\n",
              "      <td>southwest</td>\n",
              "      <td>16884.92400</td>\n",
              "    </tr>\n",
              "    <tr>\n",
              "      <th>1</th>\n",
              "      <td>18</td>\n",
              "      <td>male</td>\n",
              "      <td>33.770</td>\n",
              "      <td>1</td>\n",
              "      <td>no</td>\n",
              "      <td>southeast</td>\n",
              "      <td>1725.55230</td>\n",
              "    </tr>\n",
              "    <tr>\n",
              "      <th>2</th>\n",
              "      <td>28</td>\n",
              "      <td>male</td>\n",
              "      <td>33.000</td>\n",
              "      <td>3</td>\n",
              "      <td>no</td>\n",
              "      <td>southeast</td>\n",
              "      <td>4449.46200</td>\n",
              "    </tr>\n",
              "    <tr>\n",
              "      <th>3</th>\n",
              "      <td>33</td>\n",
              "      <td>male</td>\n",
              "      <td>22.705</td>\n",
              "      <td>0</td>\n",
              "      <td>no</td>\n",
              "      <td>northwest</td>\n",
              "      <td>21984.47061</td>\n",
              "    </tr>\n",
              "    <tr>\n",
              "      <th>4</th>\n",
              "      <td>32</td>\n",
              "      <td>male</td>\n",
              "      <td>28.880</td>\n",
              "      <td>0</td>\n",
              "      <td>no</td>\n",
              "      <td>northwest</td>\n",
              "      <td>3866.85520</td>\n",
              "    </tr>\n",
              "    <tr>\n",
              "      <th>...</th>\n",
              "      <td>...</td>\n",
              "      <td>...</td>\n",
              "      <td>...</td>\n",
              "      <td>...</td>\n",
              "      <td>...</td>\n",
              "      <td>...</td>\n",
              "      <td>...</td>\n",
              "    </tr>\n",
              "    <tr>\n",
              "      <th>1333</th>\n",
              "      <td>50</td>\n",
              "      <td>male</td>\n",
              "      <td>30.970</td>\n",
              "      <td>3</td>\n",
              "      <td>no</td>\n",
              "      <td>northwest</td>\n",
              "      <td>10600.54830</td>\n",
              "    </tr>\n",
              "    <tr>\n",
              "      <th>1334</th>\n",
              "      <td>18</td>\n",
              "      <td>female</td>\n",
              "      <td>31.920</td>\n",
              "      <td>0</td>\n",
              "      <td>no</td>\n",
              "      <td>northeast</td>\n",
              "      <td>2205.98080</td>\n",
              "    </tr>\n",
              "    <tr>\n",
              "      <th>1335</th>\n",
              "      <td>18</td>\n",
              "      <td>female</td>\n",
              "      <td>36.850</td>\n",
              "      <td>0</td>\n",
              "      <td>no</td>\n",
              "      <td>southeast</td>\n",
              "      <td>1629.83350</td>\n",
              "    </tr>\n",
              "    <tr>\n",
              "      <th>1336</th>\n",
              "      <td>21</td>\n",
              "      <td>female</td>\n",
              "      <td>25.800</td>\n",
              "      <td>0</td>\n",
              "      <td>no</td>\n",
              "      <td>southwest</td>\n",
              "      <td>2007.94500</td>\n",
              "    </tr>\n",
              "    <tr>\n",
              "      <th>1337</th>\n",
              "      <td>61</td>\n",
              "      <td>female</td>\n",
              "      <td>29.070</td>\n",
              "      <td>0</td>\n",
              "      <td>yes</td>\n",
              "      <td>northwest</td>\n",
              "      <td>29141.36030</td>\n",
              "    </tr>\n",
              "  </tbody>\n",
              "</table>\n",
              "<p>1338 rows × 7 columns</p>\n",
              "</div>\n",
              "      <button class=\"colab-df-convert\" onclick=\"convertToInteractive('df-9d990c25-c10e-41ce-993d-ea585f8e8602')\"\n",
              "              title=\"Convert this dataframe to an interactive table.\"\n",
              "              style=\"display:none;\">\n",
              "        \n",
              "  <svg xmlns=\"http://www.w3.org/2000/svg\" height=\"24px\"viewBox=\"0 0 24 24\"\n",
              "       width=\"24px\">\n",
              "    <path d=\"M0 0h24v24H0V0z\" fill=\"none\"/>\n",
              "    <path d=\"M18.56 5.44l.94 2.06.94-2.06 2.06-.94-2.06-.94-.94-2.06-.94 2.06-2.06.94zm-11 1L8.5 8.5l.94-2.06 2.06-.94-2.06-.94L8.5 2.5l-.94 2.06-2.06.94zm10 10l.94 2.06.94-2.06 2.06-.94-2.06-.94-.94-2.06-.94 2.06-2.06.94z\"/><path d=\"M17.41 7.96l-1.37-1.37c-.4-.4-.92-.59-1.43-.59-.52 0-1.04.2-1.43.59L10.3 9.45l-7.72 7.72c-.78.78-.78 2.05 0 2.83L4 21.41c.39.39.9.59 1.41.59.51 0 1.02-.2 1.41-.59l7.78-7.78 2.81-2.81c.8-.78.8-2.07 0-2.86zM5.41 20L4 18.59l7.72-7.72 1.47 1.35L5.41 20z\"/>\n",
              "  </svg>\n",
              "      </button>\n",
              "      \n",
              "  <style>\n",
              "    .colab-df-container {\n",
              "      display:flex;\n",
              "      flex-wrap:wrap;\n",
              "      gap: 12px;\n",
              "    }\n",
              "\n",
              "    .colab-df-convert {\n",
              "      background-color: #E8F0FE;\n",
              "      border: none;\n",
              "      border-radius: 50%;\n",
              "      cursor: pointer;\n",
              "      display: none;\n",
              "      fill: #1967D2;\n",
              "      height: 32px;\n",
              "      padding: 0 0 0 0;\n",
              "      width: 32px;\n",
              "    }\n",
              "\n",
              "    .colab-df-convert:hover {\n",
              "      background-color: #E2EBFA;\n",
              "      box-shadow: 0px 1px 2px rgba(60, 64, 67, 0.3), 0px 1px 3px 1px rgba(60, 64, 67, 0.15);\n",
              "      fill: #174EA6;\n",
              "    }\n",
              "\n",
              "    [theme=dark] .colab-df-convert {\n",
              "      background-color: #3B4455;\n",
              "      fill: #D2E3FC;\n",
              "    }\n",
              "\n",
              "    [theme=dark] .colab-df-convert:hover {\n",
              "      background-color: #434B5C;\n",
              "      box-shadow: 0px 1px 3px 1px rgba(0, 0, 0, 0.15);\n",
              "      filter: drop-shadow(0px 1px 2px rgba(0, 0, 0, 0.3));\n",
              "      fill: #FFFFFF;\n",
              "    }\n",
              "  </style>\n",
              "\n",
              "      <script>\n",
              "        const buttonEl =\n",
              "          document.querySelector('#df-9d990c25-c10e-41ce-993d-ea585f8e8602 button.colab-df-convert');\n",
              "        buttonEl.style.display =\n",
              "          google.colab.kernel.accessAllowed ? 'block' : 'none';\n",
              "\n",
              "        async function convertToInteractive(key) {\n",
              "          const element = document.querySelector('#df-9d990c25-c10e-41ce-993d-ea585f8e8602');\n",
              "          const dataTable =\n",
              "            await google.colab.kernel.invokeFunction('convertToInteractive',\n",
              "                                                     [key], {});\n",
              "          if (!dataTable) return;\n",
              "\n",
              "          const docLinkHtml = 'Like what you see? Visit the ' +\n",
              "            '<a target=\"_blank\" href=https://colab.research.google.com/notebooks/data_table.ipynb>data table notebook</a>'\n",
              "            + ' to learn more about interactive tables.';\n",
              "          element.innerHTML = '';\n",
              "          dataTable['output_type'] = 'display_data';\n",
              "          await google.colab.output.renderOutput(dataTable, element);\n",
              "          const docLink = document.createElement('div');\n",
              "          docLink.innerHTML = docLinkHtml;\n",
              "          element.appendChild(docLink);\n",
              "        }\n",
              "      </script>\n",
              "    </div>\n",
              "  </div>\n",
              "  "
            ]
          },
          "metadata": {},
          "execution_count": 60
        }
      ]
    },
    {
      "cell_type": "code",
      "source": [
        "from sklearn.compose import make_column_transformer\n",
        "from sklearn.preprocessing import MinMaxScaler, OneHotEncoder\n",
        "from sklearn.model_selection import train_test_split"
      ],
      "metadata": {
        "id": "YrSVtzusE0Mp"
      },
      "execution_count": null,
      "outputs": []
    },
    {
      "cell_type": "code",
      "source": [
        "X[\"age\"].plot(kind=\"hist\")\n",
        "ct= make_column_transformer(\n",
        "    (MinMaxScaler(), [\"age\", \"bmi\", \"children\"]),\n",
        "    (OneHotEncoder(handle_unknown=\"ignore\"), [\"sex\", \"smoker\", \"region\"])\n",
        ")\n",
        "\n",
        "X= insurance.drop(\"charges\", axis=1)\n",
        "y= insurance[\"charges\"]\n",
        "\n",
        "\n",
        "X_train, X_test, y_train, y_test = train_test_split(X,y, test_size=0.2, random_state=42)\n",
        "\n",
        "ct.fit(X_train)\n",
        "\n",
        "X_train_normal  =ct.transform(X_train)\n",
        "X_test_normal = ct.transform(X_test)"
      ],
      "metadata": {
        "colab": {
          "base_uri": "https://localhost:8080/",
          "height": 265
        },
        "id": "_1URmvRNXbZP",
        "outputId": "3b9aabd9-d747-41a4-d770-1155af7b8810"
      },
      "execution_count": null,
      "outputs": [
        {
          "output_type": "display_data",
          "data": {
            "text/plain": [
              "<Figure size 432x288 with 1 Axes>"
            ],
            "image/png": "[encoded data removed]"
          },
          "metadata": {
            "needs_background": "light"
          }
        }
      ]
    },
    {
      "cell_type": "code",
      "source": [
        "X_train.loc[0], X_train_normal[0]"
      ],
      "metadata": {
        "colab": {
          "base_uri": "https://localhost:8080/"
        },
        "id": "9-p4iWX4Xgkd",
        "outputId": "6f53f1a4-8229-42b8-8157-cb6366246e81"
      },
      "execution_count": null,
      "outputs": [
        {
          "output_type": "execute_result",
          "data": {
            "text/plain": [
              "(age                19\n",
              " sex            female\n",
              " bmi              27.9\n",
              " children            0\n",
              " smoker            yes\n",
              " region      southwest\n",
              " Name: 0, dtype: object,\n",
              " array([0.60869565, 0.10734463, 0.4       , 1.        , 0.        ,\n",
              "        1.        , 0.        , 0.        , 1.        , 0.        ,\n",
              "        0.        ]))"
            ]
          },
          "metadata": {},
          "execution_count": 70
        }
      ]
    },
    {
      "cell_type": "code",
      "source": [
        "tf.random.set_seed(42)\n",
        "model_normalized = tf.keras.Sequential([\n",
        "                                        tf.keras.layers.Dense(100),\n",
        "                                        tf.keras.layers.Dense(10),\n",
        "                                        tf.keras.layers.Dense(1)\n",
        "])\n",
        "model_normalized.compile(loss=tf.keras.losses.MAE,\n",
        "                         optimizer=tf.keras.optimizers.Adam(),\n",
        "                         metrics=[\"mae\"])\n",
        "model_normalized.fit(X_train_normal, y_train, epochs=100, verbose=0)"
      ],
      "metadata": {
        "colab": {
          "base_uri": "https://localhost:8080/"
        },
        "id": "PMcm1z_4Zrwu",
        "outputId": "8bcef1c2-1256-459d-d246-49b83070d1e4"
      },
      "execution_count": null,
      "outputs": [
        {
          "output_type": "execute_result",
          "data": {
            "text/plain": [
              "<keras.callbacks.History at 0x7fcd5261a850>"
            ]
          },
          "metadata": {},
          "execution_count": 83
        }
      ]
    },
    {
      "cell_type": "code",
      "source": [
        "model_normalized.evaluate(X_test_normal, y_test)"
      ],
      "metadata": {
        "colab": {
          "base_uri": "https://localhost:8080/"
        },
        "id": "lCpPlTu1bbod",
        "outputId": "daa19c0d-cfdf-4605-8a1d-497daef1dd5e"
      },
      "execution_count": null,
      "outputs": [
        {
          "output_type": "stream",
          "name": "stdout",
          "text": [
            "9/9 [==============================] - 0s 2ms/step - loss: 3438.7844 - mae: 3438.7844\n"
          ]
        },
        {
          "output_type": "execute_result",
          "data": {
            "text/plain": [
              "[3438.784423828125, 3438.784423828125]"
            ]
          },
          "metadata": {},
          "execution_count": 84
        }
      ]
    },
    {
      "cell_type": "code",
      "source": [],
      "metadata": {
        "id": "fNuqbl_Ubf2-"
      },
      "execution_count": null,
      "outputs": []
    }
  ],
  "metadata": {
    "colab": {
      "provenance": []
    },
    "kernelspec": {
      "display_name": "Python 3",
      "name": "python3"
    },
    "language_info": {
      "name": "python"
    }
  },
  "nbformat": 4,
  "nbformat_minor": 0
}